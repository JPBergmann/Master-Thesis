{
 "cells": [
  {
   "attachments": {},
   "cell_type": "markdown",
   "metadata": {},
   "source": [
    "# Data Cleaning for Thesis"
   ]
  },
  {
   "attachments": {},
   "cell_type": "markdown",
   "metadata": {},
   "source": [
    "## File and Column Abbreviations\n",
    "\n",
    "| Abreviation | Description                |\n",
    "|-------------|----------------------------|\n",
    "| CP          | (Adjusted) Closing Prices  |\n",
    "| CR          | Current (Debt) Ratio       |\n",
    "| DER         | Debt to Equity Ratio       |\n",
    "| FCF         | Free Cash Flow             |\n",
    "| HP          | High Price                 |\n",
    "| LP          | Low Price                  |\n",
    "| OP          | Open Price                 |\n",
    "| PBR         | Price to Book Ratio        |\n",
    "| PER         | Price Earnings Ratio       |\n",
    "| PM          | Profit Margin              |\n",
    "| PSR         | Price to Sales Ratio       |\n",
    "| ROA         | Return on Assets           |\n",
    "| ROE         | Return on (Common) Equity  |\n",
    "| VOL         | Volume                     |"
   ]
  },
  {
   "cell_type": "code",
   "execution_count": 1,
   "metadata": {},
   "outputs": [],
   "source": [
    "import pandas as pd\n",
    "import numpy as np\n",
    "import glob\n",
    "import os\n",
    "from tqdm.auto import tqdm\n",
    "from ta import add_volatility_ta, add_momentum_ta, add_volume_ta, add_trend_ta, add_all_ta_features\n",
    "\n",
    "# pip install ta  -> technical analysis\n",
    "\n",
    "from sklearn.preprocessing import MinMaxScaler, StandardScaler\n",
    "import matplotlib.pyplot as plt\n",
    "pd.set_option('display.max_rows', 100)\n",
    "\n",
    "from statsmodels.tsa.stattools import adfuller\n",
    "\n",
    "import concurrent.futures\n",
    "from functools import partial\n",
    "\n",
    "# Ignore warnings\n",
    "import warnings\n",
    "warnings.filterwarnings('ignore')"
   ]
  },
  {
   "cell_type": "code",
   "execution_count": 2,
   "metadata": {},
   "outputs": [],
   "source": [
    "tickers = pd.read_excel(\"../DATA/Tickers/Company_Tickers.xlsx\", sheet_name=\"UNIQUE BLOOMBERG\", usecols=[4])[\"Ticker HC\"].str.split().str[0].tolist()"
   ]
  },
  {
   "cell_type": "code",
   "execution_count": 3,
   "metadata": {},
   "outputs": [],
   "source": [
    "def get_financials(folder_path, tickers):\n",
    "    \"\"\"\n",
    "    Utility function to read all Excel files in a folder into a single data frame.\n",
    "    Expects all excel files to have the same format.\n",
    "\n",
    "    Parameters\n",
    "    ----------\n",
    "    folder_path : str\n",
    "        Path to the folder containing the Excel files.\n",
    "    tickers : list\n",
    "        List of tickers to use as column names.\n",
    "\n",
    "    Returns\n",
    "    -------\n",
    "    pd.DataFrame\n",
    "        Data frame containing all the data from the Excel files.\n",
    "    \"\"\"\n",
    "\n",
    "    # Initialize an empty dictionary to store the data frames\n",
    "    data_frames = {}\n",
    "\n",
    "    # Find all Excel files in the folder\n",
    "    file_paths = glob.glob(os.path.join(folder_path, \"*.xlsx\"))\n",
    "\n",
    "    # Iterate over the file paths\n",
    "    for file_path in tqdm(file_paths, desc=f\"Reading files\", total=len(file_paths)):\n",
    "        # Extract the file name without the extension\n",
    "        file_name = os.path.splitext(os.path.basename(file_path))[0]\n",
    "        \n",
    "        # Read the Excel file into a data frame\n",
    "        df = pd.read_excel(file_path, sheet_name=\"HC\", header=1, na_values=[\"#N/A N/A\", \"#N/A Requesting Data...\"], names=tickers)\n",
    "        df = df.add_suffix(f\"_{file_name}\")\n",
    "        \n",
    "        # Store the data frame in the dictionary using the file name as the key\n",
    "        data_frames[file_name] = df\n",
    "\n",
    "    return pd.concat(data_frames.values(), axis=1)"
   ]
  },
  {
   "attachments": {},
   "cell_type": "markdown",
   "metadata": {},
   "source": [
    "## Daily Data"
   ]
  },
  {
   "attachments": {},
   "cell_type": "markdown",
   "metadata": {},
   "source": [
    "### Macroeconomic Indicators"
   ]
  },
  {
   "cell_type": "code",
   "execution_count": 4,
   "metadata": {},
   "outputs": [
    {
     "name": "stdout",
     "output_type": "stream",
     "text": [
      "<class 'pandas.core.frame.DataFrame'>\n",
      "RangeIndex: 6254 entries, 2 to 6255\n",
      "Columns: 56 entries, Indicator: to EUCBCI Index\n",
      "dtypes: float64(1), object(55)\n",
      "memory usage: 2.7+ MB\n"
     ]
    }
   ],
   "source": [
    "day_macro_US_CA = pd.read_excel(\"../DATA/Daily/Macro/USCA_Macro.xlsx\", sheet_name=\"HC\", header=1, na_values=[\"#N/A N/A\", \"#N/A Requesting Data...\"]).iloc[2:]\n",
    "day_macro_US_CA.info(verbose=False)"
   ]
  },
  {
   "cell_type": "code",
   "execution_count": 5,
   "metadata": {},
   "outputs": [
    {
     "name": "stdout",
     "output_type": "stream",
     "text": [
      "<class 'pandas.core.frame.DataFrame'>\n",
      "RangeIndex: 5881 entries, 2 to 5882\n",
      "Columns: 56 entries, Indicator: to EUCBCI Index\n",
      "dtypes: object(56)\n",
      "memory usage: 2.5+ MB\n"
     ]
    }
   ],
   "source": [
    "day_macro_US = pd.read_excel(\"../DATA/Daily/Macro/US_Macro.xlsx\", sheet_name=\"HC\", header=1, na_values=[\"#N/A N/A\", \"#N/A Requesting Data...\"]).iloc[2:]\n",
    "day_macro_US.info(verbose=False)"
   ]
  },
  {
   "cell_type": "code",
   "execution_count": 6,
   "metadata": {},
   "outputs": [],
   "source": [
    "day_macro_US_CA.index = pd.to_datetime(day_macro_US_CA[\"Indicator:\"].values)\n",
    "day_macro_US.index = pd.to_datetime(day_macro_US[\"Indicator:\"].values)"
   ]
  },
  {
   "cell_type": "code",
   "execution_count": 7,
   "metadata": {},
   "outputs": [],
   "source": [
    "day_macro_US_CA = day_macro_US_CA.drop(columns=[\"Indicator:\"])\n",
    "day_macro_US_CA = day_macro_US_CA[~day_macro_US_CA.index.isna()]\n",
    "day_macro_US_CA = day_macro_US_CA.loc[\"2000-01-04\" : \"2023-05-31\"]\n",
    "day_macro_US_CA = day_macro_US_CA.ffill()\n",
    "day_macro_US_CA = day_macro_US_CA.loc[:, day_macro_US_CA.isna().mean() < 0.6]\n",
    "day_macro_US_CA = day_macro_US_CA.fillna(0)\n",
    "\n",
    "day_macro_US = day_macro_US.drop(columns=[\"Indicator:\"])\n",
    "day_macro_US = day_macro_US[~day_macro_US.index.isna()]\n",
    "day_macro_US = day_macro_US.loc[\"2000-01-04\" : \"2023-05-31\"]\n",
    "day_macro_US = day_macro_US.ffill()\n",
    "day_macro_US = day_macro_US.loc[:, day_macro_US.isna().mean() < 0.6]\n",
    "day_macro_US = day_macro_US.fillna(0)"
   ]
  },
  {
   "cell_type": "code",
   "execution_count": 8,
   "metadata": {},
   "outputs": [
    {
     "data": {
      "text/html": [
       "<div>\n",
       "<style scoped>\n",
       "    .dataframe tbody tr th:only-of-type {\n",
       "        vertical-align: middle;\n",
       "    }\n",
       "\n",
       "    .dataframe tbody tr th {\n",
       "        vertical-align: top;\n",
       "    }\n",
       "\n",
       "    .dataframe thead th {\n",
       "        text-align: right;\n",
       "    }\n",
       "</style>\n",
       "<table border=\"1\" class=\"dataframe\">\n",
       "  <thead>\n",
       "    <tr style=\"text-align: right;\">\n",
       "      <th></th>\n",
       "      <th>IVEY Index</th>\n",
       "      <th>CAEICAIR Index</th>\n",
       "      <th>CACAPUTL Index</th>\n",
       "      <th>CACOUSCO Index</th>\n",
       "      <th>GCAN10YR Index</th>\n",
       "      <th>GCAN2YR Index</th>\n",
       "      <th>OEOTKLAF Index</th>\n",
       "      <th>RRCACONT Index</th>\n",
       "      <th>SPTSX Index</th>\n",
       "      <th>MXWO Index</th>\n",
       "      <th>...</th>\n",
       "      <th>CAIPYOY Index</th>\n",
       "      <th>COSYNFRM Index</th>\n",
       "      <th>IMP1YOY% Index</th>\n",
       "      <th>CAWCWGCY Index</th>\n",
       "      <th>CDGGBE10 Index</th>\n",
       "      <th>CL1 Comdty</th>\n",
       "      <th>CRB CMDT Index</th>\n",
       "      <th>EHSLMP%Y Index</th>\n",
       "      <th>OUSTUS Index</th>\n",
       "      <th>EUCBCI Index</th>\n",
       "    </tr>\n",
       "  </thead>\n",
       "  <tbody>\n",
       "    <tr>\n",
       "      <th>2000-01-04</th>\n",
       "      <td>0.0</td>\n",
       "      <td>232810</td>\n",
       "      <td>0.0</td>\n",
       "      <td>107.9</td>\n",
       "      <td>6.402</td>\n",
       "      <td>6.054</td>\n",
       "      <td>101.1179</td>\n",
       "      <td>0.0</td>\n",
       "      <td>8202.60</td>\n",
       "      <td>1378.31</td>\n",
       "      <td>...</td>\n",
       "      <td>2.34</td>\n",
       "      <td>0.0</td>\n",
       "      <td>5.3</td>\n",
       "      <td>0.0</td>\n",
       "      <td>0.0</td>\n",
       "      <td>25.55</td>\n",
       "      <td>226.71</td>\n",
       "      <td>0.51</td>\n",
       "      <td>85.70</td>\n",
       "      <td>90.2</td>\n",
       "    </tr>\n",
       "    <tr>\n",
       "      <th>2000-01-05</th>\n",
       "      <td>0.0</td>\n",
       "      <td>218890</td>\n",
       "      <td>86.1</td>\n",
       "      <td>108.0</td>\n",
       "      <td>6.476</td>\n",
       "      <td>6.135</td>\n",
       "      <td>101.2076</td>\n",
       "      <td>0.0</td>\n",
       "      <td>8119.42</td>\n",
       "      <td>1359.54</td>\n",
       "      <td>...</td>\n",
       "      <td>3.74</td>\n",
       "      <td>0.9</td>\n",
       "      <td>7.0</td>\n",
       "      <td>3.1</td>\n",
       "      <td>0.0</td>\n",
       "      <td>24.91</td>\n",
       "      <td>229.42</td>\n",
       "      <td>1.54</td>\n",
       "      <td>86.04</td>\n",
       "      <td>90.5</td>\n",
       "    </tr>\n",
       "    <tr>\n",
       "      <th>2000-01-06</th>\n",
       "      <td>0.0</td>\n",
       "      <td>218890</td>\n",
       "      <td>86.1</td>\n",
       "      <td>108.0</td>\n",
       "      <td>6.410</td>\n",
       "      <td>6.070</td>\n",
       "      <td>101.2076</td>\n",
       "      <td>0.0</td>\n",
       "      <td>8114.24</td>\n",
       "      <td>1344.06</td>\n",
       "      <td>...</td>\n",
       "      <td>3.74</td>\n",
       "      <td>0.9</td>\n",
       "      <td>7.0</td>\n",
       "      <td>3.1</td>\n",
       "      <td>0.0</td>\n",
       "      <td>24.78</td>\n",
       "      <td>228.18</td>\n",
       "      <td>1.54</td>\n",
       "      <td>86.04</td>\n",
       "      <td>90.5</td>\n",
       "    </tr>\n",
       "    <tr>\n",
       "      <th>2000-01-07</th>\n",
       "      <td>0.0</td>\n",
       "      <td>218890</td>\n",
       "      <td>86.1</td>\n",
       "      <td>108.0</td>\n",
       "      <td>6.406</td>\n",
       "      <td>6.076</td>\n",
       "      <td>101.2076</td>\n",
       "      <td>0.0</td>\n",
       "      <td>8429.42</td>\n",
       "      <td>1375.88</td>\n",
       "      <td>...</td>\n",
       "      <td>3.74</td>\n",
       "      <td>0.9</td>\n",
       "      <td>7.0</td>\n",
       "      <td>3.1</td>\n",
       "      <td>0.0</td>\n",
       "      <td>24.22</td>\n",
       "      <td>228.92</td>\n",
       "      <td>1.54</td>\n",
       "      <td>86.04</td>\n",
       "      <td>90.5</td>\n",
       "    </tr>\n",
       "    <tr>\n",
       "      <th>2000-01-10</th>\n",
       "      <td>0.0</td>\n",
       "      <td>218890</td>\n",
       "      <td>86.1</td>\n",
       "      <td>108.0</td>\n",
       "      <td>6.421</td>\n",
       "      <td>6.085</td>\n",
       "      <td>101.2076</td>\n",
       "      <td>0.0</td>\n",
       "      <td>8602.50</td>\n",
       "      <td>1391.11</td>\n",
       "      <td>...</td>\n",
       "      <td>3.74</td>\n",
       "      <td>0.9</td>\n",
       "      <td>7.0</td>\n",
       "      <td>3.1</td>\n",
       "      <td>0.0</td>\n",
       "      <td>24.67</td>\n",
       "      <td>228.70</td>\n",
       "      <td>1.54</td>\n",
       "      <td>86.04</td>\n",
       "      <td>90.5</td>\n",
       "    </tr>\n",
       "  </tbody>\n",
       "</table>\n",
       "<p>5 rows × 51 columns</p>\n",
       "</div>"
      ],
      "text/plain": [
       "            IVEY Index  CAEICAIR Index  CACAPUTL Index  CACOUSCO Index  \\\n",
       "2000-01-04         0.0          232810             0.0           107.9   \n",
       "2000-01-05         0.0          218890            86.1           108.0   \n",
       "2000-01-06         0.0          218890            86.1           108.0   \n",
       "2000-01-07         0.0          218890            86.1           108.0   \n",
       "2000-01-10         0.0          218890            86.1           108.0   \n",
       "\n",
       "            GCAN10YR Index  GCAN2YR Index  OEOTKLAF Index  RRCACONT Index  \\\n",
       "2000-01-04           6.402          6.054        101.1179             0.0   \n",
       "2000-01-05           6.476          6.135        101.2076             0.0   \n",
       "2000-01-06           6.410          6.070        101.2076             0.0   \n",
       "2000-01-07           6.406          6.076        101.2076             0.0   \n",
       "2000-01-10           6.421          6.085        101.2076             0.0   \n",
       "\n",
       "            SPTSX Index  MXWO Index  ...  CAIPYOY Index  COSYNFRM Index  \\\n",
       "2000-01-04      8202.60     1378.31  ...           2.34             0.0   \n",
       "2000-01-05      8119.42     1359.54  ...           3.74             0.9   \n",
       "2000-01-06      8114.24     1344.06  ...           3.74             0.9   \n",
       "2000-01-07      8429.42     1375.88  ...           3.74             0.9   \n",
       "2000-01-10      8602.50     1391.11  ...           3.74             0.9   \n",
       "\n",
       "            IMP1YOY% Index  CAWCWGCY Index  CDGGBE10 Index  CL1 Comdty  \\\n",
       "2000-01-04             5.3             0.0             0.0       25.55   \n",
       "2000-01-05             7.0             3.1             0.0       24.91   \n",
       "2000-01-06             7.0             3.1             0.0       24.78   \n",
       "2000-01-07             7.0             3.1             0.0       24.22   \n",
       "2000-01-10             7.0             3.1             0.0       24.67   \n",
       "\n",
       "            CRB CMDT Index  EHSLMP%Y Index  OUSTUS Index  EUCBCI Index  \n",
       "2000-01-04          226.71            0.51         85.70          90.2  \n",
       "2000-01-05          229.42            1.54         86.04          90.5  \n",
       "2000-01-06          228.18            1.54         86.04          90.5  \n",
       "2000-01-07          228.92            1.54         86.04          90.5  \n",
       "2000-01-10          228.70            1.54         86.04          90.5  \n",
       "\n",
       "[5 rows x 51 columns]"
      ]
     },
     "execution_count": 8,
     "metadata": {},
     "output_type": "execute_result"
    }
   ],
   "source": [
    "day_macro_US_CA.head()"
   ]
  },
  {
   "cell_type": "code",
   "execution_count": 9,
   "metadata": {},
   "outputs": [
    {
     "data": {
      "text/html": [
       "<div>\n",
       "<style scoped>\n",
       "    .dataframe tbody tr th:only-of-type {\n",
       "        vertical-align: middle;\n",
       "    }\n",
       "\n",
       "    .dataframe tbody tr th {\n",
       "        vertical-align: top;\n",
       "    }\n",
       "\n",
       "    .dataframe thead th {\n",
       "        text-align: right;\n",
       "    }\n",
       "</style>\n",
       "<table border=\"1\" class=\"dataframe\">\n",
       "  <thead>\n",
       "    <tr style=\"text-align: right;\">\n",
       "      <th></th>\n",
       "      <th>NAPMPMI Index</th>\n",
       "      <th>NAPMNMI Index</th>\n",
       "      <th>INJCJC4 Index</th>\n",
       "      <th>CPTICHNG Index</th>\n",
       "      <th>LEI TOTL Index</th>\n",
       "      <th>USGG10YR Index</th>\n",
       "      <th>USGG2YR Index</th>\n",
       "      <th>OEOTKLAF Index</th>\n",
       "      <th>RAILORGT Index</th>\n",
       "      <th>SPX Index</th>\n",
       "      <th>...</th>\n",
       "      <th>PPI YOY Index</th>\n",
       "      <th>COSYNFRM Index</th>\n",
       "      <th>IMP1YOY% Index</th>\n",
       "      <th>WAGETRND Index</th>\n",
       "      <th>USGGBE10 Index</th>\n",
       "      <th>CL1 Comdty</th>\n",
       "      <th>CRB CMDT Index</th>\n",
       "      <th>EHSLMP%Y Index</th>\n",
       "      <th>OUSTUS Index</th>\n",
       "      <th>EUCBCI Index</th>\n",
       "    </tr>\n",
       "  </thead>\n",
       "  <tbody>\n",
       "    <tr>\n",
       "      <th>2000-01-04</th>\n",
       "      <td>57.8</td>\n",
       "      <td>56.9</td>\n",
       "      <td>278.25</td>\n",
       "      <td>82.5152</td>\n",
       "      <td>92.1</td>\n",
       "      <td>6.594</td>\n",
       "      <td>6.358</td>\n",
       "      <td>101.2076</td>\n",
       "      <td>332085</td>\n",
       "      <td>1402.11</td>\n",
       "      <td>...</td>\n",
       "      <td>2.9</td>\n",
       "      <td>0.9</td>\n",
       "      <td>7.0</td>\n",
       "      <td>100.44</td>\n",
       "      <td>2.1138</td>\n",
       "      <td>24.91</td>\n",
       "      <td>229.42</td>\n",
       "      <td>1.54</td>\n",
       "      <td>86.04</td>\n",
       "      <td>90.5</td>\n",
       "    </tr>\n",
       "    <tr>\n",
       "      <th>2000-01-05</th>\n",
       "      <td>57.8</td>\n",
       "      <td>56.9</td>\n",
       "      <td>278.25</td>\n",
       "      <td>82.5152</td>\n",
       "      <td>92.1</td>\n",
       "      <td>6.524</td>\n",
       "      <td>6.299</td>\n",
       "      <td>101.2076</td>\n",
       "      <td>332085</td>\n",
       "      <td>1403.45</td>\n",
       "      <td>...</td>\n",
       "      <td>2.9</td>\n",
       "      <td>0.9</td>\n",
       "      <td>7.0</td>\n",
       "      <td>100.44</td>\n",
       "      <td>2.1138</td>\n",
       "      <td>24.78</td>\n",
       "      <td>228.18</td>\n",
       "      <td>1.54</td>\n",
       "      <td>86.04</td>\n",
       "      <td>90.5</td>\n",
       "    </tr>\n",
       "    <tr>\n",
       "      <th>2000-01-06</th>\n",
       "      <td>57.8</td>\n",
       "      <td>56.9</td>\n",
       "      <td>278.25</td>\n",
       "      <td>82.5152</td>\n",
       "      <td>92.1</td>\n",
       "      <td>6.515</td>\n",
       "      <td>6.308</td>\n",
       "      <td>101.2076</td>\n",
       "      <td>332085</td>\n",
       "      <td>1441.47</td>\n",
       "      <td>...</td>\n",
       "      <td>2.9</td>\n",
       "      <td>0.9</td>\n",
       "      <td>7.0</td>\n",
       "      <td>100.44</td>\n",
       "      <td>2.1138</td>\n",
       "      <td>24.22</td>\n",
       "      <td>228.92</td>\n",
       "      <td>1.54</td>\n",
       "      <td>86.04</td>\n",
       "      <td>90.5</td>\n",
       "    </tr>\n",
       "    <tr>\n",
       "      <th>2000-01-07</th>\n",
       "      <td>57.8</td>\n",
       "      <td>56.9</td>\n",
       "      <td>284.75</td>\n",
       "      <td>82.5152</td>\n",
       "      <td>92.1</td>\n",
       "      <td>6.552</td>\n",
       "      <td>6.359</td>\n",
       "      <td>101.2076</td>\n",
       "      <td>325119</td>\n",
       "      <td>1457.60</td>\n",
       "      <td>...</td>\n",
       "      <td>2.9</td>\n",
       "      <td>0.9</td>\n",
       "      <td>7.0</td>\n",
       "      <td>100.44</td>\n",
       "      <td>2.1138</td>\n",
       "      <td>24.67</td>\n",
       "      <td>228.70</td>\n",
       "      <td>1.54</td>\n",
       "      <td>86.04</td>\n",
       "      <td>90.5</td>\n",
       "    </tr>\n",
       "    <tr>\n",
       "      <th>2000-01-10</th>\n",
       "      <td>57.8</td>\n",
       "      <td>56.9</td>\n",
       "      <td>284.75</td>\n",
       "      <td>82.5152</td>\n",
       "      <td>92.1</td>\n",
       "      <td>6.657</td>\n",
       "      <td>6.428</td>\n",
       "      <td>101.2076</td>\n",
       "      <td>325119</td>\n",
       "      <td>1438.56</td>\n",
       "      <td>...</td>\n",
       "      <td>2.9</td>\n",
       "      <td>0.9</td>\n",
       "      <td>7.0</td>\n",
       "      <td>100.44</td>\n",
       "      <td>2.1138</td>\n",
       "      <td>25.77</td>\n",
       "      <td>227.77</td>\n",
       "      <td>1.54</td>\n",
       "      <td>86.04</td>\n",
       "      <td>90.5</td>\n",
       "    </tr>\n",
       "  </tbody>\n",
       "</table>\n",
       "<p>5 rows × 54 columns</p>\n",
       "</div>"
      ],
      "text/plain": [
       "            NAPMPMI Index  NAPMNMI Index  INJCJC4 Index  CPTICHNG Index  \\\n",
       "2000-01-04           57.8           56.9         278.25         82.5152   \n",
       "2000-01-05           57.8           56.9         278.25         82.5152   \n",
       "2000-01-06           57.8           56.9         278.25         82.5152   \n",
       "2000-01-07           57.8           56.9         284.75         82.5152   \n",
       "2000-01-10           57.8           56.9         284.75         82.5152   \n",
       "\n",
       "            LEI TOTL Index  USGG10YR Index  USGG2YR Index  OEOTKLAF Index  \\\n",
       "2000-01-04            92.1           6.594          6.358        101.2076   \n",
       "2000-01-05            92.1           6.524          6.299        101.2076   \n",
       "2000-01-06            92.1           6.515          6.308        101.2076   \n",
       "2000-01-07            92.1           6.552          6.359        101.2076   \n",
       "2000-01-10            92.1           6.657          6.428        101.2076   \n",
       "\n",
       "            RAILORGT Index  SPX Index  ...  PPI YOY Index  COSYNFRM Index  \\\n",
       "2000-01-04          332085    1402.11  ...            2.9             0.9   \n",
       "2000-01-05          332085    1403.45  ...            2.9             0.9   \n",
       "2000-01-06          332085    1441.47  ...            2.9             0.9   \n",
       "2000-01-07          325119    1457.60  ...            2.9             0.9   \n",
       "2000-01-10          325119    1438.56  ...            2.9             0.9   \n",
       "\n",
       "            IMP1YOY% Index  WAGETRND Index  USGGBE10 Index  CL1 Comdty  \\\n",
       "2000-01-04             7.0          100.44          2.1138       24.91   \n",
       "2000-01-05             7.0          100.44          2.1138       24.78   \n",
       "2000-01-06             7.0          100.44          2.1138       24.22   \n",
       "2000-01-07             7.0          100.44          2.1138       24.67   \n",
       "2000-01-10             7.0          100.44          2.1138       25.77   \n",
       "\n",
       "            CRB CMDT Index  EHSLMP%Y Index  OUSTUS Index  EUCBCI Index  \n",
       "2000-01-04          229.42            1.54         86.04          90.5  \n",
       "2000-01-05          228.18            1.54         86.04          90.5  \n",
       "2000-01-06          228.92            1.54         86.04          90.5  \n",
       "2000-01-07          228.70            1.54         86.04          90.5  \n",
       "2000-01-10          227.77            1.54         86.04          90.5  \n",
       "\n",
       "[5 rows x 54 columns]"
      ]
     },
     "execution_count": 9,
     "metadata": {},
     "output_type": "execute_result"
    }
   ],
   "source": [
    "day_macro_US.head()"
   ]
  },
  {
   "cell_type": "code",
   "execution_count": 10,
   "metadata": {},
   "outputs": [
    {
     "name": "stdout",
     "output_type": "stream",
     "text": [
      "<class 'pandas.core.frame.DataFrame'>\n",
      "DatetimeIndex: 5858 entries, 2000-01-04 to 2023-05-31\n",
      "Columns: 51 entries, IVEY Index to EUCBCI Index\n",
      "dtypes: float64(41), int64(10)\n",
      "memory usage: 2.3 MB\n"
     ]
    }
   ],
   "source": [
    "day_macro_US_CA.info(verbose=False)"
   ]
  },
  {
   "cell_type": "code",
   "execution_count": 11,
   "metadata": {},
   "outputs": [
    {
     "name": "stdout",
     "output_type": "stream",
     "text": [
      "<class 'pandas.core.frame.DataFrame'>\n",
      "DatetimeIndex: 5858 entries, 2000-01-04 to 2023-05-31\n",
      "Columns: 54 entries, NAPMPMI Index to EUCBCI Index\n",
      "dtypes: float64(45), int64(9)\n",
      "memory usage: 2.5 MB\n"
     ]
    }
   ],
   "source": [
    "day_macro_US.info(verbose=False)"
   ]
  },
  {
   "cell_type": "code",
   "execution_count": 12,
   "metadata": {},
   "outputs": [],
   "source": [
    "day_macro_US_CA.to_parquet(\"../DATA/Daily/Processed/day_data_macro_USCA.parquet\", compression=\"gzip\")\n",
    "day_macro_US.to_parquet(\"../DATA/Daily/Processed/day_data_macro_US.parquet\", compression=\"gzip\")"
   ]
  },
  {
   "attachments": {},
   "cell_type": "markdown",
   "metadata": {},
   "source": [
    "### Financial Indicators"
   ]
  },
  {
   "cell_type": "code",
   "execution_count": 13,
   "metadata": {},
   "outputs": [
    {
     "data": {
      "application/vnd.jupyter.widget-view+json": {
       "model_id": "9165fb9b2aff458caad49e8b69b9e685",
       "version_major": 2,
       "version_minor": 0
      },
      "text/plain": [
       "Reading files:   0%|          | 0/14 [00:00<?, ?it/s]"
      ]
     },
     "metadata": {},
     "output_type": "display_data"
    }
   ],
   "source": [
    "day_fin_data = get_financials(folder_path=\"../DATA/Daily/Financials\", tickers=tickers)"
   ]
  },
  {
   "cell_type": "code",
   "execution_count": 14,
   "metadata": {},
   "outputs": [],
   "source": [
    "day_fin = day_fin_data.loc[\"2000-01-04\" : \"2023-05-31\"]"
   ]
  },
  {
   "cell_type": "code",
   "execution_count": 15,
   "metadata": {},
   "outputs": [
    {
     "data": {
      "text/plain": [
       "18769399"
      ]
     },
     "execution_count": 15,
     "metadata": {},
     "output_type": "execute_result"
    }
   ],
   "source": [
    "day_fin.isna().sum().sum()"
   ]
  },
  {
   "cell_type": "code",
   "execution_count": 16,
   "metadata": {},
   "outputs": [],
   "source": [
    "# Fill NaN values with the previous value (this allows us to set NAN values to 0 before the first trading day while having no NAN in the time series)\n",
    "day_fin = day_fin.ffill()"
   ]
  },
  {
   "cell_type": "code",
   "execution_count": 17,
   "metadata": {},
   "outputs": [
    {
     "data": {
      "text/plain": [
       "17268180"
      ]
     },
     "execution_count": 17,
     "metadata": {},
     "output_type": "execute_result"
    }
   ],
   "source": [
    "day_fin.isna().sum().sum()"
   ]
  },
  {
   "cell_type": "code",
   "execution_count": 18,
   "metadata": {},
   "outputs": [],
   "source": [
    "# % missing price values for each ticker (filter for columns that end in _CP, _HP, _LP, _OP, _VOL)\n",
    "day_sparse_prices = day_fin.filter(regex=\"(_CP|_HP|_LP|_OP|_VOL)\").isna().sum() / len(day_fin)\n",
    "# Get the ticker symbols for which more than 60% of the price data is missing (we want at least ~10 years of data)\n",
    "day_sparse_tickers = day_sparse_prices[day_sparse_prices > 0.6].index.str.split(\"_\").str[0].unique()\n",
    "day_tickers_clean = [ticker for ticker in tickers if ticker not in day_sparse_tickers]"
   ]
  },
  {
   "cell_type": "code",
   "execution_count": 19,
   "metadata": {},
   "outputs": [
    {
     "data": {
      "text/plain": [
       "(553, 144, 409)"
      ]
     },
     "execution_count": 19,
     "metadata": {},
     "output_type": "execute_result"
    }
   ],
   "source": [
    "len(tickers), len(day_sparse_tickers), len(day_tickers_clean)"
   ]
  },
  {
   "cell_type": "code",
   "execution_count": 20,
   "metadata": {},
   "outputs": [],
   "source": [
    "# Save as txt file\n",
    "with open(\"../DATA/Tickers/day_tickers_clean.txt\", \"w\") as f:\n",
    "    for ticker in day_tickers_clean:\n",
    "        f.write(f\"{ticker}\\n\")"
   ]
  },
  {
   "cell_type": "code",
   "execution_count": 21,
   "metadata": {},
   "outputs": [],
   "source": [
    "# Select the columns that start with the sparse ticker symbols\n",
    "for ticker in day_sparse_tickers:\n",
    "    day_fin.drop(day_fin.filter(regex=f\"^{ticker}_\").columns, axis=1, inplace=True)"
   ]
  },
  {
   "cell_type": "code",
   "execution_count": 22,
   "metadata": {},
   "outputs": [
    {
     "data": {
      "text/plain": [
       "0"
      ]
     },
     "execution_count": 22,
     "metadata": {},
     "output_type": "execute_result"
    }
   ],
   "source": [
    "(day_fin.filter(regex=\"(_CP|_HP|_LP|_OP|_VOL)\").isna().sum() / len(day_fin) > 0.6).sum() # Check"
   ]
  },
  {
   "cell_type": "code",
   "execution_count": 23,
   "metadata": {},
   "outputs": [],
   "source": [
    "# Set rows with no closing price to NAN to have a clean time series\n",
    "for ticker in day_tickers_clean:\n",
    "    ticker_df = day_fin.filter(regex=f\"^{ticker}_\")\n",
    "    day_fin.loc[ticker_df[f\"{ticker}_CP\"].isna(), ticker_df.columns] = np.nan"
   ]
  },
  {
   "attachments": {},
   "cell_type": "markdown",
   "metadata": {},
   "source": [
    "### Technical Indicators"
   ]
  },
  {
   "cell_type": "code",
   "execution_count": 24,
   "metadata": {},
   "outputs": [],
   "source": [
    "day_fin_tec = day_fin.copy()"
   ]
  },
  {
   "cell_type": "code",
   "execution_count": 25,
   "metadata": {},
   "outputs": [
    {
     "data": {
      "application/vnd.jupyter.widget-view+json": {
       "model_id": "cba9934310ff4b08a4d3272739edc657",
       "version_major": 2,
       "version_minor": 0
      },
      "text/plain": [
       "  0%|          | 0/409 [00:00<?, ?it/s]"
      ]
     },
     "metadata": {},
     "output_type": "display_data"
    }
   ],
   "source": [
    "technical_dfs = []\n",
    "\n",
    "for ticker in tqdm(day_tickers_clean):\n",
    "    price_data = day_fin_tec.copy()[[f\"{ticker}_OP\", f\"{ticker}_HP\", f\"{ticker}_LP\", f\"{ticker}_CP\", f\"{ticker}_VOL\"]]\n",
    "    day_fin_tec[f\"{ticker}_Is_Listed\"] = np.where(day_fin_tec[f\"{ticker}_CP\"].isna(), 0, 1)\n",
    "    technical_indicators = add_all_ta_features(df=price_data.copy(), open=f\"{ticker}_OP\", high=f\"{ticker}_HP\", low=f\"{ticker}_LP\", close=f\"{ticker}_CP\", volume=f\"{ticker}_VOL\", fillna=True, colprefix=f\"{ticker}_\")\n",
    "    technical_dfs.append(technical_indicators.drop(columns=price_data.columns))"
   ]
  },
  {
   "cell_type": "code",
   "execution_count": 26,
   "metadata": {},
   "outputs": [],
   "source": [
    "# technical_dfs = []\n",
    "\n",
    "# for ticker in tqdm(day_tickers_clean):\n",
    "#     price_data = day_fin_tec.copy()[[f\"{ticker}_OP\", f\"{ticker}_HP\", f\"{ticker}_LP\", f\"{ticker}_CP\", f\"{ticker}_VOL\"]]\n",
    "#     day_fin_tec[f\"{ticker}_Is_Listed\"] = np.where(day_fin_tec[f\"{ticker}_CP\"].isna(), 0, 1)\n",
    "#     technical_indicators = add_volatility_ta(df=price_data.copy(), high=f\"{ticker}_HP\", low=f\"{ticker}_LP\", close=f\"{ticker}_CP\", fillna=True, colprefix=f\"{ticker}_\")\n",
    "#     technical_indicators = add_momentum_ta(df=technical_indicators, high=f\"{ticker}_HP\", low=f\"{ticker}_LP\", close=f\"{ticker}_CP\", volume=f\"{ticker}_VOL\", fillna=True, colprefix=f\"{ticker}_\")\n",
    "#     technical_indicators = add_volume_ta(df=technical_indicators, high=f\"{ticker}_HP\", low=f\"{ticker}_LP\", close=f\"{ticker}_CP\", volume=f\"{ticker}_VOL\", fillna=True, colprefix=f\"{ticker}_\")\n",
    "#     technical_indicators = add_trend_ta(df=technical_indicators, high=f\"{ticker}_HP\", low=f\"{ticker}_LP\", close=f\"{ticker}_CP\", fillna=True, colprefix=f\"{ticker}_\")\n",
    "#     technical_dfs.append(technical_indicators.drop(columns=price_data.columns))"
   ]
  },
  {
   "cell_type": "code",
   "execution_count": 27,
   "metadata": {},
   "outputs": [],
   "source": [
    "day_fin_tec = pd.concat([day_fin_tec] + technical_dfs, axis=1).fillna(0)"
   ]
  },
  {
   "cell_type": "code",
   "execution_count": 28,
   "metadata": {},
   "outputs": [
    {
     "data": {
      "text/plain": [
       "0"
      ]
     },
     "execution_count": 28,
     "metadata": {},
     "output_type": "execute_result"
    }
   ],
   "source": [
    "day_fin_tec.isna().sum().sum()"
   ]
  },
  {
   "cell_type": "code",
   "execution_count": 29,
   "metadata": {},
   "outputs": [
    {
     "data": {
      "text/plain": [
       "0"
      ]
     },
     "execution_count": 29,
     "metadata": {},
     "output_type": "execute_result"
    }
   ],
   "source": [
    "np.isinf(day_fin_tec).sum().sum()"
   ]
  },
  {
   "cell_type": "code",
   "execution_count": 30,
   "metadata": {},
   "outputs": [
    {
     "name": "stdout",
     "output_type": "stream",
     "text": [
      "<class 'pandas.core.frame.DataFrame'>\n",
      "DatetimeIndex: 5858 entries, 2000-01-04 to 2023-05-31\n",
      "Columns: 41309 entries, SLF_CR to DXT_others_cr\n",
      "dtypes: float64(40900), int64(409)\n",
      "memory usage: 1.8 GB\n"
     ]
    }
   ],
   "source": [
    "day_fin_tec.info(verbose=False)"
   ]
  },
  {
   "cell_type": "code",
   "execution_count": 31,
   "metadata": {},
   "outputs": [
    {
     "data": {
      "text/plain": [
       "array([False, False, False, ..., False, False, False])"
      ]
     },
     "execution_count": 31,
     "metadata": {},
     "output_type": "execute_result"
    }
   ],
   "source": [
    "day_fin_tec.columns.duplicated()"
   ]
  },
  {
   "cell_type": "code",
   "execution_count": 32,
   "metadata": {},
   "outputs": [],
   "source": [
    "day_fin_tec.to_parquet(\"../DATA/Daily/Processed/day_data_fin_tec.parquet\", compression=\"gzip\")"
   ]
  },
  {
   "attachments": {},
   "cell_type": "markdown",
   "metadata": {},
   "source": [
    "## Monthly Data"
   ]
  },
  {
   "attachments": {},
   "cell_type": "markdown",
   "metadata": {},
   "source": [
    "### Macroeconomic Indicators"
   ]
  },
  {
   "cell_type": "code",
   "execution_count": 33,
   "metadata": {},
   "outputs": [
    {
     "name": "stdout",
     "output_type": "stream",
     "text": [
      "<class 'pandas.core.frame.DataFrame'>\n",
      "RangeIndex: 288 entries, 2 to 289\n",
      "Columns: 56 entries, Indicator: to EUCBCI Index\n",
      "dtypes: float64(1), object(55)\n",
      "memory usage: 126.1+ KB\n"
     ]
    }
   ],
   "source": [
    "month_macro_US_CA = pd.read_excel(\"../DATA/Monthly/Macro/USCA_Macro.xlsx\", sheet_name=\"HC\", header=1, na_values=[\"#N/A N/A\", \"#N/A Requesting Data...\"]).iloc[2:]\n",
    "month_macro_US_CA.info(verbose=False)"
   ]
  },
  {
   "cell_type": "code",
   "execution_count": 34,
   "metadata": {},
   "outputs": [
    {
     "name": "stdout",
     "output_type": "stream",
     "text": [
      "<class 'pandas.core.frame.DataFrame'>\n",
      "RangeIndex: 283 entries, 2 to 284\n",
      "Columns: 56 entries, Indicator: to EUCBCI Index\n",
      "dtypes: object(56)\n",
      "memory usage: 123.9+ KB\n"
     ]
    }
   ],
   "source": [
    "month_macro_US = pd.read_excel(\"../DATA/Monthly/Macro/US_Macro.xlsx\", sheet_name=\"HC\", header=1, na_values=[\"#N/A N/A\", \"#N/A Requesting Data...\"]).iloc[2:]\n",
    "month_macro_US.info(verbose=False)"
   ]
  },
  {
   "cell_type": "code",
   "execution_count": 35,
   "metadata": {},
   "outputs": [],
   "source": [
    "month_macro_US_CA.index = pd.to_datetime(month_macro_US_CA[\"Indicator:\"].values)\n",
    "month_macro_US.index = pd.to_datetime(month_macro_US[\"Indicator:\"].values)"
   ]
  },
  {
   "cell_type": "code",
   "execution_count": 36,
   "metadata": {},
   "outputs": [],
   "source": [
    "month_macro_US_CA = month_macro_US_CA.drop(columns=[\"Indicator:\"])\n",
    "month_macro_US_CA = month_macro_US_CA[~month_macro_US_CA.index.isna()]\n",
    "month_macro_US_CA = month_macro_US_CA.loc[\"2000-01-04\" : \"2023-05-31\"]\n",
    "month_macro_US_CA = month_macro_US_CA.ffill()\n",
    "month_macro_US_CA = month_macro_US_CA.loc[:, month_macro_US_CA.isna().mean() < 0.6]\n",
    "month_macro_US_CA = month_macro_US_CA.fillna(0)\n",
    "\n",
    "month_macro_US = month_macro_US.drop(columns=[\"Indicator:\"])\n",
    "month_macro_US = month_macro_US[~month_macro_US.index.isna()]\n",
    "month_macro_US = month_macro_US.loc[\"2000-01-04\" : \"2023-05-31\"]\n",
    "month_macro_US = month_macro_US.ffill()\n",
    "month_macro_US = month_macro_US.loc[:, month_macro_US.isna().mean() < 0.6]\n",
    "month_macro_US = month_macro_US.fillna(0)\n",
    "\n",
    "monthly_index = month_macro_US_CA.index"
   ]
  },
  {
   "cell_type": "code",
   "execution_count": 37,
   "metadata": {},
   "outputs": [
    {
     "data": {
      "text/html": [
       "<div>\n",
       "<style scoped>\n",
       "    .dataframe tbody tr th:only-of-type {\n",
       "        vertical-align: middle;\n",
       "    }\n",
       "\n",
       "    .dataframe tbody tr th {\n",
       "        vertical-align: top;\n",
       "    }\n",
       "\n",
       "    .dataframe thead th {\n",
       "        text-align: right;\n",
       "    }\n",
       "</style>\n",
       "<table border=\"1\" class=\"dataframe\">\n",
       "  <thead>\n",
       "    <tr style=\"text-align: right;\">\n",
       "      <th></th>\n",
       "      <th>IVEY Index</th>\n",
       "      <th>CAEICAIR Index</th>\n",
       "      <th>CACAPUTL Index</th>\n",
       "      <th>CACOUSCO Index</th>\n",
       "      <th>GCAN10YR Index</th>\n",
       "      <th>GCAN2YR Index</th>\n",
       "      <th>OEOTKLAF Index</th>\n",
       "      <th>RRCACONT Index</th>\n",
       "      <th>SPTSX Index</th>\n",
       "      <th>MXWO Index</th>\n",
       "      <th>...</th>\n",
       "      <th>CAIPYOY Index</th>\n",
       "      <th>COSYNFRM Index</th>\n",
       "      <th>IMP1YOY% Index</th>\n",
       "      <th>CAWCWGCY Index</th>\n",
       "      <th>CDGGBE10 Index</th>\n",
       "      <th>CL1 Comdty</th>\n",
       "      <th>CRB CMDT Index</th>\n",
       "      <th>EHSLMP%Y Index</th>\n",
       "      <th>OUSTUS Index</th>\n",
       "      <th>EUCBCI Index</th>\n",
       "    </tr>\n",
       "  </thead>\n",
       "  <tbody>\n",
       "    <tr>\n",
       "      <th>2000-01-31</th>\n",
       "      <td>0.0</td>\n",
       "      <td>255390</td>\n",
       "      <td>86.1</td>\n",
       "      <td>108.2</td>\n",
       "      <td>6.538</td>\n",
       "      <td>6.273</td>\n",
       "      <td>101.2716</td>\n",
       "      <td>0.0</td>\n",
       "      <td>8481.11</td>\n",
       "      <td>1338.25</td>\n",
       "      <td>...</td>\n",
       "      <td>3.74</td>\n",
       "      <td>0.9</td>\n",
       "      <td>7.1</td>\n",
       "      <td>3.1</td>\n",
       "      <td>0.0</td>\n",
       "      <td>27.64</td>\n",
       "      <td>225.03</td>\n",
       "      <td>2.32</td>\n",
       "      <td>86.24</td>\n",
       "      <td>90.6</td>\n",
       "    </tr>\n",
       "    <tr>\n",
       "      <th>2000-02-29</th>\n",
       "      <td>0.0</td>\n",
       "      <td>150690</td>\n",
       "      <td>86.1</td>\n",
       "      <td>108.3</td>\n",
       "      <td>6.126</td>\n",
       "      <td>5.984</td>\n",
       "      <td>101.2993</td>\n",
       "      <td>0.0</td>\n",
       "      <td>9128.99</td>\n",
       "      <td>1340.58</td>\n",
       "      <td>...</td>\n",
       "      <td>5.30</td>\n",
       "      <td>0.9</td>\n",
       "      <td>9.3</td>\n",
       "      <td>3.1</td>\n",
       "      <td>0.0</td>\n",
       "      <td>30.43</td>\n",
       "      <td>220.68</td>\n",
       "      <td>4.49</td>\n",
       "      <td>86.45</td>\n",
       "      <td>90.9</td>\n",
       "    </tr>\n",
       "    <tr>\n",
       "      <th>2000-03-31</th>\n",
       "      <td>0.0</td>\n",
       "      <td>144590</td>\n",
       "      <td>85.7</td>\n",
       "      <td>108.4</td>\n",
       "      <td>5.922</td>\n",
       "      <td>5.936</td>\n",
       "      <td>101.2977</td>\n",
       "      <td>0.0</td>\n",
       "      <td>9462.39</td>\n",
       "      <td>1431.94</td>\n",
       "      <td>...</td>\n",
       "      <td>4.97</td>\n",
       "      <td>4.4</td>\n",
       "      <td>9.2</td>\n",
       "      <td>3.2</td>\n",
       "      <td>0.0</td>\n",
       "      <td>26.90</td>\n",
       "      <td>228.01</td>\n",
       "      <td>3.59</td>\n",
       "      <td>86.87</td>\n",
       "      <td>91.1</td>\n",
       "    </tr>\n",
       "    <tr>\n",
       "      <th>2000-04-30</th>\n",
       "      <td>0.0</td>\n",
       "      <td>130150</td>\n",
       "      <td>85.7</td>\n",
       "      <td>108.5</td>\n",
       "      <td>6.170</td>\n",
       "      <td>6.139</td>\n",
       "      <td>101.2694</td>\n",
       "      <td>0.0</td>\n",
       "      <td>9347.61</td>\n",
       "      <td>1370.11</td>\n",
       "      <td>...</td>\n",
       "      <td>4.97</td>\n",
       "      <td>4.4</td>\n",
       "      <td>6.6</td>\n",
       "      <td>3.2</td>\n",
       "      <td>0.0</td>\n",
       "      <td>25.74</td>\n",
       "      <td>227.37</td>\n",
       "      <td>4.10</td>\n",
       "      <td>87.21</td>\n",
       "      <td>91.4</td>\n",
       "    </tr>\n",
       "    <tr>\n",
       "      <th>2000-05-31</th>\n",
       "      <td>0.0</td>\n",
       "      <td>135980</td>\n",
       "      <td>85.7</td>\n",
       "      <td>108.5</td>\n",
       "      <td>6.031</td>\n",
       "      <td>6.195</td>\n",
       "      <td>101.2148</td>\n",
       "      <td>0.0</td>\n",
       "      <td>9251.99</td>\n",
       "      <td>1334.14</td>\n",
       "      <td>...</td>\n",
       "      <td>5.23</td>\n",
       "      <td>4.4</td>\n",
       "      <td>6.1</td>\n",
       "      <td>3.2</td>\n",
       "      <td>0.0</td>\n",
       "      <td>29.01</td>\n",
       "      <td>234.16</td>\n",
       "      <td>3.57</td>\n",
       "      <td>87.40</td>\n",
       "      <td>91.7</td>\n",
       "    </tr>\n",
       "  </tbody>\n",
       "</table>\n",
       "<p>5 rows × 51 columns</p>\n",
       "</div>"
      ],
      "text/plain": [
       "            IVEY Index  CAEICAIR Index  CACAPUTL Index  CACOUSCO Index  \\\n",
       "2000-01-31         0.0          255390            86.1           108.2   \n",
       "2000-02-29         0.0          150690            86.1           108.3   \n",
       "2000-03-31         0.0          144590            85.7           108.4   \n",
       "2000-04-30         0.0          130150            85.7           108.5   \n",
       "2000-05-31         0.0          135980            85.7           108.5   \n",
       "\n",
       "            GCAN10YR Index  GCAN2YR Index  OEOTKLAF Index  RRCACONT Index  \\\n",
       "2000-01-31           6.538          6.273        101.2716             0.0   \n",
       "2000-02-29           6.126          5.984        101.2993             0.0   \n",
       "2000-03-31           5.922          5.936        101.2977             0.0   \n",
       "2000-04-30           6.170          6.139        101.2694             0.0   \n",
       "2000-05-31           6.031          6.195        101.2148             0.0   \n",
       "\n",
       "            SPTSX Index  MXWO Index  ...  CAIPYOY Index  COSYNFRM Index  \\\n",
       "2000-01-31      8481.11     1338.25  ...           3.74             0.9   \n",
       "2000-02-29      9128.99     1340.58  ...           5.30             0.9   \n",
       "2000-03-31      9462.39     1431.94  ...           4.97             4.4   \n",
       "2000-04-30      9347.61     1370.11  ...           4.97             4.4   \n",
       "2000-05-31      9251.99     1334.14  ...           5.23             4.4   \n",
       "\n",
       "            IMP1YOY% Index  CAWCWGCY Index  CDGGBE10 Index  CL1 Comdty  \\\n",
       "2000-01-31             7.1             3.1             0.0       27.64   \n",
       "2000-02-29             9.3             3.1             0.0       30.43   \n",
       "2000-03-31             9.2             3.2             0.0       26.90   \n",
       "2000-04-30             6.6             3.2             0.0       25.74   \n",
       "2000-05-31             6.1             3.2             0.0       29.01   \n",
       "\n",
       "            CRB CMDT Index  EHSLMP%Y Index  OUSTUS Index  EUCBCI Index  \n",
       "2000-01-31          225.03            2.32         86.24          90.6  \n",
       "2000-02-29          220.68            4.49         86.45          90.9  \n",
       "2000-03-31          228.01            3.59         86.87          91.1  \n",
       "2000-04-30          227.37            4.10         87.21          91.4  \n",
       "2000-05-31          234.16            3.57         87.40          91.7  \n",
       "\n",
       "[5 rows x 51 columns]"
      ]
     },
     "execution_count": 37,
     "metadata": {},
     "output_type": "execute_result"
    }
   ],
   "source": [
    "month_macro_US_CA.head()"
   ]
  },
  {
   "cell_type": "code",
   "execution_count": 38,
   "metadata": {},
   "outputs": [
    {
     "data": {
      "text/html": [
       "<div>\n",
       "<style scoped>\n",
       "    .dataframe tbody tr th:only-of-type {\n",
       "        vertical-align: middle;\n",
       "    }\n",
       "\n",
       "    .dataframe tbody tr th {\n",
       "        vertical-align: top;\n",
       "    }\n",
       "\n",
       "    .dataframe thead th {\n",
       "        text-align: right;\n",
       "    }\n",
       "</style>\n",
       "<table border=\"1\" class=\"dataframe\">\n",
       "  <thead>\n",
       "    <tr style=\"text-align: right;\">\n",
       "      <th></th>\n",
       "      <th>NAPMPMI Index</th>\n",
       "      <th>NAPMNMI Index</th>\n",
       "      <th>INJCJC4 Index</th>\n",
       "      <th>CPTICHNG Index</th>\n",
       "      <th>LEI TOTL Index</th>\n",
       "      <th>USGG10YR Index</th>\n",
       "      <th>USGG2YR Index</th>\n",
       "      <th>OEOTKLAF Index</th>\n",
       "      <th>RAILORGT Index</th>\n",
       "      <th>SPX Index</th>\n",
       "      <th>...</th>\n",
       "      <th>PPI YOY Index</th>\n",
       "      <th>COSYNFRM Index</th>\n",
       "      <th>IMP1YOY% Index</th>\n",
       "      <th>WAGETRND Index</th>\n",
       "      <th>USGGBE10 Index</th>\n",
       "      <th>CL1 Comdty</th>\n",
       "      <th>CRB CMDT Index</th>\n",
       "      <th>EHSLMP%Y Index</th>\n",
       "      <th>OUSTUS Index</th>\n",
       "      <th>EUCBCI Index</th>\n",
       "    </tr>\n",
       "  </thead>\n",
       "  <tbody>\n",
       "    <tr>\n",
       "      <th>2000-01-31</th>\n",
       "      <td>56.7</td>\n",
       "      <td>56.6</td>\n",
       "      <td>289.00</td>\n",
       "      <td>82.1714</td>\n",
       "      <td>92.8</td>\n",
       "      <td>6.665</td>\n",
       "      <td>6.591</td>\n",
       "      <td>101.2716</td>\n",
       "      <td>327092</td>\n",
       "      <td>1394.46</td>\n",
       "      <td>...</td>\n",
       "      <td>2.5</td>\n",
       "      <td>0.9</td>\n",
       "      <td>7.1</td>\n",
       "      <td>100.44</td>\n",
       "      <td>2.3663</td>\n",
       "      <td>27.64</td>\n",
       "      <td>225.03</td>\n",
       "      <td>2.32</td>\n",
       "      <td>86.24</td>\n",
       "      <td>90.6</td>\n",
       "    </tr>\n",
       "    <tr>\n",
       "      <th>2000-02-29</th>\n",
       "      <td>55.8</td>\n",
       "      <td>56.2</td>\n",
       "      <td>293.75</td>\n",
       "      <td>82.1694</td>\n",
       "      <td>92.2</td>\n",
       "      <td>6.409</td>\n",
       "      <td>6.521</td>\n",
       "      <td>101.2993</td>\n",
       "      <td>322049</td>\n",
       "      <td>1366.42</td>\n",
       "      <td>...</td>\n",
       "      <td>4.0</td>\n",
       "      <td>0.9</td>\n",
       "      <td>9.3</td>\n",
       "      <td>100.44</td>\n",
       "      <td>2.1226</td>\n",
       "      <td>30.43</td>\n",
       "      <td>220.68</td>\n",
       "      <td>4.49</td>\n",
       "      <td>86.45</td>\n",
       "      <td>90.9</td>\n",
       "    </tr>\n",
       "    <tr>\n",
       "      <th>2000-03-31</th>\n",
       "      <td>54.9</td>\n",
       "      <td>57.4</td>\n",
       "      <td>269.75</td>\n",
       "      <td>82.2095</td>\n",
       "      <td>93.1</td>\n",
       "      <td>6.004</td>\n",
       "      <td>6.479</td>\n",
       "      <td>101.2977</td>\n",
       "      <td>317745</td>\n",
       "      <td>1498.58</td>\n",
       "      <td>...</td>\n",
       "      <td>4.3</td>\n",
       "      <td>4.4</td>\n",
       "      <td>9.2</td>\n",
       "      <td>100.53</td>\n",
       "      <td>2.0041</td>\n",
       "      <td>26.90</td>\n",
       "      <td>228.01</td>\n",
       "      <td>3.59</td>\n",
       "      <td>86.87</td>\n",
       "      <td>91.1</td>\n",
       "    </tr>\n",
       "    <tr>\n",
       "      <th>2000-04-30</th>\n",
       "      <td>54.7</td>\n",
       "      <td>58.0</td>\n",
       "      <td>273.00</td>\n",
       "      <td>82.4575</td>\n",
       "      <td>93.3</td>\n",
       "      <td>6.212</td>\n",
       "      <td>6.676</td>\n",
       "      <td>101.2694</td>\n",
       "      <td>324550</td>\n",
       "      <td>1452.43</td>\n",
       "      <td>...</td>\n",
       "      <td>3.6</td>\n",
       "      <td>4.4</td>\n",
       "      <td>6.6</td>\n",
       "      <td>100.53</td>\n",
       "      <td>2.2460</td>\n",
       "      <td>25.74</td>\n",
       "      <td>227.37</td>\n",
       "      <td>4.10</td>\n",
       "      <td>87.21</td>\n",
       "      <td>91.4</td>\n",
       "    </tr>\n",
       "    <tr>\n",
       "      <th>2000-05-31</th>\n",
       "      <td>53.2</td>\n",
       "      <td>57.7</td>\n",
       "      <td>282.25</td>\n",
       "      <td>82.4056</td>\n",
       "      <td>92.4</td>\n",
       "      <td>6.272</td>\n",
       "      <td>6.672</td>\n",
       "      <td>101.2148</td>\n",
       "      <td>338185</td>\n",
       "      <td>1420.60</td>\n",
       "      <td>...</td>\n",
       "      <td>3.7</td>\n",
       "      <td>4.4</td>\n",
       "      <td>6.1</td>\n",
       "      <td>100.53</td>\n",
       "      <td>2.1023</td>\n",
       "      <td>29.01</td>\n",
       "      <td>234.16</td>\n",
       "      <td>3.57</td>\n",
       "      <td>87.40</td>\n",
       "      <td>91.7</td>\n",
       "    </tr>\n",
       "  </tbody>\n",
       "</table>\n",
       "<p>5 rows × 54 columns</p>\n",
       "</div>"
      ],
      "text/plain": [
       "            NAPMPMI Index  NAPMNMI Index  INJCJC4 Index  CPTICHNG Index  \\\n",
       "2000-01-31           56.7           56.6         289.00         82.1714   \n",
       "2000-02-29           55.8           56.2         293.75         82.1694   \n",
       "2000-03-31           54.9           57.4         269.75         82.2095   \n",
       "2000-04-30           54.7           58.0         273.00         82.4575   \n",
       "2000-05-31           53.2           57.7         282.25         82.4056   \n",
       "\n",
       "            LEI TOTL Index  USGG10YR Index  USGG2YR Index  OEOTKLAF Index  \\\n",
       "2000-01-31            92.8           6.665          6.591        101.2716   \n",
       "2000-02-29            92.2           6.409          6.521        101.2993   \n",
       "2000-03-31            93.1           6.004          6.479        101.2977   \n",
       "2000-04-30            93.3           6.212          6.676        101.2694   \n",
       "2000-05-31            92.4           6.272          6.672        101.2148   \n",
       "\n",
       "            RAILORGT Index  SPX Index  ...  PPI YOY Index  COSYNFRM Index  \\\n",
       "2000-01-31          327092    1394.46  ...            2.5             0.9   \n",
       "2000-02-29          322049    1366.42  ...            4.0             0.9   \n",
       "2000-03-31          317745    1498.58  ...            4.3             4.4   \n",
       "2000-04-30          324550    1452.43  ...            3.6             4.4   \n",
       "2000-05-31          338185    1420.60  ...            3.7             4.4   \n",
       "\n",
       "            IMP1YOY% Index  WAGETRND Index  USGGBE10 Index  CL1 Comdty  \\\n",
       "2000-01-31             7.1          100.44          2.3663       27.64   \n",
       "2000-02-29             9.3          100.44          2.1226       30.43   \n",
       "2000-03-31             9.2          100.53          2.0041       26.90   \n",
       "2000-04-30             6.6          100.53          2.2460       25.74   \n",
       "2000-05-31             6.1          100.53          2.1023       29.01   \n",
       "\n",
       "            CRB CMDT Index  EHSLMP%Y Index  OUSTUS Index  EUCBCI Index  \n",
       "2000-01-31          225.03            2.32         86.24          90.6  \n",
       "2000-02-29          220.68            4.49         86.45          90.9  \n",
       "2000-03-31          228.01            3.59         86.87          91.1  \n",
       "2000-04-30          227.37            4.10         87.21          91.4  \n",
       "2000-05-31          234.16            3.57         87.40          91.7  \n",
       "\n",
       "[5 rows x 54 columns]"
      ]
     },
     "execution_count": 38,
     "metadata": {},
     "output_type": "execute_result"
    }
   ],
   "source": [
    "month_macro_US.head()"
   ]
  },
  {
   "cell_type": "code",
   "execution_count": 39,
   "metadata": {},
   "outputs": [
    {
     "name": "stdout",
     "output_type": "stream",
     "text": [
      "<class 'pandas.core.frame.DataFrame'>\n",
      "DatetimeIndex: 281 entries, 2000-01-31 to 2023-05-31\n",
      "Columns: 51 entries, IVEY Index to EUCBCI Index\n",
      "dtypes: float64(41), int64(10)\n",
      "memory usage: 114.2 KB\n"
     ]
    }
   ],
   "source": [
    "month_macro_US_CA.info(verbose=False)"
   ]
  },
  {
   "cell_type": "code",
   "execution_count": 40,
   "metadata": {},
   "outputs": [
    {
     "name": "stdout",
     "output_type": "stream",
     "text": [
      "<class 'pandas.core.frame.DataFrame'>\n",
      "DatetimeIndex: 281 entries, 2000-01-31 to 2023-05-31\n",
      "Columns: 54 entries, NAPMPMI Index to EUCBCI Index\n",
      "dtypes: float64(45), int64(9)\n",
      "memory usage: 120.7 KB\n"
     ]
    }
   ],
   "source": [
    "month_macro_US.info(verbose=False)"
   ]
  },
  {
   "cell_type": "code",
   "execution_count": 41,
   "metadata": {},
   "outputs": [],
   "source": [
    "month_macro_US_CA.to_parquet(\"../DATA/Monthly/Processed/month_data_macro_USCA.parquet\", compression=\"gzip\")\n",
    "month_macro_US.to_parquet(\"../DATA/Monthly/Processed/month_data_macro_US.parquet\", compression=\"gzip\")"
   ]
  },
  {
   "attachments": {},
   "cell_type": "markdown",
   "metadata": {},
   "source": [
    "### Financial Indicators"
   ]
  },
  {
   "cell_type": "code",
   "execution_count": 42,
   "metadata": {},
   "outputs": [
    {
     "data": {
      "application/vnd.jupyter.widget-view+json": {
       "model_id": "a3dab1561f534832a2470a27846495f2",
       "version_major": 2,
       "version_minor": 0
      },
      "text/plain": [
       "Reading files:   0%|          | 0/14 [00:00<?, ?it/s]"
      ]
     },
     "metadata": {},
     "output_type": "display_data"
    }
   ],
   "source": [
    "month_fin_data = get_financials(folder_path=\"../DATA/Monthly/Financials\", tickers=tickers)"
   ]
  },
  {
   "cell_type": "code",
   "execution_count": 43,
   "metadata": {},
   "outputs": [],
   "source": [
    "month_fin = month_fin_data.loc[\"2000-01-04\" : \"2023-05-31\"]"
   ]
  },
  {
   "cell_type": "code",
   "execution_count": 44,
   "metadata": {},
   "outputs": [],
   "source": [
    "# Monthly data index not the same for some reason (fixin it)\n",
    "# Only keep the last entry for each month for each year\n",
    "month_fin = month_fin.groupby([month_fin.index.year, month_fin.index.month]).last()\n",
    "# Convert back to dataframe\n",
    "month_fin = month_fin.reset_index(drop=True)\n",
    "# Create datetime index\n",
    "month_fin.index = monthly_index"
   ]
  },
  {
   "cell_type": "code",
   "execution_count": 45,
   "metadata": {},
   "outputs": [
    {
     "data": {
      "text/plain": [
       "1221510"
      ]
     },
     "execution_count": 45,
     "metadata": {},
     "output_type": "execute_result"
    }
   ],
   "source": [
    "month_fin.isna().sum().sum()"
   ]
  },
  {
   "cell_type": "code",
   "execution_count": 46,
   "metadata": {},
   "outputs": [],
   "source": [
    "# Fill NaN values with the previous value (this allows us to set NAN values to 0 before the first trading day while having no NAN in the time series)\n",
    "month_fin = month_fin.ffill()"
   ]
  },
  {
   "cell_type": "code",
   "execution_count": 47,
   "metadata": {},
   "outputs": [
    {
     "data": {
      "text/plain": [
       "809211"
      ]
     },
     "execution_count": 47,
     "metadata": {},
     "output_type": "execute_result"
    }
   ],
   "source": [
    "month_fin.isna().sum().sum()"
   ]
  },
  {
   "cell_type": "code",
   "execution_count": 48,
   "metadata": {},
   "outputs": [],
   "source": [
    "# % missing price values for each ticker (filter for columns that end in _CP, _HP, _LP, _OP, _VOL)\n",
    "month_sparse_prices = month_fin.filter(regex=\"(_CP|_HP|_LP|_OP|_VOL)\").isna().sum() / len(month_fin)\n",
    "# Get the ticker symbols for which more than 60% of the price data is missing (we want at least ~10 years of data)\n",
    "month_sparse_tickers = month_sparse_prices[month_sparse_prices > 0.6].index.str.split(\"_\").str[0].unique()\n",
    "month_tickers_clean = [ticker for ticker in tickers if ticker not in month_sparse_tickers]"
   ]
  },
  {
   "cell_type": "code",
   "execution_count": 49,
   "metadata": {},
   "outputs": [
    {
     "data": {
      "text/plain": [
       "(553, 144, 409)"
      ]
     },
     "execution_count": 49,
     "metadata": {},
     "output_type": "execute_result"
    }
   ],
   "source": [
    "len(tickers), len(month_sparse_tickers), len(month_tickers_clean)"
   ]
  },
  {
   "cell_type": "code",
   "execution_count": 50,
   "metadata": {},
   "outputs": [],
   "source": [
    "# Save as txt file\n",
    "with open(\"../DATA/Tickers/month_tickers_clean.txt\", \"w\") as f:\n",
    "    for ticker in month_tickers_clean:\n",
    "        f.write(f\"{ticker}\\n\")"
   ]
  },
  {
   "cell_type": "code",
   "execution_count": 51,
   "metadata": {},
   "outputs": [],
   "source": [
    "# Select the columns that start with the sparse ticker symbols\n",
    "for ticker in month_sparse_tickers:\n",
    "    month_fin.drop(month_fin.filter(regex=f\"^{ticker}_\").columns, axis=1, inplace=True)"
   ]
  },
  {
   "cell_type": "code",
   "execution_count": 52,
   "metadata": {},
   "outputs": [
    {
     "data": {
      "text/plain": [
       "0"
      ]
     },
     "execution_count": 52,
     "metadata": {},
     "output_type": "execute_result"
    }
   ],
   "source": [
    "(month_fin.filter(regex=\"(_CP|_HP|_LP|_OP|_VOL)\").isna().sum() / len(month_fin) > 0.6).sum() # Check"
   ]
  },
  {
   "cell_type": "code",
   "execution_count": 53,
   "metadata": {},
   "outputs": [],
   "source": [
    "# Set rows with no closing price to NAN to have a clean time series\n",
    "for ticker in month_tickers_clean:\n",
    "    ticker_df = month_fin.filter(regex=f\"^{ticker}_\")\n",
    "    month_fin.loc[ticker_df[f\"{ticker}_CP\"].isna(), ticker_df.columns] = np.nan"
   ]
  },
  {
   "attachments": {},
   "cell_type": "markdown",
   "metadata": {},
   "source": [
    "### Technical Indicators"
   ]
  },
  {
   "cell_type": "code",
   "execution_count": 54,
   "metadata": {},
   "outputs": [],
   "source": [
    "month_fin_tec = month_fin.copy()"
   ]
  },
  {
   "cell_type": "code",
   "execution_count": 55,
   "metadata": {},
   "outputs": [
    {
     "data": {
      "application/vnd.jupyter.widget-view+json": {
       "model_id": "9ffef7cc4be54408b49b39c8b03a1f82",
       "version_major": 2,
       "version_minor": 0
      },
      "text/plain": [
       "  0%|          | 0/409 [00:00<?, ?it/s]"
      ]
     },
     "metadata": {},
     "output_type": "display_data"
    }
   ],
   "source": [
    "technical_dfs = []\n",
    "\n",
    "for ticker in tqdm(month_tickers_clean):\n",
    "    price_data = month_fin_tec.copy()[[f\"{ticker}_OP\", f\"{ticker}_HP\", f\"{ticker}_LP\", f\"{ticker}_CP\", f\"{ticker}_VOL\"]]\n",
    "    month_fin_tec[f\"{ticker}_Is_Listed\"] = np.where(month_fin_tec[f\"{ticker}_CP\"].isna(), 0, 1)\n",
    "    technical_indicators = add_all_ta_features(df=price_data.copy(), open=f\"{ticker}_OP\", high=f\"{ticker}_HP\", low=f\"{ticker}_LP\", close=f\"{ticker}_CP\", volume=f\"{ticker}_VOL\", fillna=True, colprefix=f\"{ticker}_\")\n",
    "    technical_dfs.append(technical_indicators.drop(columns=price_data.columns))"
   ]
  },
  {
   "cell_type": "code",
   "execution_count": 56,
   "metadata": {},
   "outputs": [],
   "source": [
    "# technical_dfs = []\n",
    "\n",
    "# for ticker in tqdm(month_tickers_clean):\n",
    "#     price_data = month_fin_tec.copy()[[f\"{ticker}_OP\", f\"{ticker}_HP\", f\"{ticker}_LP\", f\"{ticker}_CP\", f\"{ticker}_VOL\"]]\n",
    "#     month_fin_tec[f\"{ticker}_Is_Listed\"] = np.where(month_fin_tec[f\"{ticker}_CP\"].isna(), 0, 1)\n",
    "#     technical_indicators = add_volatility_ta(df=price_data.copy(), high=f\"{ticker}_HP\", low=f\"{ticker}_LP\", close=f\"{ticker}_CP\", fillna=True, colprefix=f\"{ticker}_\")\n",
    "#     technical_indicators = add_momentum_ta(df=technical_indicators, high=f\"{ticker}_HP\", low=f\"{ticker}_LP\", close=f\"{ticker}_CP\", volume=f\"{ticker}_VOL\", fillna=True, colprefix=f\"{ticker}_\")\n",
    "#     technical_indicators = add_volume_ta(df=technical_indicators, high=f\"{ticker}_HP\", low=f\"{ticker}_LP\", close=f\"{ticker}_CP\", volume=f\"{ticker}_VOL\", fillna=True, colprefix=f\"{ticker}_\")\n",
    "#     technical_indicators = add_trend_ta(df=technical_indicators, high=f\"{ticker}_HP\", low=f\"{ticker}_LP\", close=f\"{ticker}_CP\", fillna=True, colprefix=f\"{ticker}_\")\n",
    "#     technical_dfs.append(technical_indicators.drop(columns=price_data.columns))"
   ]
  },
  {
   "cell_type": "code",
   "execution_count": 57,
   "metadata": {},
   "outputs": [],
   "source": [
    "month_fin_tec = pd.concat([month_fin_tec] + technical_dfs, axis=1).fillna(0)"
   ]
  },
  {
   "cell_type": "code",
   "execution_count": 58,
   "metadata": {},
   "outputs": [
    {
     "data": {
      "text/plain": [
       "0"
      ]
     },
     "execution_count": 58,
     "metadata": {},
     "output_type": "execute_result"
    }
   ],
   "source": [
    "np.isinf(month_fin_tec).sum().sum()"
   ]
  },
  {
   "cell_type": "code",
   "execution_count": 59,
   "metadata": {},
   "outputs": [
    {
     "data": {
      "text/plain": [
       "0"
      ]
     },
     "execution_count": 59,
     "metadata": {},
     "output_type": "execute_result"
    }
   ],
   "source": [
    "month_fin_tec.isna().sum().sum()"
   ]
  },
  {
   "cell_type": "code",
   "execution_count": 60,
   "metadata": {},
   "outputs": [
    {
     "data": {
      "text/html": [
       "<div>\n",
       "<style scoped>\n",
       "    .dataframe tbody tr th:only-of-type {\n",
       "        vertical-align: middle;\n",
       "    }\n",
       "\n",
       "    .dataframe tbody tr th {\n",
       "        vertical-align: top;\n",
       "    }\n",
       "\n",
       "    .dataframe thead th {\n",
       "        text-align: right;\n",
       "    }\n",
       "</style>\n",
       "<table border=\"1\" class=\"dataframe\">\n",
       "  <thead>\n",
       "    <tr style=\"text-align: right;\">\n",
       "      <th></th>\n",
       "      <th>SLF_CR</th>\n",
       "      <th>ENGH_CR</th>\n",
       "      <th>HR-U_CR</th>\n",
       "      <th>IVN_CR</th>\n",
       "      <th>WFG_CR</th>\n",
       "      <th>BN_CR</th>\n",
       "      <th>BLDP_CR</th>\n",
       "      <th>EFR_CR</th>\n",
       "      <th>SAP_CR</th>\n",
       "      <th>PPL_CR</th>\n",
       "      <th>...</th>\n",
       "      <th>DXT_momentum_ppo</th>\n",
       "      <th>DXT_momentum_ppo_signal</th>\n",
       "      <th>DXT_momentum_ppo_hist</th>\n",
       "      <th>DXT_momentum_pvo</th>\n",
       "      <th>DXT_momentum_pvo_signal</th>\n",
       "      <th>DXT_momentum_pvo_hist</th>\n",
       "      <th>DXT_momentum_kama</th>\n",
       "      <th>DXT_others_dr</th>\n",
       "      <th>DXT_others_dlr</th>\n",
       "      <th>DXT_others_cr</th>\n",
       "    </tr>\n",
       "  </thead>\n",
       "  <tbody>\n",
       "    <tr>\n",
       "      <th>2000-01-31</th>\n",
       "      <td>0.0</td>\n",
       "      <td>0.0000</td>\n",
       "      <td>0.0</td>\n",
       "      <td>0.0</td>\n",
       "      <td>0.0000</td>\n",
       "      <td>0.0000</td>\n",
       "      <td>0.0000</td>\n",
       "      <td>0.0</td>\n",
       "      <td>0.0000</td>\n",
       "      <td>0.0000</td>\n",
       "      <td>...</td>\n",
       "      <td>0.0</td>\n",
       "      <td>0.0</td>\n",
       "      <td>0.0</td>\n",
       "      <td>0.0</td>\n",
       "      <td>0.0</td>\n",
       "      <td>0.0</td>\n",
       "      <td>0.0</td>\n",
       "      <td>0.0</td>\n",
       "      <td>0.0</td>\n",
       "      <td>0.0</td>\n",
       "    </tr>\n",
       "    <tr>\n",
       "      <th>2000-02-29</th>\n",
       "      <td>0.0</td>\n",
       "      <td>0.0000</td>\n",
       "      <td>0.0</td>\n",
       "      <td>0.0</td>\n",
       "      <td>0.0000</td>\n",
       "      <td>0.0000</td>\n",
       "      <td>0.0000</td>\n",
       "      <td>0.0</td>\n",
       "      <td>0.0000</td>\n",
       "      <td>0.0000</td>\n",
       "      <td>...</td>\n",
       "      <td>0.0</td>\n",
       "      <td>0.0</td>\n",
       "      <td>0.0</td>\n",
       "      <td>0.0</td>\n",
       "      <td>0.0</td>\n",
       "      <td>0.0</td>\n",
       "      <td>0.0</td>\n",
       "      <td>0.0</td>\n",
       "      <td>0.0</td>\n",
       "      <td>0.0</td>\n",
       "    </tr>\n",
       "    <tr>\n",
       "      <th>2000-03-31</th>\n",
       "      <td>0.0</td>\n",
       "      <td>6.1861</td>\n",
       "      <td>0.0</td>\n",
       "      <td>0.0</td>\n",
       "      <td>1.9094</td>\n",
       "      <td>0.0991</td>\n",
       "      <td>20.5441</td>\n",
       "      <td>0.0</td>\n",
       "      <td>1.6102</td>\n",
       "      <td>1.1159</td>\n",
       "      <td>...</td>\n",
       "      <td>0.0</td>\n",
       "      <td>0.0</td>\n",
       "      <td>0.0</td>\n",
       "      <td>0.0</td>\n",
       "      <td>0.0</td>\n",
       "      <td>0.0</td>\n",
       "      <td>0.0</td>\n",
       "      <td>0.0</td>\n",
       "      <td>0.0</td>\n",
       "      <td>0.0</td>\n",
       "    </tr>\n",
       "    <tr>\n",
       "      <th>2000-04-30</th>\n",
       "      <td>0.0</td>\n",
       "      <td>6.1861</td>\n",
       "      <td>0.0</td>\n",
       "      <td>0.0</td>\n",
       "      <td>1.9094</td>\n",
       "      <td>0.0991</td>\n",
       "      <td>20.5441</td>\n",
       "      <td>0.0</td>\n",
       "      <td>1.6102</td>\n",
       "      <td>1.1159</td>\n",
       "      <td>...</td>\n",
       "      <td>0.0</td>\n",
       "      <td>0.0</td>\n",
       "      <td>0.0</td>\n",
       "      <td>0.0</td>\n",
       "      <td>0.0</td>\n",
       "      <td>0.0</td>\n",
       "      <td>0.0</td>\n",
       "      <td>0.0</td>\n",
       "      <td>0.0</td>\n",
       "      <td>0.0</td>\n",
       "    </tr>\n",
       "    <tr>\n",
       "      <th>2000-05-31</th>\n",
       "      <td>0.0</td>\n",
       "      <td>6.1861</td>\n",
       "      <td>0.0</td>\n",
       "      <td>0.0</td>\n",
       "      <td>1.9094</td>\n",
       "      <td>0.0991</td>\n",
       "      <td>20.5441</td>\n",
       "      <td>0.0</td>\n",
       "      <td>1.6102</td>\n",
       "      <td>1.1159</td>\n",
       "      <td>...</td>\n",
       "      <td>0.0</td>\n",
       "      <td>0.0</td>\n",
       "      <td>0.0</td>\n",
       "      <td>0.0</td>\n",
       "      <td>0.0</td>\n",
       "      <td>0.0</td>\n",
       "      <td>0.0</td>\n",
       "      <td>0.0</td>\n",
       "      <td>0.0</td>\n",
       "      <td>0.0</td>\n",
       "    </tr>\n",
       "  </tbody>\n",
       "</table>\n",
       "<p>5 rows × 41309 columns</p>\n",
       "</div>"
      ],
      "text/plain": [
       "            SLF_CR  ENGH_CR  HR-U_CR  IVN_CR  WFG_CR   BN_CR  BLDP_CR  EFR_CR  \\\n",
       "2000-01-31     0.0   0.0000      0.0     0.0  0.0000  0.0000   0.0000     0.0   \n",
       "2000-02-29     0.0   0.0000      0.0     0.0  0.0000  0.0000   0.0000     0.0   \n",
       "2000-03-31     0.0   6.1861      0.0     0.0  1.9094  0.0991  20.5441     0.0   \n",
       "2000-04-30     0.0   6.1861      0.0     0.0  1.9094  0.0991  20.5441     0.0   \n",
       "2000-05-31     0.0   6.1861      0.0     0.0  1.9094  0.0991  20.5441     0.0   \n",
       "\n",
       "            SAP_CR  PPL_CR  ...  DXT_momentum_ppo  DXT_momentum_ppo_signal  \\\n",
       "2000-01-31  0.0000  0.0000  ...               0.0                      0.0   \n",
       "2000-02-29  0.0000  0.0000  ...               0.0                      0.0   \n",
       "2000-03-31  1.6102  1.1159  ...               0.0                      0.0   \n",
       "2000-04-30  1.6102  1.1159  ...               0.0                      0.0   \n",
       "2000-05-31  1.6102  1.1159  ...               0.0                      0.0   \n",
       "\n",
       "            DXT_momentum_ppo_hist  DXT_momentum_pvo  DXT_momentum_pvo_signal  \\\n",
       "2000-01-31                    0.0               0.0                      0.0   \n",
       "2000-02-29                    0.0               0.0                      0.0   \n",
       "2000-03-31                    0.0               0.0                      0.0   \n",
       "2000-04-30                    0.0               0.0                      0.0   \n",
       "2000-05-31                    0.0               0.0                      0.0   \n",
       "\n",
       "            DXT_momentum_pvo_hist  DXT_momentum_kama  DXT_others_dr  \\\n",
       "2000-01-31                    0.0                0.0            0.0   \n",
       "2000-02-29                    0.0                0.0            0.0   \n",
       "2000-03-31                    0.0                0.0            0.0   \n",
       "2000-04-30                    0.0                0.0            0.0   \n",
       "2000-05-31                    0.0                0.0            0.0   \n",
       "\n",
       "            DXT_others_dlr  DXT_others_cr  \n",
       "2000-01-31             0.0            0.0  \n",
       "2000-02-29             0.0            0.0  \n",
       "2000-03-31             0.0            0.0  \n",
       "2000-04-30             0.0            0.0  \n",
       "2000-05-31             0.0            0.0  \n",
       "\n",
       "[5 rows x 41309 columns]"
      ]
     },
     "execution_count": 60,
     "metadata": {},
     "output_type": "execute_result"
    }
   ],
   "source": [
    "month_fin_tec.head()"
   ]
  },
  {
   "cell_type": "code",
   "execution_count": 61,
   "metadata": {},
   "outputs": [
    {
     "name": "stdout",
     "output_type": "stream",
     "text": [
      "<class 'pandas.core.frame.DataFrame'>\n",
      "DatetimeIndex: 281 entries, 2000-01-31 to 2023-05-31\n",
      "Columns: 41309 entries, SLF_CR to DXT_others_cr\n",
      "dtypes: float64(40900), int64(409)\n",
      "memory usage: 88.6 MB\n"
     ]
    }
   ],
   "source": [
    "month_fin_tec.info(verbose=False)"
   ]
  },
  {
   "cell_type": "code",
   "execution_count": 62,
   "metadata": {},
   "outputs": [],
   "source": [
    "month_fin_tec.to_parquet(\"../DATA/Monthly/Processed/month_data_fin_tec.parquet\", compression=\"gzip\")"
   ]
  }
 ],
 "metadata": {
  "kernelspec": {
   "display_name": "miba_thesis",
   "language": "python",
   "name": "python3"
  },
  "language_info": {
   "codemirror_mode": {
    "name": "ipython",
    "version": 3
   },
   "file_extension": ".py",
   "mimetype": "text/x-python",
   "name": "python",
   "nbconvert_exporter": "python",
   "pygments_lexer": "ipython3",
   "version": "3.10.11"
  },
  "orig_nbformat": 4
 },
 "nbformat": 4,
 "nbformat_minor": 2
}
