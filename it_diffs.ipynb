{
 "cells": [
  {
   "cell_type": "code",
   "execution_count": 1,
   "metadata": {},
   "outputs": [
    {
     "data": {
      "application/javascript": "IPython.notebook.set_autosave_interval(0)"
     },
     "metadata": {},
     "output_type": "display_data"
    },
    {
     "name": "stdout",
     "output_type": "stream",
     "text": [
      "Autosave disabled\n"
     ]
    }
   ],
   "source": [
    "from helpers.iterative import IT_DATAMODULE\n",
    "import random\n",
    "# random.seed(42)\n",
    "import pandas as pd\n",
    "import numpy as np\n",
    "import matplotlib.pyplot as plt\n",
    "import seaborn as sns\n",
    "\n",
    "import sklearn\n",
    "import torch\n",
    "from torch.utils.data import TensorDataset, DataLoader\n",
    "from torch import nn\n",
    "from torch import optim\n",
    "from torch import mps\n",
    "import pandas as pd\n",
    "import numpy as np\n",
    "from sklearn.preprocessing import MinMaxScaler, StandardScaler, RobustScaler, PowerTransformer, minmax_scale, power_transform, scale\n",
    "from tqdm.auto import tqdm\n",
    "# from tqdm import tqdm\n",
    "import os\n",
    "\n",
    "import lightning.pytorch as pl\n",
    "\n",
    "from helpers.iterative import IT_DATAMODULE\n",
    "from models.iterative import LSTM, CNN_1D_LSTM\n",
    "\n",
    "# Set global seed for reproducibility in numpy, torch, scikit-learn\n",
    "\n",
    "# torch.manual_seed(42)\n",
    "# torch.mps.manual_seed(42)\n",
    "# torch.backends.mps.deterministic = True\n",
    "# torch.cuda.manual_seed(42)\n",
    "# torch.backends.cudnn.deterministic = True\n",
    "# np.random.seed(42)\n",
    "%autosave 0"
   ]
  },
  {
   "cell_type": "code",
   "execution_count": 18,
   "metadata": {},
   "outputs": [],
   "source": [
    "with open(\"./DATA/Tickers/month_tickers_clean.txt\", \"r\") as f:\n",
    "    tickers = f.read().strip().split(\"\\n\")"
   ]
  },
  {
   "cell_type": "code",
   "execution_count": 43,
   "metadata": {},
   "outputs": [
    {
     "data": {
      "text/plain": [
       "308"
      ]
     },
     "execution_count": 43,
     "metadata": {},
     "output_type": "execute_result"
    }
   ],
   "source": [
    "# Choose random ticker from tickers\n",
    "ticker = random.choice(range(len(tickers)))\n",
    "ticker"
   ]
  },
  {
   "cell_type": "code",
   "execution_count": 2,
   "metadata": {},
   "outputs": [
    {
     "name": "stderr",
     "output_type": "stream",
     "text": [
      "Global seed set to 42\n"
     ]
    },
    {
     "data": {
      "text/plain": [
       "42"
      ]
     },
     "execution_count": 2,
     "metadata": {},
     "output_type": "execute_result"
    }
   ],
   "source": [
    "LEARING_RATE = 1e-4 # 1e-4 ind standard\n",
    "EPOCHS = 300\n",
    "BATCH_SIZE = 32\n",
    "PRED_HORIZON = 1\n",
    "LOOKBACK = 12\n",
    "pl.seed_everything(42)"
   ]
  },
  {
   "cell_type": "code",
   "execution_count": 3,
   "metadata": {},
   "outputs": [],
   "source": [
    "fin_data = pd.read_parquet(\"./DATA/Monthly/Processed/month_data_fin_tec.parquet\")"
   ]
  },
  {
   "cell_type": "code",
   "execution_count": 62,
   "metadata": {},
   "outputs": [
    {
     "data": {
      "text/html": [
       "<div>\n",
       "<style scoped>\n",
       "    .dataframe tbody tr th:only-of-type {\n",
       "        vertical-align: middle;\n",
       "    }\n",
       "\n",
       "    .dataframe tbody tr th {\n",
       "        vertical-align: top;\n",
       "    }\n",
       "\n",
       "    .dataframe thead th {\n",
       "        text-align: right;\n",
       "    }\n",
       "</style>\n",
       "<table border=\"1\" class=\"dataframe\">\n",
       "  <thead>\n",
       "    <tr style=\"text-align: right;\">\n",
       "      <th></th>\n",
       "      <th>RGD_CR</th>\n",
       "      <th>RGD_PER</th>\n",
       "      <th>RGD_DER</th>\n",
       "      <th>RGD_OP</th>\n",
       "      <th>RGD_FCF</th>\n",
       "      <th>RGD_ROE</th>\n",
       "      <th>RGD_HP</th>\n",
       "      <th>RGD_PBR</th>\n",
       "      <th>RGD_LP</th>\n",
       "      <th>RGD_PM</th>\n",
       "      <th>...</th>\n",
       "      <th>RGD_momentum_ppo</th>\n",
       "      <th>RGD_momentum_ppo_signal</th>\n",
       "      <th>RGD_momentum_ppo_hist</th>\n",
       "      <th>RGD_momentum_pvo</th>\n",
       "      <th>RGD_momentum_pvo_signal</th>\n",
       "      <th>RGD_momentum_pvo_hist</th>\n",
       "      <th>RGD_momentum_kama</th>\n",
       "      <th>RGD_others_dr</th>\n",
       "      <th>RGD_others_dlr</th>\n",
       "      <th>RGD_others_cr</th>\n",
       "    </tr>\n",
       "  </thead>\n",
       "  <tbody>\n",
       "    <tr>\n",
       "      <th>2000-01-31</th>\n",
       "      <td>NaN</td>\n",
       "      <td>NaN</td>\n",
       "      <td>NaN</td>\n",
       "      <td>NaN</td>\n",
       "      <td>NaN</td>\n",
       "      <td>NaN</td>\n",
       "      <td>NaN</td>\n",
       "      <td>NaN</td>\n",
       "      <td>NaN</td>\n",
       "      <td>NaN</td>\n",
       "      <td>...</td>\n",
       "      <td>NaN</td>\n",
       "      <td>NaN</td>\n",
       "      <td>NaN</td>\n",
       "      <td>NaN</td>\n",
       "      <td>NaN</td>\n",
       "      <td>NaN</td>\n",
       "      <td>NaN</td>\n",
       "      <td>NaN</td>\n",
       "      <td>NaN</td>\n",
       "      <td>NaN</td>\n",
       "    </tr>\n",
       "    <tr>\n",
       "      <th>2000-02-29</th>\n",
       "      <td>NaN</td>\n",
       "      <td>NaN</td>\n",
       "      <td>NaN</td>\n",
       "      <td>0.000000</td>\n",
       "      <td>NaN</td>\n",
       "      <td>NaN</td>\n",
       "      <td>122.222222</td>\n",
       "      <td>NaN</td>\n",
       "      <td>-14.285714</td>\n",
       "      <td>NaN</td>\n",
       "      <td>...</td>\n",
       "      <td>inf</td>\n",
       "      <td>inf</td>\n",
       "      <td>inf</td>\n",
       "      <td>inf</td>\n",
       "      <td>inf</td>\n",
       "      <td>inf</td>\n",
       "      <td>84.519787</td>\n",
       "      <td>-22.613251</td>\n",
       "      <td>inf</td>\n",
       "      <td>inf</td>\n",
       "    </tr>\n",
       "    <tr>\n",
       "      <th>2000-03-31</th>\n",
       "      <td>NaN</td>\n",
       "      <td>NaN</td>\n",
       "      <td>NaN</td>\n",
       "      <td>242.857143</td>\n",
       "      <td>NaN</td>\n",
       "      <td>NaN</td>\n",
       "      <td>20.000000</td>\n",
       "      <td>NaN</td>\n",
       "      <td>100.000000</td>\n",
       "      <td>NaN</td>\n",
       "      <td>...</td>\n",
       "      <td>17.840281</td>\n",
       "      <td>97.840281</td>\n",
       "      <td>-2.159719</td>\n",
       "      <td>75.412390</td>\n",
       "      <td>155.412390</td>\n",
       "      <td>55.412390</td>\n",
       "      <td>0.073369</td>\n",
       "      <td>-118.846154</td>\n",
       "      <td>-141.033896</td>\n",
       "      <td>-53.846154</td>\n",
       "    </tr>\n",
       "    <tr>\n",
       "      <th>2000-04-30</th>\n",
       "      <td>NaN</td>\n",
       "      <td>NaN</td>\n",
       "      <td>NaN</td>\n",
       "      <td>-45.833333</td>\n",
       "      <td>NaN</td>\n",
       "      <td>NaN</td>\n",
       "      <td>-45.833333</td>\n",
       "      <td>NaN</td>\n",
       "      <td>-41.666667</td>\n",
       "      <td>NaN</td>\n",
       "      <td>...</td>\n",
       "      <td>-22.799258</td>\n",
       "      <td>25.983341</td>\n",
       "      <td>-47.459763</td>\n",
       "      <td>-11.671260</td>\n",
       "      <td>40.662505</td>\n",
       "      <td>-33.173232</td>\n",
       "      <td>-1.270681</td>\n",
       "      <td>31.868132</td>\n",
       "      <td>43.700965</td>\n",
       "      <td>-100.000000</td>\n",
       "    </tr>\n",
       "    <tr>\n",
       "      <th>2000-05-31</th>\n",
       "      <td>NaN</td>\n",
       "      <td>NaN</td>\n",
       "      <td>NaN</td>\n",
       "      <td>-46.153846</td>\n",
       "      <td>NaN</td>\n",
       "      <td>NaN</td>\n",
       "      <td>-23.076923</td>\n",
       "      <td>NaN</td>\n",
       "      <td>0.000000</td>\n",
       "      <td>NaN</td>\n",
       "      <td>...</td>\n",
       "      <td>-17.146102</td>\n",
       "      <td>10.241292</td>\n",
       "      <td>-50.343868</td>\n",
       "      <td>-21.579250</td>\n",
       "      <td>13.819952</td>\n",
       "      <td>-52.193081</td>\n",
       "      <td>-1.246480</td>\n",
       "      <td>-130.952381</td>\n",
       "      <td>-121.570749</td>\n",
       "      <td>inf</td>\n",
       "    </tr>\n",
       "    <tr>\n",
       "      <th>...</th>\n",
       "      <td>...</td>\n",
       "      <td>...</td>\n",
       "      <td>...</td>\n",
       "      <td>...</td>\n",
       "      <td>...</td>\n",
       "      <td>...</td>\n",
       "      <td>...</td>\n",
       "      <td>...</td>\n",
       "      <td>...</td>\n",
       "      <td>...</td>\n",
       "      <td>...</td>\n",
       "      <td>...</td>\n",
       "      <td>...</td>\n",
       "      <td>...</td>\n",
       "      <td>...</td>\n",
       "      <td>...</td>\n",
       "      <td>...</td>\n",
       "      <td>...</td>\n",
       "      <td>...</td>\n",
       "      <td>...</td>\n",
       "      <td>...</td>\n",
       "    </tr>\n",
       "    <tr>\n",
       "      <th>2023-01-31</th>\n",
       "      <td>0.0</td>\n",
       "      <td>0.0</td>\n",
       "      <td>0.0</td>\n",
       "      <td>-2.325581</td>\n",
       "      <td>0.0</td>\n",
       "      <td>0.0</td>\n",
       "      <td>2.272727</td>\n",
       "      <td>-8.333585</td>\n",
       "      <td>-5.405405</td>\n",
       "      <td>0.0</td>\n",
       "      <td>...</td>\n",
       "      <td>-4.263746</td>\n",
       "      <td>4.341894</td>\n",
       "      <td>-35.983797</td>\n",
       "      <td>-25.767137</td>\n",
       "      <td>-10.547156</td>\n",
       "      <td>16.126805</td>\n",
       "      <td>0.469184</td>\n",
       "      <td>258.333333</td>\n",
       "      <td>269.781291</td>\n",
       "      <td>2.631579</td>\n",
       "    </tr>\n",
       "    <tr>\n",
       "      <th>2023-02-28</th>\n",
       "      <td>0.0</td>\n",
       "      <td>0.0</td>\n",
       "      <td>0.0</td>\n",
       "      <td>-10.714286</td>\n",
       "      <td>0.0</td>\n",
       "      <td>0.0</td>\n",
       "      <td>-12.222222</td>\n",
       "      <td>-6.493093</td>\n",
       "      <td>-18.571429</td>\n",
       "      <td>0.0</td>\n",
       "      <td>...</td>\n",
       "      <td>-6.816496</td>\n",
       "      <td>1.738756</td>\n",
       "      <td>-58.215218</td>\n",
       "      <td>-35.284025</td>\n",
       "      <td>-13.161201</td>\n",
       "      <td>11.623157</td>\n",
       "      <td>0.783950</td>\n",
       "      <td>-22.077922</td>\n",
       "      <td>-22.838478</td>\n",
       "      <td>1.831502</td>\n",
       "    </tr>\n",
       "    <tr>\n",
       "      <th>2023-03-31</th>\n",
       "      <td>0.0</td>\n",
       "      <td>0.0</td>\n",
       "      <td>0.0</td>\n",
       "      <td>-1.333333</td>\n",
       "      <td>0.0</td>\n",
       "      <td>0.0</td>\n",
       "      <td>11.392405</td>\n",
       "      <td>39.490094</td>\n",
       "      <td>19.298246</td>\n",
       "      <td>0.0</td>\n",
       "      <td>...</td>\n",
       "      <td>-4.465818</td>\n",
       "      <td>0.413010</td>\n",
       "      <td>-75.833781</td>\n",
       "      <td>-27.038803</td>\n",
       "      <td>-14.254101</td>\n",
       "      <td>-5.950147</td>\n",
       "      <td>1.142634</td>\n",
       "      <td>-228.333333</td>\n",
       "      <td>-219.218854</td>\n",
       "      <td>-2.158273</td>\n",
       "    </tr>\n",
       "    <tr>\n",
       "      <th>2023-04-30</th>\n",
       "      <td>0.0</td>\n",
       "      <td>0.0</td>\n",
       "      <td>0.0</td>\n",
       "      <td>2.702703</td>\n",
       "      <td>0.0</td>\n",
       "      <td>0.0</td>\n",
       "      <td>4.545455</td>\n",
       "      <td>15.384745</td>\n",
       "      <td>10.294118</td>\n",
       "      <td>0.0</td>\n",
       "      <td>...</td>\n",
       "      <td>-0.048177</td>\n",
       "      <td>0.319255</td>\n",
       "      <td>-22.381153</td>\n",
       "      <td>-1.814361</td>\n",
       "      <td>-13.420505</td>\n",
       "      <td>-19.268622</td>\n",
       "      <td>6.854616</td>\n",
       "      <td>84.615385</td>\n",
       "      <td>78.780613</td>\n",
       "      <td>-4.411765</td>\n",
       "    </tr>\n",
       "    <tr>\n",
       "      <th>2023-05-31</th>\n",
       "      <td>0.0</td>\n",
       "      <td>0.0</td>\n",
       "      <td>0.0</td>\n",
       "      <td>15.789474</td>\n",
       "      <td>0.0</td>\n",
       "      <td>0.0</td>\n",
       "      <td>17.391304</td>\n",
       "      <td>1.111241</td>\n",
       "      <td>14.666667</td>\n",
       "      <td>0.0</td>\n",
       "      <td>...</td>\n",
       "      <td>-1.374234</td>\n",
       "      <td>-0.023754</td>\n",
       "      <td>-107.464188</td>\n",
       "      <td>67.393008</td>\n",
       "      <td>-7.279187</td>\n",
       "      <td>-53.039890</td>\n",
       "      <td>5.195911</td>\n",
       "      <td>-92.777778</td>\n",
       "      <td>-92.278287</td>\n",
       "      <td>-0.384615</td>\n",
       "    </tr>\n",
       "  </tbody>\n",
       "</table>\n",
       "<p>281 rows × 101 columns</p>\n",
       "</div>"
      ],
      "text/plain": [
       "            RGD_CR  RGD_PER  RGD_DER      RGD_OP  RGD_FCF  RGD_ROE  \\\n",
       "2000-01-31     NaN      NaN      NaN         NaN      NaN      NaN   \n",
       "2000-02-29     NaN      NaN      NaN    0.000000      NaN      NaN   \n",
       "2000-03-31     NaN      NaN      NaN  242.857143      NaN      NaN   \n",
       "2000-04-30     NaN      NaN      NaN  -45.833333      NaN      NaN   \n",
       "2000-05-31     NaN      NaN      NaN  -46.153846      NaN      NaN   \n",
       "...            ...      ...      ...         ...      ...      ...   \n",
       "2023-01-31     0.0      0.0      0.0   -2.325581      0.0      0.0   \n",
       "2023-02-28     0.0      0.0      0.0  -10.714286      0.0      0.0   \n",
       "2023-03-31     0.0      0.0      0.0   -1.333333      0.0      0.0   \n",
       "2023-04-30     0.0      0.0      0.0    2.702703      0.0      0.0   \n",
       "2023-05-31     0.0      0.0      0.0   15.789474      0.0      0.0   \n",
       "\n",
       "                RGD_HP    RGD_PBR      RGD_LP  RGD_PM  ...  RGD_momentum_ppo  \\\n",
       "2000-01-31         NaN        NaN         NaN     NaN  ...               NaN   \n",
       "2000-02-29  122.222222        NaN  -14.285714     NaN  ...               inf   \n",
       "2000-03-31   20.000000        NaN  100.000000     NaN  ...         17.840281   \n",
       "2000-04-30  -45.833333        NaN  -41.666667     NaN  ...        -22.799258   \n",
       "2000-05-31  -23.076923        NaN    0.000000     NaN  ...        -17.146102   \n",
       "...                ...        ...         ...     ...  ...               ...   \n",
       "2023-01-31    2.272727  -8.333585   -5.405405     0.0  ...         -4.263746   \n",
       "2023-02-28  -12.222222  -6.493093  -18.571429     0.0  ...         -6.816496   \n",
       "2023-03-31   11.392405  39.490094   19.298246     0.0  ...         -4.465818   \n",
       "2023-04-30    4.545455  15.384745   10.294118     0.0  ...         -0.048177   \n",
       "2023-05-31   17.391304   1.111241   14.666667     0.0  ...         -1.374234   \n",
       "\n",
       "            RGD_momentum_ppo_signal  RGD_momentum_ppo_hist  RGD_momentum_pvo  \\\n",
       "2000-01-31                      NaN                    NaN               NaN   \n",
       "2000-02-29                      inf                    inf               inf   \n",
       "2000-03-31                97.840281              -2.159719         75.412390   \n",
       "2000-04-30                25.983341             -47.459763        -11.671260   \n",
       "2000-05-31                10.241292             -50.343868        -21.579250   \n",
       "...                             ...                    ...               ...   \n",
       "2023-01-31                 4.341894             -35.983797        -25.767137   \n",
       "2023-02-28                 1.738756             -58.215218        -35.284025   \n",
       "2023-03-31                 0.413010             -75.833781        -27.038803   \n",
       "2023-04-30                 0.319255             -22.381153         -1.814361   \n",
       "2023-05-31                -0.023754            -107.464188         67.393008   \n",
       "\n",
       "            RGD_momentum_pvo_signal  RGD_momentum_pvo_hist  RGD_momentum_kama  \\\n",
       "2000-01-31                      NaN                    NaN                NaN   \n",
       "2000-02-29                      inf                    inf          84.519787   \n",
       "2000-03-31               155.412390              55.412390           0.073369   \n",
       "2000-04-30                40.662505             -33.173232          -1.270681   \n",
       "2000-05-31                13.819952             -52.193081          -1.246480   \n",
       "...                             ...                    ...                ...   \n",
       "2023-01-31               -10.547156              16.126805           0.469184   \n",
       "2023-02-28               -13.161201              11.623157           0.783950   \n",
       "2023-03-31               -14.254101              -5.950147           1.142634   \n",
       "2023-04-30               -13.420505             -19.268622           6.854616   \n",
       "2023-05-31                -7.279187             -53.039890           5.195911   \n",
       "\n",
       "            RGD_others_dr  RGD_others_dlr  RGD_others_cr  \n",
       "2000-01-31            NaN             NaN            NaN  \n",
       "2000-02-29     -22.613251             inf            inf  \n",
       "2000-03-31    -118.846154     -141.033896     -53.846154  \n",
       "2000-04-30      31.868132       43.700965    -100.000000  \n",
       "2000-05-31    -130.952381     -121.570749            inf  \n",
       "...                   ...             ...            ...  \n",
       "2023-01-31     258.333333      269.781291       2.631579  \n",
       "2023-02-28     -22.077922      -22.838478       1.831502  \n",
       "2023-03-31    -228.333333     -219.218854      -2.158273  \n",
       "2023-04-30      84.615385       78.780613      -4.411765  \n",
       "2023-05-31     -92.777778      -92.278287      -0.384615  \n",
       "\n",
       "[281 rows x 101 columns]"
      ]
     },
     "execution_count": 62,
     "metadata": {},
     "output_type": "execute_result"
    }
   ],
   "source": [
    "fin_data.filter(regex=\"^RGD_\").pct_change()*100"
   ]
  },
  {
   "cell_type": "code",
   "execution_count": 13,
   "metadata": {},
   "outputs": [
    {
     "data": {
      "text/plain": [
       "tensor([0.4500])"
      ]
     },
     "execution_count": 13,
     "metadata": {},
     "output_type": "execute_result"
    }
   ],
   "source": [
    "data.y_val_tensor"
   ]
  },
  {
   "cell_type": "code",
   "execution_count": 8,
   "metadata": {},
   "outputs": [
    {
     "data": {
      "text/plain": [
       "2000-01-31    30.00\n",
       "2000-02-29    44.25\n",
       "2000-03-31    42.00\n",
       "2000-04-30    34.50\n",
       "2000-05-31    32.75\n",
       "              ...  \n",
       "2023-01-31    59.31\n",
       "2023-02-28    60.50\n",
       "2023-03-31    60.83\n",
       "2023-04-30    57.67\n",
       "2023-05-31    53.66\n",
       "Name: CGO_CP, Length: 281, dtype: float64"
      ]
     },
     "execution_count": 8,
     "metadata": {},
     "output_type": "execute_result"
    }
   ],
   "source": [
    "fin_data[\"CGO_CP\"]"
   ]
  },
  {
   "cell_type": "code",
   "execution_count": 5,
   "metadata": {},
   "outputs": [],
   "source": [
    "# from helpers.iterative import _format_tensors_it\n",
    "# fin_data = pd.read_parquet(\"./DATA/Monthly/Processed/month_data_fin_tec.parquet\")\n",
    "# macro_data = pd.read_parquet(\"./DATA/Monthly/Processed/month_data_macro_USCA.parquet\")\n",
    "# z = _format_tensors_it(fin_data, macro_data, ticker, lookback=12, pred_horizon=1, multistep=False, pred_target=\"return\")"
   ]
  },
  {
   "cell_type": "code",
   "execution_count": 10,
   "metadata": {},
   "outputs": [],
   "source": [
    "data = IT_DATAMODULE(batch_size=BATCH_SIZE, lookback=LOOKBACK, pred_horizon=PRED_HORIZON, multistep=False, data_type=\"monthly\", ticker=\"RGD\", overwrite_cache=True, pred_target=\"price\")"
   ]
  },
  {
   "cell_type": "code",
   "execution_count": 12,
   "metadata": {},
   "outputs": [
    {
     "data": {
      "application/vnd.jupyter.widget-view+json": {
       "model_id": "0489e877bd3f4ec099baa076a20db499",
       "version_major": 2,
       "version_minor": 0
      },
      "text/plain": [
       "  0%|          | 0/269 [00:00<?, ?it/s]"
      ]
     },
     "metadata": {},
     "output_type": "display_data"
    },
    {
     "data": {
      "text/plain": [
       "(torch.Size([1, 12, 158]), torch.Size([1]))"
      ]
     },
     "execution_count": 12,
     "metadata": {},
     "output_type": "execute_result"
    }
   ],
   "source": [
    "data.prepare_data()\n",
    "data.setup()\n",
    "data.X_val_tensor.shape, data.y_val_tensor.shape"
   ]
  },
  {
   "cell_type": "code",
   "execution_count": null,
   "metadata": {},
   "outputs": [],
   "source": [
    "model = CNN_1D_LSTM(input_size=data.X_val_tensor.shape[-1], hidden_size=128, num_layers=2, output_size=1, dropout=0, lr=LEARING_RATE)"
   ]
  },
  {
   "cell_type": "code",
   "execution_count": null,
   "metadata": {},
   "outputs": [],
   "source": [
    "pred = model(data.X_val_tensor).cpu().detach().numpy()"
   ]
  },
  {
   "cell_type": "code",
   "execution_count": null,
   "metadata": {},
   "outputs": [],
   "source": [
    "from sklearn.metrics import mean_absolute_error, mean_absolute_percentage_error, mean_squared_error, r2_score\n",
    "\n",
    "mean_absolute_error(data.y_val_tensor, pred)"
   ]
  },
  {
   "cell_type": "code",
   "execution_count": null,
   "metadata": {},
   "outputs": [],
   "source": [
    "early_stopping = pl.callbacks.EarlyStopping(monitor=\"val_loss\", patience=5, mode=\"min\")\n",
    "convlstm_checkpoint = pl.callbacks.ModelCheckpoint(save_top_k=1, monitor=\"val_loss\", mode=\"min\")\n",
    "\n",
    "#compiled_model = torch.compile(model, mode=\"reduce-overhead\", backend=\"aot_eager\")\n",
    "mps.empty_cache()\n",
    "\n",
    "convlstm_trainer = pl.Trainer(accelerator=\"gpu\", max_epochs=EPOCHS, log_every_n_steps=1, callbacks=[early_stopping, convlstm_checkpoint], enable_checkpointing=True, enable_progress_bar=True, default_root_dir=\"./lightning_logs/cnnlstm/\")\n",
    "convlstm_trainer.fit(model=model, datamodule=data)\n",
    "mps.empty_cache()"
   ]
  }
 ],
 "metadata": {
  "kernelspec": {
   "display_name": "master_thesis",
   "language": "python",
   "name": "python3"
  },
  "language_info": {
   "codemirror_mode": {
    "name": "ipython",
    "version": 3
   },
   "file_extension": ".py",
   "mimetype": "text/x-python",
   "name": "python",
   "nbconvert_exporter": "python",
   "pygments_lexer": "ipython3",
   "version": "3.10.11"
  },
  "orig_nbformat": 4
 },
 "nbformat": 4,
 "nbformat_minor": 2
}
