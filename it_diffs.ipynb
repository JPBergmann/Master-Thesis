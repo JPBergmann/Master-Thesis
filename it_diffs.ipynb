{
 "cells": [
  {
   "cell_type": "code",
   "execution_count": 1,
   "metadata": {},
   "outputs": [
    {
     "data": {
      "application/javascript": "IPython.notebook.set_autosave_interval(0)"
     },
     "metadata": {},
     "output_type": "display_data"
    },
    {
     "name": "stdout",
     "output_type": "stream",
     "text": [
      "Autosave disabled\n"
     ]
    }
   ],
   "source": [
    "import pandas as pd\n",
    "import numpy as np\n",
    "import matplotlib.pyplot as plt\n",
    "\n",
    "import sklearn\n",
    "import torch\n",
    "from torch.utils.data import TensorDataset, DataLoader\n",
    "from torch import nn\n",
    "from torch import optim\n",
    "from torch import mps\n",
    "import pandas as pd\n",
    "import numpy as np\n",
    "from sklearn.preprocessing import MinMaxScaler, StandardScaler, RobustScaler, PowerTransformer, minmax_scale, power_transform, scale\n",
    "# from tqdm import tqdm\n",
    "import os\n",
    "import ast\n",
    "import pytorch_lightning as pl\n",
    "from pytorch_lightning.callbacks import EarlyStopping, ModelCheckpoint, StochasticWeightAveraging\n",
    "from pytorch_lightning.loggers import TensorBoardLogger\n",
    "from sklearn.metrics import mean_absolute_error, mean_squared_error, mean_absolute_percentage_error, r2_score\n",
    "import torchmetrics.functional as tmf\n",
    "\n",
    "from helpers.iterative import IT_DATAMODULE\n",
    "from models.iterative import CNN_1D_LSTM\n",
    "from pytorch_ranger import Ranger\n",
    "\n",
    "# Set global seed for reproducibility in numpy, torch, scikit-learn\n",
    "\n",
    "# torch.manual_seed(42)\n",
    "# torch.mps.manual_seed(42)\n",
    "# torch.backends.mps.deterministic = True\n",
    "# torch.cuda.manual_seed(42)\n",
    "# torch.backends.cudnn.deterministic = True\n",
    "# np.random.seed(42)\n",
    "%autosave 0"
   ]
  },
  {
   "cell_type": "code",
   "execution_count": 2,
   "metadata": {},
   "outputs": [],
   "source": [
    "def inference(mode=\"test\"):\n",
    "\n",
    "    ROOTDIR = \"./logs/hp_opt_it_price_monthly_1mo/\"\n",
    "    with open(\"./DATA/Tickers/month_tickers_clean.txt\", \"r\") as f:\n",
    "        tickers = f.read().strip().split(\"\\n\")\n",
    "\n",
    "    if torch.cuda.is_available():\n",
    "        DEVICE = \"cuda\"\n",
    "        torch.set_float32_matmul_precision(\"medium\")\n",
    "    elif torch.backends.mps.is_available():\n",
    "        DEVICE = \"mps\"\n",
    "    else:\n",
    "        DEVICE = \"cpu\"\n",
    "\n",
    "    preds = []\n",
    "    trues = []\n",
    "    param_list = []\n",
    "    stocks = []\n",
    "    losses = []\n",
    "    mses = []\n",
    "    maes = []\n",
    "    mapes = []\n",
    "\n",
    "    for run in range(409):\n",
    "        stocks.append(tickers[int(run)])\n",
    "        with open(os.path.join(ROOTDIR, str(run), \"best_trial.txt\")) as f:\n",
    "            text = f.readlines()\n",
    "            best_trial = text[0].strip()\n",
    "            params = ast.literal_eval(text[2].strip().replace(\"Params: \", \"\"))\n",
    "            #param_list.append(params)\n",
    "            loss = float(text[1].strip().replace(\"Loss: \", \"\"))\n",
    "            losses.append(loss)\n",
    "        with open(os.path.join(ROOTDIR, str(run), best_trial, \"best_checkpoint.txt\")) as f:\n",
    "            text = f.readlines()\n",
    "            best_checkpoint = text[1].strip().replace(\"Best Checkpoint: \", \"\")\n",
    "            ckpt = torch.load(best_checkpoint, map_location=DEVICE)\n",
    "            params[\"epochs\"] = ckpt[\"epoch\"]\n",
    "            param_list.append(params)\n",
    "\n",
    "        print(f\"Working on ticker {run} of {len(tickers)}\") if run % 100 == 0 else None\n",
    "\n",
    "        if mode == \"test\":\n",
    "\n",
    "            data = IT_DATAMODULE(\n",
    "                batch_size=params[\"batch_size\"],\n",
    "                lookback=params[\"lookback\"],\n",
    "                pred_horizon=1,\n",
    "                multistep=False,\n",
    "                data_type=\"monthly\",\n",
    "                ticker_idx=run,\n",
    "                train_workers=0,\n",
    "                overwrite_cache=False,\n",
    "                pred_target=\"price\",\n",
    "            )\n",
    "\n",
    "            # Global model hyperparameters and constants\n",
    "            data.prepare_data()\n",
    "            data.setup()\n",
    "\n",
    "            # data = IT_DATAMODULE(\n",
    "            #     batch_size=16,\n",
    "            #     lookback=24,\n",
    "            #     pred_horizon=1,\n",
    "            #     multistep=False,\n",
    "            #     data_type=\"monthly\",\n",
    "            #     ticker_idx=run,\n",
    "            #     train_workers=0,\n",
    "            #     overwrite_cache=False,\n",
    "            #     pred_target=\"price\",\n",
    "            # )\n",
    "\n",
    "            # data.prepare_data()\n",
    "            # data.setup()\n",
    "\n",
    "            # model = CNN_1D_LSTM(\n",
    "            #     n_features=data.X_train_tensor.shape[-1],\n",
    "            #     lookback=24,\n",
    "            #     epochs=150,\n",
    "            #     batches_p_epoch=int(np.ceil(len(data.X_train_tensor) / 16)),\n",
    "            #     cnn_layers=2,\n",
    "            #     conv_factor=0.5,\n",
    "            #     lstm_layers=2,\n",
    "            #     lstm_nodes=64,\n",
    "            #     fc_layers=1,\n",
    "            #     fc_nodes=64,\n",
    "            #     dropout=0.3,\n",
    "            #     bidirectional=False,\n",
    "            #     lr=0.001,\n",
    "            #     optimizer=Ranger,\n",
    "            #     )\n",
    "            \n",
    "            # X = torch.cat([data.X_train_tensor, data.X_val_tensor], dim=0)\n",
    "            # y = torch.cat([data.y_train_tensor, data.y_val_tensor.unsqueeze(1)], dim=0)\n",
    "            # train_ds = TensorDataset(X, y)\n",
    "            # train_dl = DataLoader(train_ds, batch_size=16, shuffle=True, num_workers=0)\n",
    "            \n",
    "            # trainer = pl.Trainer(\n",
    "            #     accelerator=DEVICE,\n",
    "            #     logger=False,\n",
    "            #     enable_checkpointing=False,\n",
    "            #     enable_progress_bar=False,\n",
    "            #     enable_model_summary=False,\n",
    "            #     max_epochs=150,\n",
    "            # )\n",
    "\n",
    "            # trainer.fit(model, train_dl)\n",
    "            model = CNN_1D_LSTM.load_from_checkpoint(best_checkpoint, optimizer=Ranger)\n",
    "        else:\n",
    "\n",
    "            data = IT_DATAMODULE(\n",
    "                batch_size=params[\"batch_size\"],\n",
    "                lookback=params[\"lookback\"],\n",
    "                pred_horizon=1,\n",
    "                multistep=False,\n",
    "                data_type=\"monthly\",\n",
    "                ticker_idx=run,\n",
    "                train_workers=0,\n",
    "                overwrite_cache=False,\n",
    "                pred_target=\"price\",\n",
    "            )\n",
    "\n",
    "            # Global model hyperparameters and constants\n",
    "            data.prepare_data()\n",
    "            data.setup()\n",
    "\n",
    "            model = CNN_1D_LSTM.load_from_checkpoint(best_checkpoint, optimizer=Ranger)\n",
    "\n",
    "        model.eval()\n",
    "        with torch.inference_mode():\n",
    "            if mode == \"test\":\n",
    "                model.to(DEVICE)\n",
    "                y_pred = model(data.X_test_tensor.to(DEVICE)).squeeze(1)\n",
    "                maes.append(tmf.mean_absolute_error(y_pred, data.y_test_tensor.to(DEVICE)).item())\n",
    "                mses.append(tmf.mean_squared_error(y_pred, data.y_test_tensor.to(DEVICE)).item())\n",
    "                mapes.append(tmf.mean_absolute_percentage_error(y_pred, data.y_test_tensor.to(DEVICE)).item())\n",
    "                \n",
    "                preds.append(y_pred.cpu().detach().numpy().item())\n",
    "                trues.append(data.y_test_tensor.cpu().detach().numpy().item())\n",
    "            else:\n",
    "                model.to(DEVICE)\n",
    "                y_pred = model(data.X_val_tensor.to(DEVICE)).squeeze(1)\n",
    "                maes.append(tmf.mean_absolute_error(y_pred, data.y_val_tensor.to(DEVICE)).item())\n",
    "                mses.append(tmf.mean_squared_error(y_pred, data.y_val_tensor.to(DEVICE)).item())\n",
    "                mapes.append(tmf.mean_absolute_percentage_error(y_pred, data.y_val_tensor.to(DEVICE)).item())\n",
    "                \n",
    "                preds.append(y_pred.cpu().detach().numpy().item())\n",
    "                trues.append(data.y_val_tensor.cpu().detach().numpy().item())\n",
    "\n",
    "    return pd.DataFrame({\"ticker\": tickers, \"preds\": preds, \"trues\": trues, \"loss\": losses, \"mae\": maes, \"mse\": mses, \"mape\": mapes, \"params\": param_list})"
   ]
  },
  {
   "cell_type": "code",
   "execution_count": 3,
   "metadata": {},
   "outputs": [
    {
     "name": "stdout",
     "output_type": "stream",
     "text": [
      "Working on ticker 0 of 409\n",
      "Working on ticker 100 of 409\n",
      "Working on ticker 200 of 409\n",
      "Working on ticker 300 of 409\n",
      "Working on ticker 400 of 409\n"
     ]
    }
   ],
   "source": [
    "val = inference(mode=\"val\")"
   ]
  },
  {
   "cell_type": "code",
   "execution_count": 4,
   "metadata": {},
   "outputs": [
    {
     "name": "stdout",
     "output_type": "stream",
     "text": [
      "Val MAPE: 3.08%\n",
      "Val MAE: 0.74\n",
      "Val MSE: 51.06\n",
      "Val RMSE: 7.15\n"
     ]
    }
   ],
   "source": [
    "print(f\"Val MAPE: {mean_absolute_percentage_error(val['preds'].values, val['trues'].values):.2%}\")\n",
    "print(f\"Val MAE: {mean_absolute_error(val['preds'].values, val['trues'].values):.2f}\")\n",
    "print(f\"Val MSE: {mean_squared_error(val['preds'].values, val['trues'].values):.2f}\")\n",
    "print(f\"Val RMSE: {mean_squared_error(val['preds'].values, val['trues'].values, squared=False):.2f}\")"
   ]
  },
  {
   "cell_type": "code",
   "execution_count": 5,
   "metadata": {},
   "outputs": [
    {
     "name": "stdout",
     "output_type": "stream",
     "text": [
      "Working on ticker 0 of 409\n",
      "Working on ticker 100 of 409\n",
      "Working on ticker 200 of 409\n",
      "Working on ticker 300 of 409\n",
      "Working on ticker 400 of 409\n"
     ]
    }
   ],
   "source": [
    "test = inference(mode=\"test\")"
   ]
  },
  {
   "cell_type": "code",
   "execution_count": 6,
   "metadata": {},
   "outputs": [
    {
     "name": "stdout",
     "output_type": "stream",
     "text": [
      "Test MAPE: 11.97%\n",
      "Test MAE: 2.62\n",
      "Test MSE: 284.40\n",
      "Test RMSE: 16.86\n"
     ]
    }
   ],
   "source": [
    "print(f\"Test MAPE: {mean_absolute_percentage_error(test['preds'].values, test['trues'].values):.2%}\")\n",
    "print(f\"Test MAE: {mean_absolute_error(test['preds'].values, test['trues'].values):.2f}\")\n",
    "print(f\"Test MSE: {mean_squared_error(test['preds'].values, test['trues'].values):.2f}\")\n",
    "print(f\"Test RMSE: {mean_squared_error(test['preds'].values, test['trues'].values, squared=False):.2f}\")"
   ]
  },
  {
   "cell_type": "markdown",
   "metadata": {},
   "source": [
    "## Overview of Parameter Frequencies"
   ]
  },
  {
   "cell_type": "code",
   "execution_count": 7,
   "metadata": {},
   "outputs": [
    {
     "data": {
      "text/plain": [
       "False    334\n",
       "True      75\n",
       "Name: params, dtype: int64"
      ]
     },
     "execution_count": 7,
     "metadata": {},
     "output_type": "execute_result"
    }
   ],
   "source": [
    "val[\"params\"].str.get(\"bidirectional\").value_counts()"
   ]
  },
  {
   "cell_type": "code",
   "execution_count": 8,
   "metadata": {},
   "outputs": [
    {
     "data": {
      "text/plain": [
       "<Axes: >"
      ]
     },
     "execution_count": 8,
     "metadata": {},
     "output_type": "execute_result"
    },
    {
     "data": {
      "image/png": "[encoded data removed]",
      "text/plain": [
       "<Figure size 640x480 with 1 Axes>"
      ]
     },
     "metadata": {},
     "output_type": "display_data"
    }
   ],
   "source": [
    "val[\"params\"].str.get(\"epochs\").hist()"
   ]
  },
  {
   "cell_type": "code",
   "execution_count": 9,
   "metadata": {},
   "outputs": [
    {
     "data": {
      "text/plain": [
       "<Axes: >"
      ]
     },
     "execution_count": 9,
     "metadata": {},
     "output_type": "execute_result"
    },
    {
     "data": {
      "image/png": "[encoded data removed]",
      "text/plain": [
       "<Figure size 640x480 with 1 Axes>"
      ]
     },
     "metadata": {},
     "output_type": "display_data"
    }
   ],
   "source": [
    "val[\"params\"].str.get(\"lr\").hist()"
   ]
  },
  {
   "cell_type": "code",
   "execution_count": 10,
   "metadata": {},
   "outputs": [
    {
     "data": {
      "text/plain": [
       "<Axes: >"
      ]
     },
     "execution_count": 10,
     "metadata": {},
     "output_type": "execute_result"
    },
    {
     "data": {
      "image/png": "[encoded data removed]",
      "text/plain": [
       "<Figure size 640x480 with 1 Axes>"
      ]
     },
     "metadata": {},
     "output_type": "display_data"
    }
   ],
   "source": [
    "val[\"params\"].str.get(\"dropout\").hist()"
   ]
  },
  {
   "cell_type": "code",
   "execution_count": 11,
   "metadata": {},
   "outputs": [
    {
     "data": {
      "text/plain": [
       "16    258\n",
       "32    115\n",
       "64     36\n",
       "Name: params, dtype: int64"
      ]
     },
     "execution_count": 11,
     "metadata": {},
     "output_type": "execute_result"
    }
   ],
   "source": [
    "val[\"params\"].str.get(\"batch_size\").value_counts()"
   ]
  },
  {
   "cell_type": "code",
   "execution_count": 12,
   "metadata": {},
   "outputs": [
    {
     "data": {
      "text/plain": [
       "1     102\n",
       "24     98\n",
       "12     87\n",
       "6      65\n",
       "3      57\n",
       "Name: params, dtype: int64"
      ]
     },
     "execution_count": 12,
     "metadata": {},
     "output_type": "execute_result"
    }
   ],
   "source": [
    "val[\"params\"].str.get(\"lookback\").value_counts()"
   ]
  },
  {
   "cell_type": "code",
   "execution_count": 13,
   "metadata": {},
   "outputs": [
    {
     "data": {
      "text/plain": [
       "1    231\n",
       "2    100\n",
       "3     78\n",
       "Name: params, dtype: int64"
      ]
     },
     "execution_count": 13,
     "metadata": {},
     "output_type": "execute_result"
    }
   ],
   "source": [
    "val[\"params\"].str.get(\"lstm_layers\").value_counts()"
   ]
  },
  {
   "cell_type": "code",
   "execution_count": 14,
   "metadata": {},
   "outputs": [
    {
     "data": {
      "text/plain": [
       "256    132\n",
       "128    101\n",
       "32      91\n",
       "64      85\n",
       "Name: params, dtype: int64"
      ]
     },
     "execution_count": 14,
     "metadata": {},
     "output_type": "execute_result"
    }
   ],
   "source": [
    "val[\"params\"].str.get(\"lstm_nodes\").value_counts()"
   ]
  },
  {
   "cell_type": "code",
   "execution_count": 15,
   "metadata": {},
   "outputs": [
    {
     "data": {
      "text/plain": [
       "2    175\n",
       "1    119\n",
       "3    115\n",
       "Name: params, dtype: int64"
      ]
     },
     "execution_count": 15,
     "metadata": {},
     "output_type": "execute_result"
    }
   ],
   "source": [
    "val[\"params\"].str.get(\"fc_layers\").value_counts()"
   ]
  },
  {
   "cell_type": "code",
   "execution_count": 16,
   "metadata": {},
   "outputs": [
    {
     "data": {
      "text/plain": [
       "256    173\n",
       "128     99\n",
       "64      78\n",
       "32      59\n",
       "Name: params, dtype: int64"
      ]
     },
     "execution_count": 16,
     "metadata": {},
     "output_type": "execute_result"
    }
   ],
   "source": [
    "val[\"params\"].str.get(\"fc_nodes\").value_counts()"
   ]
  },
  {
   "cell_type": "code",
   "execution_count": 17,
   "metadata": {},
   "outputs": [
    {
     "data": {
      "text/plain": [
       "1    185\n",
       "2    148\n",
       "3     76\n",
       "Name: params, dtype: int64"
      ]
     },
     "execution_count": 17,
     "metadata": {},
     "output_type": "execute_result"
    }
   ],
   "source": [
    "val[\"params\"].str.get(\"cnn_layers\").value_counts()"
   ]
  },
  {
   "cell_type": "code",
   "execution_count": 18,
   "metadata": {},
   "outputs": [
    {
     "data": {
      "text/plain": [
       "<Axes: >"
      ]
     },
     "execution_count": 18,
     "metadata": {},
     "output_type": "execute_result"
    },
    {
     "data": {
      "image/png": "[encoded data removed]",
      "text/plain": [
       "<Figure size 640x480 with 1 Axes>"
      ]
     },
     "metadata": {},
     "output_type": "display_data"
    }
   ],
   "source": [
    "val[\"params\"].str.get(\"conv_factor\").hist()"
   ]
  },
  {
   "cell_type": "markdown",
   "metadata": {},
   "source": [
    "## Portfolio Construction"
   ]
  },
  {
   "cell_type": "code",
   "execution_count": 19,
   "metadata": {},
   "outputs": [],
   "source": [
    "# Make function and then look if batch 1 alone can do the shit\n",
    "def prep_dfs(val, test):\n",
    "    fin_df = pd.read_parquet(\"./DATA/Monthly/Processed/month_data_fin_tec.parquet\")\n",
    "    val_df = val.copy()\n",
    "    test_df = test.copy()\n",
    "\n",
    "    val_df[\"act_return\"] = val_df[\"ticker\"].apply(lambda x: fin_df[f\"{x}_CP\"].pct_change().iloc[-2]*100)\n",
    "    val_df[\"pred_return\"] = val_df.apply(lambda row: ((row[\"preds\"]) - (fin_df[f\"{row['ticker']}_CP\"].iloc[-3])) / (fin_df[f\"{row['ticker']}_CP\"].iloc[-3])*100, axis=1)\n",
    "\n",
    "    test_df[\"act_return\"] = test_df[\"ticker\"].apply(lambda x: fin_df[f\"{x}_CP\"].pct_change().iloc[-1]*100)\n",
    "    test_df[\"pred_return\"] = test_df.apply(lambda row: ((row[\"preds\"]) - (fin_df[f\"{row['ticker']}_CP\"].iloc[-2])) / (fin_df[f\"{row['ticker']}_CP\"].iloc[-2])*100, axis=1)\n",
    "\n",
    "    return val_df, test_df"
   ]
  },
  {
   "cell_type": "code",
   "execution_count": 20,
   "metadata": {},
   "outputs": [],
   "source": [
    "val, test = prep_dfs(val, test)"
   ]
  },
  {
   "cell_type": "code",
   "execution_count": 21,
   "metadata": {},
   "outputs": [
    {
     "name": "stderr",
     "output_type": "stream",
     "text": [
      "/var/folders/d1/l1bm7lrx6l91ph6t43zbct0c0000gn/T/ipykernel_66652/2828627695.py:1: FutureWarning: The default value of numeric_only in DataFrameGroupBy.mean is deprecated. In a future version, numeric_only will default to False. Either specify numeric_only or select only columns which should be valid for the function.\n",
      "  val.groupby(val[\"params\"].str.get(\"fc_nodes\")).mean().sort_values(by=\"mse\", ascending=False)\n"
     ]
    },
    {
     "data": {
      "text/html": [
       "<div>\n",
       "<style scoped>\n",
       "    .dataframe tbody tr th:only-of-type {\n",
       "        vertical-align: middle;\n",
       "    }\n",
       "\n",
       "    .dataframe tbody tr th {\n",
       "        vertical-align: top;\n",
       "    }\n",
       "\n",
       "    .dataframe thead th {\n",
       "        text-align: right;\n",
       "    }\n",
       "</style>\n",
       "<table border=\"1\" class=\"dataframe\">\n",
       "  <thead>\n",
       "    <tr style=\"text-align: right;\">\n",
       "      <th></th>\n",
       "      <th>preds</th>\n",
       "      <th>trues</th>\n",
       "      <th>loss</th>\n",
       "      <th>mae</th>\n",
       "      <th>mse</th>\n",
       "      <th>mape</th>\n",
       "      <th>act_return</th>\n",
       "      <th>pred_return</th>\n",
       "    </tr>\n",
       "    <tr>\n",
       "      <th>params</th>\n",
       "      <th></th>\n",
       "      <th></th>\n",
       "      <th></th>\n",
       "      <th></th>\n",
       "      <th></th>\n",
       "      <th></th>\n",
       "      <th></th>\n",
       "      <th></th>\n",
       "    </tr>\n",
       "  </thead>\n",
       "  <tbody>\n",
       "    <tr>\n",
       "      <th>256</th>\n",
       "      <td>45.133582</td>\n",
       "      <td>46.246931</td>\n",
       "      <td>179.763983</td>\n",
       "      <td>1.154826</td>\n",
       "      <td>110.852031</td>\n",
       "      <td>0.012787</td>\n",
       "      <td>0.388552</td>\n",
       "      <td>-0.399509</td>\n",
       "    </tr>\n",
       "    <tr>\n",
       "      <th>128</th>\n",
       "      <td>28.587303</td>\n",
       "      <td>29.156010</td>\n",
       "      <td>17.626441</td>\n",
       "      <td>0.603227</td>\n",
       "      <td>15.180012</td>\n",
       "      <td>0.019263</td>\n",
       "      <td>-0.705637</td>\n",
       "      <td>-2.490512</td>\n",
       "    </tr>\n",
       "    <tr>\n",
       "      <th>64</th>\n",
       "      <td>24.604663</td>\n",
       "      <td>24.795192</td>\n",
       "      <td>2.165361</td>\n",
       "      <td>0.295653</td>\n",
       "      <td>1.615770</td>\n",
       "      <td>0.015379</td>\n",
       "      <td>-0.741429</td>\n",
       "      <td>-1.272592</td>\n",
       "    </tr>\n",
       "    <tr>\n",
       "      <th>32</th>\n",
       "      <td>19.233435</td>\n",
       "      <td>19.541441</td>\n",
       "      <td>2.798433</td>\n",
       "      <td>0.337967</td>\n",
       "      <td>1.327296</td>\n",
       "      <td>0.012638</td>\n",
       "      <td>-1.682410</td>\n",
       "      <td>-2.608966</td>\n",
       "    </tr>\n",
       "  </tbody>\n",
       "</table>\n",
       "</div>"
      ],
      "text/plain": [
       "            preds      trues        loss       mae         mse      mape  \\\n",
       "params                                                                     \n",
       "256     45.133582  46.246931  179.763983  1.154826  110.852031  0.012787   \n",
       "128     28.587303  29.156010   17.626441  0.603227   15.180012  0.019263   \n",
       "64      24.604663  24.795192    2.165361  0.295653    1.615770  0.015379   \n",
       "32      19.233435  19.541441    2.798433  0.337967    1.327296  0.012638   \n",
       "\n",
       "        act_return  pred_return  \n",
       "params                           \n",
       "256       0.388552    -0.399509  \n",
       "128      -0.705637    -2.490512  \n",
       "64       -0.741429    -1.272592  \n",
       "32       -1.682410    -2.608966  "
      ]
     },
     "execution_count": 21,
     "metadata": {},
     "output_type": "execute_result"
    }
   ],
   "source": [
    "val.groupby(val[\"params\"].str.get(\"fc_nodes\")).mean().sort_values(by=\"mse\", ascending=False)"
   ]
  },
  {
   "cell_type": "code",
   "execution_count": 22,
   "metadata": {},
   "outputs": [
    {
     "name": "stderr",
     "output_type": "stream",
     "text": [
      "/var/folders/d1/l1bm7lrx6l91ph6t43zbct0c0000gn/T/ipykernel_66652/4274595591.py:1: FutureWarning: The default value of numeric_only in DataFrameGroupBy.mean is deprecated. In a future version, numeric_only will default to False. Either specify numeric_only or select only columns which should be valid for the function.\n",
      "  val.groupby(val[\"params\"].str.get(\"lookback\")).mean().sort_values(by=\"act_return\", ascending=False)\n"
     ]
    },
    {
     "data": {
      "text/html": [
       "<div>\n",
       "<style scoped>\n",
       "    .dataframe tbody tr th:only-of-type {\n",
       "        vertical-align: middle;\n",
       "    }\n",
       "\n",
       "    .dataframe tbody tr th {\n",
       "        vertical-align: top;\n",
       "    }\n",
       "\n",
       "    .dataframe thead th {\n",
       "        text-align: right;\n",
       "    }\n",
       "</style>\n",
       "<table border=\"1\" class=\"dataframe\">\n",
       "  <thead>\n",
       "    <tr style=\"text-align: right;\">\n",
       "      <th></th>\n",
       "      <th>preds</th>\n",
       "      <th>trues</th>\n",
       "      <th>loss</th>\n",
       "      <th>mae</th>\n",
       "      <th>mse</th>\n",
       "      <th>mape</th>\n",
       "      <th>act_return</th>\n",
       "      <th>pred_return</th>\n",
       "    </tr>\n",
       "    <tr>\n",
       "      <th>params</th>\n",
       "      <th></th>\n",
       "      <th></th>\n",
       "      <th></th>\n",
       "      <th></th>\n",
       "      <th></th>\n",
       "      <th></th>\n",
       "      <th></th>\n",
       "      <th></th>\n",
       "    </tr>\n",
       "  </thead>\n",
       "  <tbody>\n",
       "    <tr>\n",
       "      <th>24</th>\n",
       "      <td>30.757536</td>\n",
       "      <td>31.079592</td>\n",
       "      <td>6.546286</td>\n",
       "      <td>0.392088</td>\n",
       "      <td>3.838159</td>\n",
       "      <td>0.023284</td>\n",
       "      <td>0.950250</td>\n",
       "      <td>-0.520088</td>\n",
       "    </tr>\n",
       "    <tr>\n",
       "      <th>12</th>\n",
       "      <td>64.883117</td>\n",
       "      <td>66.790162</td>\n",
       "      <td>351.823291</td>\n",
       "      <td>1.976794</td>\n",
       "      <td>216.638431</td>\n",
       "      <td>0.013309</td>\n",
       "      <td>0.488220</td>\n",
       "      <td>-0.707682</td>\n",
       "    </tr>\n",
       "    <tr>\n",
       "      <th>3</th>\n",
       "      <td>22.472709</td>\n",
       "      <td>22.591579</td>\n",
       "      <td>0.547949</td>\n",
       "      <td>0.164255</td>\n",
       "      <td>0.205958</td>\n",
       "      <td>0.012080</td>\n",
       "      <td>-0.415720</td>\n",
       "      <td>-0.851496</td>\n",
       "    </tr>\n",
       "    <tr>\n",
       "      <th>6</th>\n",
       "      <td>18.569811</td>\n",
       "      <td>18.586077</td>\n",
       "      <td>0.186350</td>\n",
       "      <td>0.054763</td>\n",
       "      <td>0.029130</td>\n",
       "      <td>0.002991</td>\n",
       "      <td>-0.525575</td>\n",
       "      <td>-0.643968</td>\n",
       "    </tr>\n",
       "    <tr>\n",
       "      <th>1</th>\n",
       "      <td>24.952326</td>\n",
       "      <td>25.703677</td>\n",
       "      <td>18.477297</td>\n",
       "      <td>0.776251</td>\n",
       "      <td>16.149478</td>\n",
       "      <td>0.017075</td>\n",
       "      <td>-2.328170</td>\n",
       "      <td>-3.587615</td>\n",
       "    </tr>\n",
       "  </tbody>\n",
       "</table>\n",
       "</div>"
      ],
      "text/plain": [
       "            preds      trues        loss       mae         mse      mape  \\\n",
       "params                                                                     \n",
       "24      30.757536  31.079592    6.546286  0.392088    3.838159  0.023284   \n",
       "12      64.883117  66.790162  351.823291  1.976794  216.638431  0.013309   \n",
       "3       22.472709  22.591579    0.547949  0.164255    0.205958  0.012080   \n",
       "6       18.569811  18.586077    0.186350  0.054763    0.029130  0.002991   \n",
       "1       24.952326  25.703677   18.477297  0.776251   16.149478  0.017075   \n",
       "\n",
       "        act_return  pred_return  \n",
       "params                           \n",
       "24        0.950250    -0.520088  \n",
       "12        0.488220    -0.707682  \n",
       "3        -0.415720    -0.851496  \n",
       "6        -0.525575    -0.643968  \n",
       "1        -2.328170    -3.587615  "
      ]
     },
     "execution_count": 22,
     "metadata": {},
     "output_type": "execute_result"
    }
   ],
   "source": [
    "val.groupby(val[\"params\"].str.get(\"lookback\")).mean().sort_values(by=\"act_return\", ascending=False)"
   ]
  },
  {
   "cell_type": "code",
   "execution_count": 23,
   "metadata": {},
   "outputs": [
    {
     "data": {
      "text/html": [
       "<div>\n",
       "<style scoped>\n",
       "    .dataframe tbody tr th:only-of-type {\n",
       "        vertical-align: middle;\n",
       "    }\n",
       "\n",
       "    .dataframe tbody tr th {\n",
       "        vertical-align: top;\n",
       "    }\n",
       "\n",
       "    .dataframe thead th {\n",
       "        text-align: right;\n",
       "    }\n",
       "</style>\n",
       "<table border=\"1\" class=\"dataframe\">\n",
       "  <thead>\n",
       "    <tr style=\"text-align: right;\">\n",
       "      <th></th>\n",
       "      <th>ticker</th>\n",
       "      <th>preds</th>\n",
       "      <th>trues</th>\n",
       "      <th>loss</th>\n",
       "      <th>mae</th>\n",
       "      <th>mse</th>\n",
       "      <th>mape</th>\n",
       "      <th>params</th>\n",
       "      <th>act_return</th>\n",
       "      <th>pred_return</th>\n",
       "    </tr>\n",
       "  </thead>\n",
       "  <tbody>\n",
       "    <tr>\n",
       "      <th>175</th>\n",
       "      <td>BLU</td>\n",
       "      <td>20.267626</td>\n",
       "      <td>19.590000</td>\n",
       "      <td>39.636032</td>\n",
       "      <td>0.677626</td>\n",
       "      <td>4.591765e-01</td>\n",
       "      <td>3.459039e-02</td>\n",
       "      <td>{'batch_size': 16, 'lookback': 24, 'epochs': 0...</td>\n",
       "      <td>101.750772</td>\n",
       "      <td>108.729411</td>\n",
       "    </tr>\n",
       "    <tr>\n",
       "      <th>208</th>\n",
       "      <td>DBG</td>\n",
       "      <td>0.509553</td>\n",
       "      <td>0.510000</td>\n",
       "      <td>0.000001</td>\n",
       "      <td>0.000447</td>\n",
       "      <td>2.001600e-07</td>\n",
       "      <td>8.772401e-04</td>\n",
       "      <td>{'batch_size': 16, 'lookback': 24, 'epochs': 1...</td>\n",
       "      <td>15.909091</td>\n",
       "      <td>15.807409</td>\n",
       "    </tr>\n",
       "    <tr>\n",
       "      <th>128</th>\n",
       "      <td>BHC</td>\n",
       "      <td>11.834883</td>\n",
       "      <td>9.970000</td>\n",
       "      <td>20.697920</td>\n",
       "      <td>1.864882</td>\n",
       "      <td>3.477787e+00</td>\n",
       "      <td>1.870494e-01</td>\n",
       "      <td>{'batch_size': 64, 'lookback': 24, 'epochs': 1...</td>\n",
       "      <td>-8.949772</td>\n",
       "      <td>8.081121</td>\n",
       "    </tr>\n",
       "    <tr>\n",
       "      <th>15</th>\n",
       "      <td>RCH</td>\n",
       "      <td>39.985252</td>\n",
       "      <td>40.740002</td>\n",
       "      <td>1.521083</td>\n",
       "      <td>0.754749</td>\n",
       "      <td>5.696465e-01</td>\n",
       "      <td>1.852600e-02</td>\n",
       "      <td>{'batch_size': 16, 'lookback': 24, 'epochs': 4...</td>\n",
       "      <td>9.105517</td>\n",
       "      <td>7.084232</td>\n",
       "    </tr>\n",
       "    <tr>\n",
       "      <th>294</th>\n",
       "      <td>PPTA</td>\n",
       "      <td>6.431440</td>\n",
       "      <td>6.450000</td>\n",
       "      <td>0.000383</td>\n",
       "      <td>0.018559</td>\n",
       "      <td>3.444534e-04</td>\n",
       "      <td>2.877435e-03</td>\n",
       "      <td>{'batch_size': 16, 'lookback': 24, 'epochs': 1...</td>\n",
       "      <td>7.142857</td>\n",
       "      <td>6.834557</td>\n",
       "    </tr>\n",
       "    <tr>\n",
       "      <th>23</th>\n",
       "      <td>TCN</td>\n",
       "      <td>10.859990</td>\n",
       "      <td>10.860000</td>\n",
       "      <td>0.000036</td>\n",
       "      <td>0.000010</td>\n",
       "      <td>9.094947e-11</td>\n",
       "      <td>8.781532e-07</td>\n",
       "      <td>{'batch_size': 64, 'lookback': 24, 'epochs': 4...</td>\n",
       "      <td>3.625954</td>\n",
       "      <td>3.625860</td>\n",
       "    </tr>\n",
       "    <tr>\n",
       "      <th>53</th>\n",
       "      <td>EQB</td>\n",
       "      <td>60.130161</td>\n",
       "      <td>60.099998</td>\n",
       "      <td>0.007198</td>\n",
       "      <td>0.030163</td>\n",
       "      <td>9.097952e-04</td>\n",
       "      <td>5.018770e-04</td>\n",
       "      <td>{'batch_size': 16, 'lookback': 24, 'epochs': 1...</td>\n",
       "      <td>3.087479</td>\n",
       "      <td>3.139213</td>\n",
       "    </tr>\n",
       "    <tr>\n",
       "      <th>162</th>\n",
       "      <td>WCP</td>\n",
       "      <td>10.677123</td>\n",
       "      <td>10.680000</td>\n",
       "      <td>0.000016</td>\n",
       "      <td>0.002877</td>\n",
       "      <td>8.278484e-06</td>\n",
       "      <td>2.694041e-04</td>\n",
       "      <td>{'batch_size': 16, 'lookback': 24, 'epochs': 6...</td>\n",
       "      <td>2.200957</td>\n",
       "      <td>2.173427</td>\n",
       "    </tr>\n",
       "    <tr>\n",
       "      <th>7</th>\n",
       "      <td>EFR</td>\n",
       "      <td>7.698582</td>\n",
       "      <td>7.700000</td>\n",
       "      <td>0.001508</td>\n",
       "      <td>0.001418</td>\n",
       "      <td>2.011046e-06</td>\n",
       "      <td>1.841706e-04</td>\n",
       "      <td>{'batch_size': 16, 'lookback': 24, 'epochs': 2...</td>\n",
       "      <td>2.122016</td>\n",
       "      <td>2.103206</td>\n",
       "    </tr>\n",
       "    <tr>\n",
       "      <th>32</th>\n",
       "      <td>RNW</td>\n",
       "      <td>12.658909</td>\n",
       "      <td>12.650000</td>\n",
       "      <td>0.000133</td>\n",
       "      <td>0.008909</td>\n",
       "      <td>7.937429e-05</td>\n",
       "      <td>7.042866e-04</td>\n",
       "      <td>{'batch_size': 16, 'lookback': 24, 'epochs': 1...</td>\n",
       "      <td>1.688103</td>\n",
       "      <td>1.759717</td>\n",
       "    </tr>\n",
       "    <tr>\n",
       "      <th>11</th>\n",
       "      <td>RBA</td>\n",
       "      <td>77.206955</td>\n",
       "      <td>77.519997</td>\n",
       "      <td>0.230784</td>\n",
       "      <td>0.313042</td>\n",
       "      <td>9.799509e-02</td>\n",
       "      <td>4.038206e-03</td>\n",
       "      <td>{'batch_size': 16, 'lookback': 24, 'epochs': 1...</td>\n",
       "      <td>1.946344</td>\n",
       "      <td>1.534659</td>\n",
       "    </tr>\n",
       "    <tr>\n",
       "      <th>343</th>\n",
       "      <td>DII/B</td>\n",
       "      <td>3.979958</td>\n",
       "      <td>3.970000</td>\n",
       "      <td>0.001499</td>\n",
       "      <td>0.009958</td>\n",
       "      <td>9.915759e-05</td>\n",
       "      <td>2.508260e-03</td>\n",
       "      <td>{'batch_size': 32, 'lookback': 24, 'epochs': 3...</td>\n",
       "      <td>1.275510</td>\n",
       "      <td>1.529536</td>\n",
       "    </tr>\n",
       "    <tr>\n",
       "      <th>92</th>\n",
       "      <td>FCR-U</td>\n",
       "      <td>15.866463</td>\n",
       "      <td>15.910000</td>\n",
       "      <td>0.002966</td>\n",
       "      <td>0.043537</td>\n",
       "      <td>1.895483e-03</td>\n",
       "      <td>2.736464e-03</td>\n",
       "      <td>{'batch_size': 16, 'lookback': 24, 'epochs': 8...</td>\n",
       "      <td>1.144310</td>\n",
       "      <td>0.867532</td>\n",
       "    </tr>\n",
       "    <tr>\n",
       "      <th>241</th>\n",
       "      <td>GASX</td>\n",
       "      <td>0.682219</td>\n",
       "      <td>0.680000</td>\n",
       "      <td>0.000016</td>\n",
       "      <td>0.002219</td>\n",
       "      <td>4.923262e-06</td>\n",
       "      <td>3.263004e-03</td>\n",
       "      <td>{'batch_size': 16, 'lookback': 24, 'epochs': 4...</td>\n",
       "      <td>0.000000</td>\n",
       "      <td>0.326301</td>\n",
       "    </tr>\n",
       "  </tbody>\n",
       "</table>\n",
       "</div>"
      ],
      "text/plain": [
       "    ticker      preds      trues       loss       mae           mse  \\\n",
       "175    BLU  20.267626  19.590000  39.636032  0.677626  4.591765e-01   \n",
       "208    DBG   0.509553   0.510000   0.000001  0.000447  2.001600e-07   \n",
       "128    BHC  11.834883   9.970000  20.697920  1.864882  3.477787e+00   \n",
       "15     RCH  39.985252  40.740002   1.521083  0.754749  5.696465e-01   \n",
       "294   PPTA   6.431440   6.450000   0.000383  0.018559  3.444534e-04   \n",
       "23     TCN  10.859990  10.860000   0.000036  0.000010  9.094947e-11   \n",
       "53     EQB  60.130161  60.099998   0.007198  0.030163  9.097952e-04   \n",
       "162    WCP  10.677123  10.680000   0.000016  0.002877  8.278484e-06   \n",
       "7      EFR   7.698582   7.700000   0.001508  0.001418  2.011046e-06   \n",
       "32     RNW  12.658909  12.650000   0.000133  0.008909  7.937429e-05   \n",
       "11     RBA  77.206955  77.519997   0.230784  0.313042  9.799509e-02   \n",
       "343  DII/B   3.979958   3.970000   0.001499  0.009958  9.915759e-05   \n",
       "92   FCR-U  15.866463  15.910000   0.002966  0.043537  1.895483e-03   \n",
       "241   GASX   0.682219   0.680000   0.000016  0.002219  4.923262e-06   \n",
       "\n",
       "             mape                                             params  \\\n",
       "175  3.459039e-02  {'batch_size': 16, 'lookback': 24, 'epochs': 0...   \n",
       "208  8.772401e-04  {'batch_size': 16, 'lookback': 24, 'epochs': 1...   \n",
       "128  1.870494e-01  {'batch_size': 64, 'lookback': 24, 'epochs': 1...   \n",
       "15   1.852600e-02  {'batch_size': 16, 'lookback': 24, 'epochs': 4...   \n",
       "294  2.877435e-03  {'batch_size': 16, 'lookback': 24, 'epochs': 1...   \n",
       "23   8.781532e-07  {'batch_size': 64, 'lookback': 24, 'epochs': 4...   \n",
       "53   5.018770e-04  {'batch_size': 16, 'lookback': 24, 'epochs': 1...   \n",
       "162  2.694041e-04  {'batch_size': 16, 'lookback': 24, 'epochs': 6...   \n",
       "7    1.841706e-04  {'batch_size': 16, 'lookback': 24, 'epochs': 2...   \n",
       "32   7.042866e-04  {'batch_size': 16, 'lookback': 24, 'epochs': 1...   \n",
       "11   4.038206e-03  {'batch_size': 16, 'lookback': 24, 'epochs': 1...   \n",
       "343  2.508260e-03  {'batch_size': 32, 'lookback': 24, 'epochs': 3...   \n",
       "92   2.736464e-03  {'batch_size': 16, 'lookback': 24, 'epochs': 8...   \n",
       "241  3.263004e-03  {'batch_size': 16, 'lookback': 24, 'epochs': 4...   \n",
       "\n",
       "     act_return  pred_return  \n",
       "175  101.750772   108.729411  \n",
       "208   15.909091    15.807409  \n",
       "128   -8.949772     8.081121  \n",
       "15     9.105517     7.084232  \n",
       "294    7.142857     6.834557  \n",
       "23     3.625954     3.625860  \n",
       "53     3.087479     3.139213  \n",
       "162    2.200957     2.173427  \n",
       "7      2.122016     2.103206  \n",
       "32     1.688103     1.759717  \n",
       "11     1.946344     1.534659  \n",
       "343    1.275510     1.529536  \n",
       "92     1.144310     0.867532  \n",
       "241    0.000000     0.326301  "
      ]
     },
     "execution_count": 23,
     "metadata": {},
     "output_type": "execute_result"
    }
   ],
   "source": [
    "val_portfolio = val.loc[\n",
    "    (val[\"params\"].str.get(\"lookback\") == 24) \n",
    "    & (val[\"pred_return\"] > 0) \n",
    "    & (val[\"params\"].str.get(\"fc_nodes\") <= 64)]\\\n",
    "    .sort_values(by=\"pred_return\", ascending=False)\n",
    "#val_portfolio = val.loc[(val[\"params\"].str.get(\"lstm_nodes\") == 32) & (val[\"params\"].str.get(\"fc_nodes\") == 64) & (val[\"pred_return\"] > 0)].sort_values(by=\"pred_return\", ascending=False).head(20)\n",
    "# val_portfolio = val.sort_values(by=\"pred_return\", ascending=False).head(20)\n",
    "# val_portfolio = val.loc[(val[\"mape\"] < 0.005)].sort_values(by=\"pred_return\", ascending=False).head(10)\n",
    "val_portfolio.to_csv(\"./results/IT/val_portfolio.csv\", index=False)\n",
    "val_portfolio"
   ]
  },
  {
   "cell_type": "code",
   "execution_count": 24,
   "metadata": {},
   "outputs": [
    {
     "data": {
      "text/plain": [
       "10.146367043374553"
      ]
     },
     "execution_count": 24,
     "metadata": {},
     "output_type": "execute_result"
    }
   ],
   "source": [
    "val_portfolio[\"act_return\"].mean()"
   ]
  },
  {
   "cell_type": "code",
   "execution_count": 33,
   "metadata": {},
   "outputs": [
    {
     "data": {
      "text/html": [
       "<div>\n",
       "<style scoped>\n",
       "    .dataframe tbody tr th:only-of-type {\n",
       "        vertical-align: middle;\n",
       "    }\n",
       "\n",
       "    .dataframe tbody tr th {\n",
       "        vertical-align: top;\n",
       "    }\n",
       "\n",
       "    .dataframe thead th {\n",
       "        text-align: right;\n",
       "    }\n",
       "</style>\n",
       "<table border=\"1\" class=\"dataframe\">\n",
       "  <thead>\n",
       "    <tr style=\"text-align: right;\">\n",
       "      <th></th>\n",
       "      <th>ticker</th>\n",
       "      <th>preds</th>\n",
       "      <th>trues</th>\n",
       "      <th>loss</th>\n",
       "      <th>mae</th>\n",
       "      <th>mse</th>\n",
       "      <th>mape</th>\n",
       "      <th>params</th>\n",
       "      <th>act_return</th>\n",
       "      <th>pred_return</th>\n",
       "    </tr>\n",
       "  </thead>\n",
       "  <tbody>\n",
       "    <tr>\n",
       "      <th>128</th>\n",
       "      <td>BHC</td>\n",
       "      <td>11.834883</td>\n",
       "      <td>11.140000</td>\n",
       "      <td>20.697920</td>\n",
       "      <td>0.694882</td>\n",
       "      <td>0.482862</td>\n",
       "      <td>0.062377</td>\n",
       "      <td>{'batch_size': 64, 'lookback': 24, 'epochs': 1...</td>\n",
       "      <td>11.735206</td>\n",
       "      <td>18.704942</td>\n",
       "    </tr>\n",
       "    <tr>\n",
       "      <th>175</th>\n",
       "      <td>BLU</td>\n",
       "      <td>20.318451</td>\n",
       "      <td>19.840000</td>\n",
       "      <td>39.636032</td>\n",
       "      <td>0.478451</td>\n",
       "      <td>0.228915</td>\n",
       "      <td>0.024115</td>\n",
       "      <td>{'batch_size': 16, 'lookback': 24, 'epochs': 0...</td>\n",
       "      <td>1.276161</td>\n",
       "      <td>3.718484</td>\n",
       "    </tr>\n",
       "    <tr>\n",
       "      <th>303</th>\n",
       "      <td>HRX</td>\n",
       "      <td>13.171913</td>\n",
       "      <td>13.590000</td>\n",
       "      <td>0.004020</td>\n",
       "      <td>0.418087</td>\n",
       "      <td>0.174797</td>\n",
       "      <td>0.030764</td>\n",
       "      <td>{'batch_size': 16, 'lookback': 24, 'epochs': 7...</td>\n",
       "      <td>5.512422</td>\n",
       "      <td>2.266406</td>\n",
       "    </tr>\n",
       "    <tr>\n",
       "      <th>162</th>\n",
       "      <td>WCP</td>\n",
       "      <td>10.903764</td>\n",
       "      <td>9.290000</td>\n",
       "      <td>0.000016</td>\n",
       "      <td>1.613764</td>\n",
       "      <td>2.604234</td>\n",
       "      <td>0.173710</td>\n",
       "      <td>{'batch_size': 16, 'lookback': 24, 'epochs': 6...</td>\n",
       "      <td>-13.014981</td>\n",
       "      <td>2.095166</td>\n",
       "    </tr>\n",
       "    <tr>\n",
       "      <th>158</th>\n",
       "      <td>SNC</td>\n",
       "      <td>31.306265</td>\n",
       "      <td>31.700001</td>\n",
       "      <td>0.012965</td>\n",
       "      <td>0.393736</td>\n",
       "      <td>0.155028</td>\n",
       "      <td>0.012421</td>\n",
       "      <td>{'batch_size': 16, 'lookback': 24, 'epochs': 2...</td>\n",
       "      <td>1.602564</td>\n",
       "      <td>0.340593</td>\n",
       "    </tr>\n",
       "    <tr>\n",
       "      <th>253</th>\n",
       "      <td>REG</td>\n",
       "      <td>0.790874</td>\n",
       "      <td>0.760000</td>\n",
       "      <td>0.005116</td>\n",
       "      <td>0.030874</td>\n",
       "      <td>0.000953</td>\n",
       "      <td>0.040623</td>\n",
       "      <td>{'batch_size': 16, 'lookback': 24, 'epochs': 1...</td>\n",
       "      <td>-3.797468</td>\n",
       "      <td>0.110573</td>\n",
       "    </tr>\n",
       "    <tr>\n",
       "      <th>23</th>\n",
       "      <td>TCN</td>\n",
       "      <td>10.867355</td>\n",
       "      <td>10.910000</td>\n",
       "      <td>0.000036</td>\n",
       "      <td>0.042645</td>\n",
       "      <td>0.001819</td>\n",
       "      <td>0.003909</td>\n",
       "      <td>{'batch_size': 64, 'lookback': 24, 'epochs': 4...</td>\n",
       "      <td>0.460405</td>\n",
       "      <td>0.067729</td>\n",
       "    </tr>\n",
       "    <tr>\n",
       "      <th>32</th>\n",
       "      <td>RNW</td>\n",
       "      <td>12.657658</td>\n",
       "      <td>12.610000</td>\n",
       "      <td>0.000133</td>\n",
       "      <td>0.047658</td>\n",
       "      <td>0.002271</td>\n",
       "      <td>0.003779</td>\n",
       "      <td>{'batch_size': 16, 'lookback': 24, 'epochs': 1...</td>\n",
       "      <td>-0.316206</td>\n",
       "      <td>0.060535</td>\n",
       "    </tr>\n",
       "    <tr>\n",
       "      <th>109</th>\n",
       "      <td>SRU-U</td>\n",
       "      <td>26.181370</td>\n",
       "      <td>25.340000</td>\n",
       "      <td>0.000003</td>\n",
       "      <td>0.841370</td>\n",
       "      <td>0.707903</td>\n",
       "      <td>0.033203</td>\n",
       "      <td>{'batch_size': 16, 'lookback': 24, 'epochs': 3...</td>\n",
       "      <td>-3.208556</td>\n",
       "      <td>0.005232</td>\n",
       "    </tr>\n",
       "  </tbody>\n",
       "</table>\n",
       "</div>"
      ],
      "text/plain": [
       "    ticker      preds      trues       loss       mae       mse      mape  \\\n",
       "128    BHC  11.834883  11.140000  20.697920  0.694882  0.482862  0.062377   \n",
       "175    BLU  20.318451  19.840000  39.636032  0.478451  0.228915  0.024115   \n",
       "303    HRX  13.171913  13.590000   0.004020  0.418087  0.174797  0.030764   \n",
       "162    WCP  10.903764   9.290000   0.000016  1.613764  2.604234  0.173710   \n",
       "158    SNC  31.306265  31.700001   0.012965  0.393736  0.155028  0.012421   \n",
       "253    REG   0.790874   0.760000   0.005116  0.030874  0.000953  0.040623   \n",
       "23     TCN  10.867355  10.910000   0.000036  0.042645  0.001819  0.003909   \n",
       "32     RNW  12.657658  12.610000   0.000133  0.047658  0.002271  0.003779   \n",
       "109  SRU-U  26.181370  25.340000   0.000003  0.841370  0.707903  0.033203   \n",
       "\n",
       "                                                params  act_return  \\\n",
       "128  {'batch_size': 64, 'lookback': 24, 'epochs': 1...   11.735206   \n",
       "175  {'batch_size': 16, 'lookback': 24, 'epochs': 0...    1.276161   \n",
       "303  {'batch_size': 16, 'lookback': 24, 'epochs': 7...    5.512422   \n",
       "162  {'batch_size': 16, 'lookback': 24, 'epochs': 6...  -13.014981   \n",
       "158  {'batch_size': 16, 'lookback': 24, 'epochs': 2...    1.602564   \n",
       "253  {'batch_size': 16, 'lookback': 24, 'epochs': 1...   -3.797468   \n",
       "23   {'batch_size': 64, 'lookback': 24, 'epochs': 4...    0.460405   \n",
       "32   {'batch_size': 16, 'lookback': 24, 'epochs': 1...   -0.316206   \n",
       "109  {'batch_size': 16, 'lookback': 24, 'epochs': 3...   -3.208556   \n",
       "\n",
       "     pred_return  \n",
       "128    18.704942  \n",
       "175     3.718484  \n",
       "303     2.266406  \n",
       "162     2.095166  \n",
       "158     0.340593  \n",
       "253     0.110573  \n",
       "23      0.067729  \n",
       "32      0.060535  \n",
       "109     0.005232  "
      ]
     },
     "execution_count": 33,
     "metadata": {},
     "output_type": "execute_result"
    }
   ],
   "source": [
    "# test_portfolio = test.loc[(test[\"params\"].str.get(\"lstm_nodes\") <= 256) & (test[\"pred_return\"] > 0) & (test[\"params\"].str.get(\"fc_nodes\") <= 64)].sort_values(by=\"pred_return\", ascending=False).head(10)\n",
    "test_portfolio = test.loc[\n",
    "    (test[\"params\"].str.get(\"lookback\") == 24) \n",
    "    & (test[\"pred_return\"] > 0) \n",
    "    & (test[\"params\"].str.get(\"fc_nodes\") <=64)] \\\n",
    "    .sort_values(by=\"pred_return\", ascending=False)\n",
    "# test_portfolio = test.loc[(test[\"params\"].str.get(\"lstm_nodes\") == 32) & (test[\"params\"].str.get(\"fc_nodes\") == 64) & (test[\"pred_return\"] > 0)].sort_values(by=\"pred_return\", ascending=False).head(20)\n",
    "# test_portfolio = test.sort_values(by=\"pred_return\", ascending=False).head(20)\n",
    "# test_portfolio = test.loc[(val[\"mape\"] < 0.005)].sort_values(by=\"pred_return\", ascending=False).head(20)\n",
    "test_portfolio.to_csv(\"./results/IT/test_portfolio.csv\", index=False)\n",
    "test_portfolio"
   ]
  },
  {
   "cell_type": "code",
   "execution_count": 34,
   "metadata": {},
   "outputs": [
    {
     "data": {
      "text/plain": [
       "0.027727470202438376"
      ]
     },
     "execution_count": 34,
     "metadata": {},
     "output_type": "execute_result"
    }
   ],
   "source": [
    "test_portfolio[\"act_return\"].mean()"
   ]
  },
  {
   "cell_type": "markdown",
   "metadata": {},
   "source": [
    "## Market Benchmark"
   ]
  },
  {
   "cell_type": "code",
   "execution_count": null,
   "metadata": {},
   "outputs": [],
   "source": []
  },
  {
   "cell_type": "code",
   "execution_count": null,
   "metadata": {},
   "outputs": [],
   "source": []
  },
  {
   "cell_type": "markdown",
   "metadata": {},
   "source": [
    "## Prophet Benchmark"
   ]
  },
  {
   "cell_type": "code",
   "execution_count": null,
   "metadata": {},
   "outputs": [],
   "source": [
    "from prophet import Prophet\n",
    "from prophet.plot import plot_plotly\n",
    "import pandas as pd\n",
    "import numpy as np\n",
    "from sklearn.metrics import mean_absolute_error, mean_squared_error, mean_absolute_percentage_error\n",
    "from tqdm.auto import trange"
   ]
  },
  {
   "cell_type": "code",
   "execution_count": null,
   "metadata": {},
   "outputs": [],
   "source": [
    "def prophet_inference(mode=\"test\"):\n",
    "\n",
    "    with open(\"./DATA/Tickers/month_tickers_clean.txt\", \"r\") as f:\n",
    "        tickers = f.read().strip().split(\"\\n\")\n",
    "\n",
    "    fin = pd.read_parquet(\"./DATA/Monthly/Processed/month_data_fin_tec.parquet\")\n",
    "    macro = pd.read_parquet(\"./DATA/Monthly/Processed/month_data_macro_USCA.parquet\")\n",
    "\n",
    "    maes = []\n",
    "    mses = []\n",
    "    mapes = []\n",
    "    preds = []\n",
    "    trues = []\n",
    "\n",
    "    for idx in trange(409):\n",
    "        ticker = tickers[idx]\n",
    "\n",
    "        data = pd.concat([fin.filter(regex=f\"^{ticker}_\").copy(), macro.copy()], axis=1)\n",
    "        data = data[data[f\"{ticker}_CP\"] != 0]\n",
    "        data = data.loc[:, data.var() != 0]\n",
    "        data = data.reset_index().rename(columns={\"index\": \"ds\", f\"{ticker}_CP\": \"y\"})\n",
    "        df = data.copy()\n",
    "\n",
    "        m = Prophet(\n",
    "            growth=\"linear\",\n",
    "            changepoint_prior_scale=0.5,\n",
    "            seasonality_prior_scale=0.01,\n",
    "            changepoint_range=0.9,\n",
    "            seasonality_mode=\"additive\",\n",
    "        )\n",
    "        for col in df.columns:\n",
    "            if col not in [\"y\", \"ds\"]:\n",
    "                df[col] = df[col].shift(1)\n",
    "                m.add_regressor(col)\n",
    "\n",
    "        df = df.dropna()\n",
    "        df[\"day_of_week\"] = df[\"ds\"].dt.day_of_week\n",
    "        df[\"day_of_month\"] = df[\"ds\"].dt.day\n",
    "        df[\"day_of_year\"] = df[\"ds\"].dt.dayofyear\n",
    "        df[\"week_of_year\"] = df[\"ds\"].dt.isocalendar().week\n",
    "        df[\"month_of_year\"] = df[\"ds\"].dt.month\n",
    "        df[\"quarter_of_year\"] = df[\"ds\"].dt.quarter\n",
    "\n",
    "        if mode == \"test\":\n",
    "\n",
    "            train = df.iloc[:-1]\n",
    "            m.fit(train)\n",
    "\n",
    "            future = m.make_future_dataframe(periods=1, freq=\"M\")\n",
    "            future = pd.concat([future, df.drop(columns=[\"ds\", \"y\"]).reset_index(drop=True)], axis=1)\n",
    "\n",
    "            forecast = m.predict(future)\n",
    "            val_true = np.array([df.iloc[-1][\"y\"]])\n",
    "            trues.append(val_true.item())\n",
    "\n",
    "        else:\n",
    "            train = df.iloc[:-2]\n",
    "            m.fit(train)\n",
    "\n",
    "            future = m.make_future_dataframe(periods=1, freq=\"M\")\n",
    "            future = pd.concat([future, df.iloc[:-1].drop(columns=[\"ds\", \"y\"]).reset_index(drop=True)], axis=1)\n",
    "\n",
    "            forecast = m.predict(future)\n",
    "            val_true = np.array([df.iloc[-2][\"y\"]])\n",
    "            trues.append(val_true.item())\n",
    "            \n",
    "        val_pred = np.array([forecast.iloc[-1][\"yhat\"]])\n",
    "        preds.append(val_pred.item())\n",
    "\n",
    "        maes.append(mean_absolute_error(val_true, val_pred))\n",
    "        mses.append(mean_squared_error(val_true, val_pred))\n",
    "        mapes.append(mean_absolute_percentage_error(val_true, val_pred))\n",
    "\n",
    "    return pd.DataFrame({\"ticker\": tickers, \"preds\": preds, \"trues\": trues, \"mae\": maes, \"mse\": mses, \"mape\": mapes})"
   ]
  },
  {
   "cell_type": "code",
   "execution_count": null,
   "metadata": {},
   "outputs": [],
   "source": [
    "proph_val = prophet_inference(mode=\"val\")"
   ]
  },
  {
   "cell_type": "code",
   "execution_count": null,
   "metadata": {},
   "outputs": [],
   "source": [
    "print(f\"Val MAPE: {mean_absolute_percentage_error(proph_val['preds'].values, proph_val['trues'].values):.2%}\")\n",
    "print(f\"Val MAE: {mean_absolute_error(proph_val['preds'].values, proph_val['trues'].values):.2f}\")\n",
    "print(f\"Val MSE: {mean_squared_error(proph_val['preds'].values, proph_val['trues'].values):.2f}\")\n",
    "print(f\"Val RMSE: {mean_squared_error(proph_val['preds'].values, proph_val['trues'].values, squared=False):.2f}\")"
   ]
  },
  {
   "cell_type": "code",
   "execution_count": null,
   "metadata": {},
   "outputs": [],
   "source": [
    "proph_test = prophet_inference(mode=\"test\")"
   ]
  },
  {
   "cell_type": "code",
   "execution_count": null,
   "metadata": {},
   "outputs": [],
   "source": [
    "print(f\"Test MAPE: {mean_absolute_percentage_error(proph_test['preds'].values, proph_test['trues'].values):.2%}\")\n",
    "print(f\"Test MAE: {mean_absolute_error(proph_test['preds'].values, proph_test['trues'].values):.2f}\")\n",
    "print(f\"Test MSE: {mean_squared_error(proph_test['preds'].values, proph_test['trues'].values):.2f}\")\n",
    "print(f\"Test RMSE: {mean_squared_error(proph_test['preds'].values, proph_test['trues'].values, squared=False):.2f}\")"
   ]
  },
  {
   "cell_type": "code",
   "execution_count": null,
   "metadata": {},
   "outputs": [],
   "source": [
    "# Make function and then look if batch 1 alone can do the shit\n",
    "def prep_dfs(val, test):\n",
    "    fin_df = pd.read_parquet(\"./DATA/Monthly/Processed/month_data_fin_tec.parquet\")\n",
    "    val_df = val.copy()\n",
    "    test_df = test.copy()\n",
    "\n",
    "    val_df[\"act_return\"] = val_df[\"ticker\"].apply(lambda x: fin_df[f\"{x}_CP\"].pct_change().iloc[-2]*100)\n",
    "    val_df[\"pred_return\"] = val_df.apply(lambda row: ((row[\"preds\"]) - (fin_df[f\"{row['ticker']}_CP\"].iloc[-3])) / (fin_df[f\"{row['ticker']}_CP\"].iloc[-3])*100, axis=1)\n",
    "\n",
    "    test_df[\"act_return\"] = test_df[\"ticker\"].apply(lambda x: fin_df[f\"{x}_CP\"].pct_change().iloc[-1]*100)\n",
    "    test_df[\"pred_return\"] = test_df.apply(lambda row: ((row[\"preds\"]) - (fin_df[f\"{row['ticker']}_CP\"].iloc[-2])) / (fin_df[f\"{row['ticker']}_CP\"].iloc[-2])*100, axis=1)\n",
    "\n",
    "    return val_df, test_df"
   ]
  },
  {
   "cell_type": "code",
   "execution_count": null,
   "metadata": {},
   "outputs": [],
   "source": [
    "proph_val, proph_test = prep_dfs(proph_val, proph_test)"
   ]
  },
  {
   "cell_type": "code",
   "execution_count": null,
   "metadata": {},
   "outputs": [],
   "source": [
    "proph_val"
   ]
  },
  {
   "cell_type": "code",
   "execution_count": null,
   "metadata": {},
   "outputs": [],
   "source": [
    "proph_test"
   ]
  },
  {
   "cell_type": "code",
   "execution_count": null,
   "metadata": {},
   "outputs": [],
   "source": [
    "proph_val_portfolio = proph_val.loc[(proph_val[\"mape\"] < 0.005)].sort_values(by=\"pred_return\", ascending=False).head(10)\n",
    "proph_val_portfolio.to_csv(\"./results/IT/prophet_val_portfolio.csv\", index=False)\n",
    "proph_val_portfolio"
   ]
  },
  {
   "cell_type": "code",
   "execution_count": null,
   "metadata": {},
   "outputs": [],
   "source": [
    "proph_val_portfolio[\"act_return\"].sum()"
   ]
  },
  {
   "cell_type": "code",
   "execution_count": null,
   "metadata": {},
   "outputs": [],
   "source": [
    "proph_test_portfolio = proph_test.loc[(proph_val[\"mape\"] < 0.005)].sort_values(by=\"pred_return\", ascending=False).head(10)\n",
    "proph_test_portfolio.to_csv(\"./results/IT/prophet_test_portfolio.csv\", index=False)\n",
    "proph_test_portfolio"
   ]
  },
  {
   "cell_type": "code",
   "execution_count": null,
   "metadata": {},
   "outputs": [],
   "source": [
    "proph_test_portfolio[\"act_return\"].sum()"
   ]
  },
  {
   "cell_type": "markdown",
   "metadata": {},
   "source": [
    "## Market Returns"
   ]
  },
  {
   "cell_type": "code",
   "execution_count": 27,
   "metadata": {},
   "outputs": [
    {
     "data": {
      "text/plain": [
       "-1.2472099099766176"
      ]
     },
     "execution_count": 27,
     "metadata": {},
     "output_type": "execute_result"
    }
   ],
   "source": [
    "((2800.56 - 2835.93) / 2835.93)*100 # MSCI World test period"
   ]
  },
  {
   "cell_type": "code",
   "execution_count": 28,
   "metadata": {},
   "outputs": [
    {
     "data": {
      "text/plain": [
       "-5.157366801540955"
      ]
     },
     "execution_count": 28,
     "metadata": {},
     "output_type": "execute_result"
    }
   ],
   "source": [
    "((19572.2 - 20636.5) / 20636.5)*100 # TSX S&P 500 Composite test period"
   ]
  },
  {
   "cell_type": "code",
   "execution_count": 29,
   "metadata": {},
   "outputs": [
    {
     "data": {
      "text/plain": [
       "0.1952048663884326"
      ]
     },
     "execution_count": 29,
     "metadata": {},
     "output_type": "execute_result"
    }
   ],
   "source": [
    "((2835.93 - 2791.44) / 22791.44)*100 # MSCI World val period"
   ]
  },
  {
   "cell_type": "code",
   "execution_count": 30,
   "metadata": {},
   "outputs": [
    {
     "data": {
      "text/plain": [
       "2.6696650232090633"
      ]
     },
     "execution_count": 30,
     "metadata": {},
     "output_type": "execute_result"
    }
   ],
   "source": [
    "((20636.50 - 20099.90) / 20099.90)*100 # TSX S&P 500 Composite val period"
   ]
  },
  {
   "cell_type": "code",
   "execution_count": null,
   "metadata": {},
   "outputs": [],
   "source": []
  }
 ],
 "metadata": {
  "kernelspec": {
   "display_name": "master_thesis",
   "language": "python",
   "name": "python3"
  },
  "language_info": {
   "codemirror_mode": {
    "name": "ipython",
    "version": 3
   },
   "file_extension": ".py",
   "mimetype": "text/x-python",
   "name": "python",
   "nbconvert_exporter": "python",
   "pygments_lexer": "ipython3",
   "version": "3.10.11"
  },
  "orig_nbformat": 4
 },
 "nbformat": 4,
 "nbformat_minor": 2
}
