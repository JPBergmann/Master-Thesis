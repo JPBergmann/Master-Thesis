{
 "cells": [
  {
   "cell_type": "code",
   "execution_count": 1,
   "metadata": {},
   "outputs": [
    {
     "name": "stderr",
     "output_type": "stream",
     "text": [
      "Global seed set to 42\n"
     ]
    },
    {
     "data": {
      "application/javascript": "IPython.notebook.set_autosave_interval(0)"
     },
     "metadata": {},
     "output_type": "display_data"
    },
    {
     "name": "stdout",
     "output_type": "stream",
     "text": [
      "Autosave disabled\n"
     ]
    }
   ],
   "source": [
    "import pandas as pd\n",
    "import numpy as np\n",
    "import matplotlib.pyplot as plt\n",
    "import seaborn as sns\n",
    "\n",
    "import sklearn\n",
    "import torch\n",
    "from torch.utils.data import TensorDataset, DataLoader\n",
    "from torch import nn\n",
    "from torch import optim\n",
    "from torch import mps\n",
    "import pandas as pd\n",
    "import numpy as np\n",
    "from sklearn.preprocessing import MinMaxScaler, StandardScaler, RobustScaler, PowerTransformer, minmax_scale, power_transform, scale, minmax_scale\n",
    "from tqdm.auto import tqdm\n",
    "# from tqdm import tqdm\n",
    "import os\n",
    "\n",
    "import lightning.pytorch as pl\n",
    "\n",
    "from helpers.cross_sectorial import CS_DATAMODULE, CS_VID_DATAMODULE\n",
    "from models.cross_sectorial import CNN_2D_LSTM, ConvLSTM_AE\n",
    "\n",
    "# Set global seed for reproducibility in numpy, torch, scikit-learn\n",
    "pl.seed_everything(42)\n",
    "# torch.manual_seed(42)\n",
    "# torch.mps.manual_seed(42)\n",
    "# torch.backends.mps.deterministic = True\n",
    "# torch.cuda.manual_seed(42)\n",
    "# torch.backends.cudnn.deterministic = True\n",
    "# np.random.seed(42)\n",
    "%autosave 0"
   ]
  },
  {
   "cell_type": "markdown",
   "metadata": {},
   "source": [
    "## Init data"
   ]
  },
  {
   "cell_type": "code",
   "execution_count": 2,
   "metadata": {},
   "outputs": [],
   "source": [
    "LEARING_RATE = 1e-4 # 1e-4 ind standard\n",
    "EPOCHS = 3\n",
    "BATCH_SIZE = 32 # Small batch size since we are using a small dataset"
   ]
  },
  {
   "cell_type": "code",
   "execution_count": 3,
   "metadata": {},
   "outputs": [],
   "source": [
    "data = CS_DATAMODULE(batch_size=BATCH_SIZE, lookback=12, pred_horizon=1, multistep=False, data_type=\"monthly\")"
   ]
  },
  {
   "cell_type": "code",
   "execution_count": 4,
   "metadata": {},
   "outputs": [
    {
     "data": {
      "text/plain": [
       "device(type='mps')"
      ]
     },
     "execution_count": 4,
     "metadata": {},
     "output_type": "execute_result"
    }
   ],
   "source": [
    "device = torch.device(\"mps\" if torch.backends.mps.is_available() else \"cpu\")\n",
    "device"
   ]
  },
  {
   "cell_type": "code",
   "execution_count": 5,
   "metadata": {},
   "outputs": [
    {
     "data": {
      "application/vnd.jupyter.widget-view+json": {
       "model_id": "7164edbc75fb467abc5c85dca8db8f97",
       "version_major": 2,
       "version_minor": 0
      },
      "text/plain": [
       "Preparing Tensors:   0%|          | 0/409 [00:00<?, ?it/s]"
      ]
     },
     "metadata": {},
     "output_type": "display_data"
    },
    {
     "name": "stderr",
     "output_type": "stream",
     "text": [
      "/Users/johnbergmann/.pyenv/versions/3.10.11/envs/master_thesis/lib/python3.10/site-packages/sklearn/preprocessing/_data.py:240: UserWarning: Numerical issues were encountered when centering the data and might not be solved. Dataset may contain too large values. You may need to prescale your features.\n",
      "  warnings.warn(\n"
     ]
    },
    {
     "data": {
      "text/plain": [
       "torch.Size([267, 409, 12, 159])"
      ]
     },
     "execution_count": 5,
     "metadata": {},
     "output_type": "execute_result"
    }
   ],
   "source": [
    "data.prepare_data()\n",
    "data.setup()\n",
    "data.X_train_tensor.shape"
   ]
  },
  {
   "cell_type": "code",
   "execution_count": 6,
   "metadata": {},
   "outputs": [
    {
     "data": {
      "text/plain": [
       "(tensor(-20.1990),\n",
       " tensor(20.1990),\n",
       " tensor(-20.1861),\n",
       " tensor(20.1990),\n",
       " tensor(-20.1861),\n",
       " tensor(20.1990))"
      ]
     },
     "execution_count": 6,
     "metadata": {},
     "output_type": "execute_result"
    }
   ],
   "source": [
    "data.X_train_tensor.min(), data.X_train_tensor.max(), data.X_val_tensor.min(), data.X_val_tensor.max(), data.X_test_tensor.min(), data.X_test_tensor.max()"
   ]
  },
  {
   "cell_type": "code",
   "execution_count": 7,
   "metadata": {},
   "outputs": [],
   "source": [
    "# Get first iter of train loader using next\n",
    "x_in, y_in = next(iter(data.train_dataloader()))"
   ]
  },
  {
   "cell_type": "code",
   "execution_count": 8,
   "metadata": {},
   "outputs": [
    {
     "data": {
      "text/plain": [
       "(torch.Size([32, 409, 12, 159]), torch.Size([32, 409]))"
      ]
     },
     "execution_count": 8,
     "metadata": {},
     "output_type": "execute_result"
    }
   ],
   "source": [
    "x_in.shape, y_in.shape"
   ]
  },
  {
   "cell_type": "code",
   "execution_count": null,
   "metadata": {},
   "outputs": [],
   "source": [
    "x_in.reshape(x_in.shape[0], x_in.shape[2], x_in.shape[1], 1, x_in.shape[3]).shape"
   ]
  },
  {
   "cell_type": "markdown",
   "metadata": {},
   "source": [
    "## CNN LSTM"
   ]
  },
  {
   "cell_type": "code",
   "execution_count": null,
   "metadata": {},
   "outputs": [],
   "source": [
    "convlstm = CNN_LSTM(cnn_input_size=409, \n",
    "                 lstm_input_size=1590,\n",
    "                 hidden_size=3180,\n",
    "                 num_layers=2, \n",
    "                 output_size=409,\n",
    "                 lookback=12, \n",
    "                 dropout=0)"
   ]
  },
  {
   "cell_type": "code",
   "execution_count": null,
   "metadata": {},
   "outputs": [],
   "source": [
    "convlstm(x_in).squeeze(1).shape"
   ]
  },
  {
   "cell_type": "code",
   "execution_count": null,
   "metadata": {},
   "outputs": [],
   "source": [
    "from torchinfo import summary\n",
    "\n",
    "summary(convlstm, input_size=(BATCH_SIZE, 409, 12, 159), col_names=[\"input_size\", \"output_size\", \"num_params\", \"trainable\"])"
   ]
  },
  {
   "cell_type": "code",
   "execution_count": null,
   "metadata": {},
   "outputs": [],
   "source": [
    "early_stopping = pl.callbacks.EarlyStopping(monitor=\"val_loss\", patience=10, mode=\"min\")\n",
    "convlstm_checkpoint = pl.callbacks.ModelCheckpoint(save_top_k=1, monitor=\"val_loss\", mode=\"min\")\n",
    "\n",
    "compiled_convlstm = torch.compile(convlstm, mode=\"reduce-overhead\", backend=\"aot_eager\")\n",
    "mps.empty_cache()\n",
    "\n",
    "convlstm_trainer = pl.Trainer(accelerator=\"gpu\", max_epochs=EPOCHS, log_every_n_steps=1, callbacks=[early_stopping, convlstm_checkpoint], enable_checkpointing=True, enable_progress_bar=True, default_root_dir=\"./lightning_logs/convlstm/\")\n",
    "convlstm_trainer.fit(model=compiled_convlstm, datamodule=data)\n",
    "mps.empty_cache()"
   ]
  },
  {
   "cell_type": "markdown",
   "metadata": {},
   "source": [
    "## Conv AE"
   ]
  },
  {
   "cell_type": "code",
   "execution_count": null,
   "metadata": {},
   "outputs": [],
   "source": [
    "x_in.shape"
   ]
  },
  {
   "cell_type": "code",
   "execution_count": null,
   "metadata": {},
   "outputs": [],
   "source": [
    "convae = Conv2D_AE_LSTM(in_channels=409, lstm_hidden=2, lookback=12, num_features=159, batch_size=32, lr=1e-3)"
   ]
  },
  {
   "cell_type": "code",
   "execution_count": null,
   "metadata": {},
   "outputs": [],
   "source": [
    "convae(x_in).shape"
   ]
  },
  {
   "cell_type": "code",
   "execution_count": null,
   "metadata": {},
   "outputs": [],
   "source": [
    "from torchinfo import summary\n",
    "\n",
    "summary(convae, input_size=(BATCH_SIZE, 409, 12, 159), col_names=[\"input_size\", \"output_size\", \"num_params\", \"trainable\"])"
   ]
  },
  {
   "cell_type": "code",
   "execution_count": null,
   "metadata": {},
   "outputs": [],
   "source": []
  },
  {
   "cell_type": "code",
   "execution_count": null,
   "metadata": {},
   "outputs": [],
   "source": []
  },
  {
   "cell_type": "markdown",
   "metadata": {},
   "source": [
    "## Video Conv JP Morgan Approach"
   ]
  },
  {
   "cell_type": "code",
   "execution_count": 9,
   "metadata": {},
   "outputs": [],
   "source": [
    "BATCH_SIZE = 8\n",
    "LOOKBACK = 12*21\n",
    "LEARNING_RATE = 1e-4"
   ]
  },
  {
   "cell_type": "code",
   "execution_count": 10,
   "metadata": {},
   "outputs": [],
   "source": [
    "data = CS_VID_DATAMODULE(batch_size=BATCH_SIZE, lookback=LOOKBACK, pred_horizon=21, multistep=False, data_type=\"daily\", overwrite_cache=True, pred_target=\"return\")"
   ]
  },
  {
   "cell_type": "code",
   "execution_count": 4,
   "metadata": {},
   "outputs": [
    {
     "data": {
      "text/plain": [
       "device(type='mps')"
      ]
     },
     "execution_count": 4,
     "metadata": {},
     "output_type": "execute_result"
    }
   ],
   "source": [
    "device = torch.device(\"mps\" if torch.backends.mps.is_available() else \"cpu\")\n",
    "device"
   ]
  },
  {
   "cell_type": "code",
   "execution_count": 5,
   "metadata": {},
   "outputs": [],
   "source": [
    "from helpers.cross_sectorial import _format_tensors_cs_vid\n",
    "fin_data = pd.read_parquet(\"./DATA/Monthly/Processed/month_data_fin_tec.parquet\")\n",
    "z = _format_tensors_cs_vid(fin_data, lookback=12, pred_horizon=1, multistep=False, resize=(64,64))"
   ]
  },
  {
   "cell_type": "code",
   "execution_count": 6,
   "metadata": {},
   "outputs": [
    {
     "data": {
      "text/plain": [
       "(281, 400)"
      ]
     },
     "execution_count": 6,
     "metadata": {},
     "output_type": "execute_result"
    }
   ],
   "source": [
    "z.shape"
   ]
  },
  {
   "cell_type": "code",
   "execution_count": 10,
   "metadata": {},
   "outputs": [
    {
     "data": {
      "text/html": [
       "<div>\n",
       "<style scoped>\n",
       "    .dataframe tbody tr th:only-of-type {\n",
       "        vertical-align: middle;\n",
       "    }\n",
       "\n",
       "    .dataframe tbody tr th {\n",
       "        vertical-align: top;\n",
       "    }\n",
       "\n",
       "    .dataframe thead th {\n",
       "        text-align: right;\n",
       "    }\n",
       "</style>\n",
       "<table border=\"1\" class=\"dataframe\">\n",
       "  <thead>\n",
       "    <tr style=\"text-align: right;\">\n",
       "      <th></th>\n",
       "      <th>SLF_CP</th>\n",
       "      <th>ENGH_CP</th>\n",
       "      <th>HR-U_CP</th>\n",
       "      <th>IVN_CP</th>\n",
       "      <th>WFG_CP</th>\n",
       "      <th>BN_CP</th>\n",
       "      <th>BLDP_CP</th>\n",
       "      <th>EFR_CP</th>\n",
       "      <th>SAP_CP</th>\n",
       "      <th>PPL_CP</th>\n",
       "      <th>...</th>\n",
       "      <th>NGD_CP</th>\n",
       "      <th>DR_CP</th>\n",
       "      <th>CF_CP</th>\n",
       "      <th>BRE_CP</th>\n",
       "      <th>MRE_CP</th>\n",
       "      <th>VNP_CP</th>\n",
       "      <th>RPI-U_CP</th>\n",
       "      <th>PHX_CP</th>\n",
       "      <th>TF_CP</th>\n",
       "      <th>YGR_CP</th>\n",
       "    </tr>\n",
       "  </thead>\n",
       "  <tbody>\n",
       "    <tr>\n",
       "      <th>2000-01-31</th>\n",
       "      <td>0.00</td>\n",
       "      <td>1.5625</td>\n",
       "      <td>8.0030</td>\n",
       "      <td>0.00</td>\n",
       "      <td>15.2893</td>\n",
       "      <td>1.7320</td>\n",
       "      <td>93.00</td>\n",
       "      <td>0.00</td>\n",
       "      <td>4.0625</td>\n",
       "      <td>6.45</td>\n",
       "      <td>...</td>\n",
       "      <td>0.00</td>\n",
       "      <td>0.00</td>\n",
       "      <td>0.00</td>\n",
       "      <td>0.00</td>\n",
       "      <td>6.30</td>\n",
       "      <td>0.00</td>\n",
       "      <td>0.00</td>\n",
       "      <td>0.00</td>\n",
       "      <td>0.00</td>\n",
       "      <td>0.00</td>\n",
       "    </tr>\n",
       "    <tr>\n",
       "      <th>2000-02-29</th>\n",
       "      <td>0.00</td>\n",
       "      <td>2.3625</td>\n",
       "      <td>7.2222</td>\n",
       "      <td>0.00</td>\n",
       "      <td>13.4298</td>\n",
       "      <td>1.6586</td>\n",
       "      <td>165.00</td>\n",
       "      <td>0.00</td>\n",
       "      <td>3.6250</td>\n",
       "      <td>6.10</td>\n",
       "      <td>...</td>\n",
       "      <td>0.00</td>\n",
       "      <td>0.00</td>\n",
       "      <td>0.00</td>\n",
       "      <td>0.00</td>\n",
       "      <td>6.20</td>\n",
       "      <td>0.00</td>\n",
       "      <td>0.00</td>\n",
       "      <td>0.00</td>\n",
       "      <td>0.00</td>\n",
       "      <td>0.00</td>\n",
       "    </tr>\n",
       "    <tr>\n",
       "      <th>2000-03-31</th>\n",
       "      <td>16.00</td>\n",
       "      <td>2.8500</td>\n",
       "      <td>7.8078</td>\n",
       "      <td>0.00</td>\n",
       "      <td>14.8760</td>\n",
       "      <td>1.7614</td>\n",
       "      <td>111.00</td>\n",
       "      <td>0.00</td>\n",
       "      <td>3.3750</td>\n",
       "      <td>6.30</td>\n",
       "      <td>...</td>\n",
       "      <td>0.00</td>\n",
       "      <td>0.00</td>\n",
       "      <td>0.00</td>\n",
       "      <td>0.00</td>\n",
       "      <td>4.45</td>\n",
       "      <td>0.00</td>\n",
       "      <td>0.00</td>\n",
       "      <td>0.00</td>\n",
       "      <td>0.00</td>\n",
       "      <td>0.00</td>\n",
       "    </tr>\n",
       "    <tr>\n",
       "      <th>2000-04-30</th>\n",
       "      <td>17.65</td>\n",
       "      <td>2.6875</td>\n",
       "      <td>7.9640</td>\n",
       "      <td>0.00</td>\n",
       "      <td>14.6694</td>\n",
       "      <td>1.7516</td>\n",
       "      <td>122.50</td>\n",
       "      <td>0.00</td>\n",
       "      <td>3.5750</td>\n",
       "      <td>6.70</td>\n",
       "      <td>...</td>\n",
       "      <td>0.00</td>\n",
       "      <td>0.00</td>\n",
       "      <td>0.00</td>\n",
       "      <td>0.00</td>\n",
       "      <td>4.20</td>\n",
       "      <td>0.00</td>\n",
       "      <td>0.00</td>\n",
       "      <td>0.00</td>\n",
       "      <td>0.00</td>\n",
       "      <td>0.00</td>\n",
       "    </tr>\n",
       "    <tr>\n",
       "      <th>2000-05-31</th>\n",
       "      <td>23.60</td>\n",
       "      <td>2.4375</td>\n",
       "      <td>8.8228</td>\n",
       "      <td>0.00</td>\n",
       "      <td>13.4298</td>\n",
       "      <td>1.7712</td>\n",
       "      <td>111.40</td>\n",
       "      <td>0.00</td>\n",
       "      <td>4.0000</td>\n",
       "      <td>7.50</td>\n",
       "      <td>...</td>\n",
       "      <td>0.00</td>\n",
       "      <td>0.00</td>\n",
       "      <td>0.00</td>\n",
       "      <td>0.00</td>\n",
       "      <td>4.60</td>\n",
       "      <td>0.00</td>\n",
       "      <td>0.00</td>\n",
       "      <td>0.00</td>\n",
       "      <td>0.00</td>\n",
       "      <td>0.00</td>\n",
       "    </tr>\n",
       "    <tr>\n",
       "      <th>...</th>\n",
       "      <td>...</td>\n",
       "      <td>...</td>\n",
       "      <td>...</td>\n",
       "      <td>...</td>\n",
       "      <td>...</td>\n",
       "      <td>...</td>\n",
       "      <td>...</td>\n",
       "      <td>...</td>\n",
       "      <td>...</td>\n",
       "      <td>...</td>\n",
       "      <td>...</td>\n",
       "      <td>...</td>\n",
       "      <td>...</td>\n",
       "      <td>...</td>\n",
       "      <td>...</td>\n",
       "      <td>...</td>\n",
       "      <td>...</td>\n",
       "      <td>...</td>\n",
       "      <td>...</td>\n",
       "      <td>...</td>\n",
       "      <td>...</td>\n",
       "    </tr>\n",
       "    <tr>\n",
       "      <th>2023-01-31</th>\n",
       "      <td>66.86</td>\n",
       "      <td>39.5300</td>\n",
       "      <td>13.0100</td>\n",
       "      <td>12.50</td>\n",
       "      <td>115.6900</td>\n",
       "      <td>49.5000</td>\n",
       "      <td>8.71</td>\n",
       "      <td>9.81</td>\n",
       "      <td>36.6800</td>\n",
       "      <td>47.21</td>\n",
       "      <td>...</td>\n",
       "      <td>1.57</td>\n",
       "      <td>7.99</td>\n",
       "      <td>11.51</td>\n",
       "      <td>13.45</td>\n",
       "      <td>12.87</td>\n",
       "      <td>3.16</td>\n",
       "      <td>41.80</td>\n",
       "      <td>7.97</td>\n",
       "      <td>7.95</td>\n",
       "      <td>2.43</td>\n",
       "    </tr>\n",
       "    <tr>\n",
       "      <th>2023-02-28</th>\n",
       "      <td>65.94</td>\n",
       "      <td>43.0000</td>\n",
       "      <td>13.1100</td>\n",
       "      <td>11.40</td>\n",
       "      <td>102.5000</td>\n",
       "      <td>45.4000</td>\n",
       "      <td>7.80</td>\n",
       "      <td>9.19</td>\n",
       "      <td>36.5400</td>\n",
       "      <td>44.80</td>\n",
       "      <td>...</td>\n",
       "      <td>1.25</td>\n",
       "      <td>8.35</td>\n",
       "      <td>11.53</td>\n",
       "      <td>13.71</td>\n",
       "      <td>13.98</td>\n",
       "      <td>2.64</td>\n",
       "      <td>38.50</td>\n",
       "      <td>7.66</td>\n",
       "      <td>8.24</td>\n",
       "      <td>2.23</td>\n",
       "    </tr>\n",
       "    <tr>\n",
       "      <th>2023-03-31</th>\n",
       "      <td>63.14</td>\n",
       "      <td>38.2500</td>\n",
       "      <td>12.6000</td>\n",
       "      <td>12.21</td>\n",
       "      <td>96.4000</td>\n",
       "      <td>44.0300</td>\n",
       "      <td>7.54</td>\n",
       "      <td>7.54</td>\n",
       "      <td>34.9700</td>\n",
       "      <td>43.78</td>\n",
       "      <td>...</td>\n",
       "      <td>1.47</td>\n",
       "      <td>7.95</td>\n",
       "      <td>10.95</td>\n",
       "      <td>14.64</td>\n",
       "      <td>14.57</td>\n",
       "      <td>3.44</td>\n",
       "      <td>39.74</td>\n",
       "      <td>6.80</td>\n",
       "      <td>8.00</td>\n",
       "      <td>1.83</td>\n",
       "    </tr>\n",
       "    <tr>\n",
       "      <th>2023-04-30</th>\n",
       "      <td>66.46</td>\n",
       "      <td>37.2900</td>\n",
       "      <td>11.7500</td>\n",
       "      <td>11.75</td>\n",
       "      <td>98.0000</td>\n",
       "      <td>43.9600</td>\n",
       "      <td>5.99</td>\n",
       "      <td>7.70</td>\n",
       "      <td>35.0800</td>\n",
       "      <td>44.60</td>\n",
       "      <td>...</td>\n",
       "      <td>1.74</td>\n",
       "      <td>8.58</td>\n",
       "      <td>10.81</td>\n",
       "      <td>14.91</td>\n",
       "      <td>14.15</td>\n",
       "      <td>3.05</td>\n",
       "      <td>38.75</td>\n",
       "      <td>6.76</td>\n",
       "      <td>7.88</td>\n",
       "      <td>1.82</td>\n",
       "    </tr>\n",
       "    <tr>\n",
       "      <th>2023-05-31</th>\n",
       "      <td>65.75</td>\n",
       "      <td>37.6900</td>\n",
       "      <td>10.1300</td>\n",
       "      <td>9.94</td>\n",
       "      <td>91.6100</td>\n",
       "      <td>40.7700</td>\n",
       "      <td>5.69</td>\n",
       "      <td>7.97</td>\n",
       "      <td>35.1200</td>\n",
       "      <td>41.10</td>\n",
       "      <td>...</td>\n",
       "      <td>1.66</td>\n",
       "      <td>8.20</td>\n",
       "      <td>9.55</td>\n",
       "      <td>14.19</td>\n",
       "      <td>11.35</td>\n",
       "      <td>3.04</td>\n",
       "      <td>36.10</td>\n",
       "      <td>5.85</td>\n",
       "      <td>7.35</td>\n",
       "      <td>1.59</td>\n",
       "    </tr>\n",
       "  </tbody>\n",
       "</table>\n",
       "<p>281 rows × 400 columns</p>\n",
       "</div>"
      ],
      "text/plain": [
       "            SLF_CP  ENGH_CP  HR-U_CP  IVN_CP    WFG_CP    BN_CP  BLDP_CP  \\\n",
       "2000-01-31    0.00   1.5625   8.0030    0.00   15.2893   1.7320    93.00   \n",
       "2000-02-29    0.00   2.3625   7.2222    0.00   13.4298   1.6586   165.00   \n",
       "2000-03-31   16.00   2.8500   7.8078    0.00   14.8760   1.7614   111.00   \n",
       "2000-04-30   17.65   2.6875   7.9640    0.00   14.6694   1.7516   122.50   \n",
       "2000-05-31   23.60   2.4375   8.8228    0.00   13.4298   1.7712   111.40   \n",
       "...            ...      ...      ...     ...       ...      ...      ...   \n",
       "2023-01-31   66.86  39.5300  13.0100   12.50  115.6900  49.5000     8.71   \n",
       "2023-02-28   65.94  43.0000  13.1100   11.40  102.5000  45.4000     7.80   \n",
       "2023-03-31   63.14  38.2500  12.6000   12.21   96.4000  44.0300     7.54   \n",
       "2023-04-30   66.46  37.2900  11.7500   11.75   98.0000  43.9600     5.99   \n",
       "2023-05-31   65.75  37.6900  10.1300    9.94   91.6100  40.7700     5.69   \n",
       "\n",
       "            EFR_CP   SAP_CP  PPL_CP  ...  NGD_CP  DR_CP  CF_CP  BRE_CP  \\\n",
       "2000-01-31    0.00   4.0625    6.45  ...    0.00   0.00   0.00    0.00   \n",
       "2000-02-29    0.00   3.6250    6.10  ...    0.00   0.00   0.00    0.00   \n",
       "2000-03-31    0.00   3.3750    6.30  ...    0.00   0.00   0.00    0.00   \n",
       "2000-04-30    0.00   3.5750    6.70  ...    0.00   0.00   0.00    0.00   \n",
       "2000-05-31    0.00   4.0000    7.50  ...    0.00   0.00   0.00    0.00   \n",
       "...            ...      ...     ...  ...     ...    ...    ...     ...   \n",
       "2023-01-31    9.81  36.6800   47.21  ...    1.57   7.99  11.51   13.45   \n",
       "2023-02-28    9.19  36.5400   44.80  ...    1.25   8.35  11.53   13.71   \n",
       "2023-03-31    7.54  34.9700   43.78  ...    1.47   7.95  10.95   14.64   \n",
       "2023-04-30    7.70  35.0800   44.60  ...    1.74   8.58  10.81   14.91   \n",
       "2023-05-31    7.97  35.1200   41.10  ...    1.66   8.20   9.55   14.19   \n",
       "\n",
       "            MRE_CP  VNP_CP  RPI-U_CP  PHX_CP  TF_CP  YGR_CP  \n",
       "2000-01-31    6.30    0.00      0.00    0.00   0.00    0.00  \n",
       "2000-02-29    6.20    0.00      0.00    0.00   0.00    0.00  \n",
       "2000-03-31    4.45    0.00      0.00    0.00   0.00    0.00  \n",
       "2000-04-30    4.20    0.00      0.00    0.00   0.00    0.00  \n",
       "2000-05-31    4.60    0.00      0.00    0.00   0.00    0.00  \n",
       "...            ...     ...       ...     ...    ...     ...  \n",
       "2023-01-31   12.87    3.16     41.80    7.97   7.95    2.43  \n",
       "2023-02-28   13.98    2.64     38.50    7.66   8.24    2.23  \n",
       "2023-03-31   14.57    3.44     39.74    6.80   8.00    1.83  \n",
       "2023-04-30   14.15    3.05     38.75    6.76   7.88    1.82  \n",
       "2023-05-31   11.35    3.04     36.10    5.85   7.35    1.59  \n",
       "\n",
       "[281 rows x 400 columns]"
      ]
     },
     "execution_count": 10,
     "metadata": {},
     "output_type": "execute_result"
    }
   ],
   "source": [
    "z"
   ]
  },
  {
   "cell_type": "code",
   "execution_count": null,
   "metadata": {},
   "outputs": [],
   "source": [
    "from torchvision.transforms.functional import resize\n",
    "resize(z.unsqueeze(dim=0), (64,64)).squeeze().shape"
   ]
  },
  {
   "cell_type": "code",
   "execution_count": null,
   "metadata": {},
   "outputs": [],
   "source": [
    "z.max(), z.round().min()"
   ]
  },
  {
   "cell_type": "code",
   "execution_count": null,
   "metadata": {},
   "outputs": [],
   "source": [
    "torch.nn.Sigmoid()(z).min(), torch.nn.Sigmoid()(z).max()"
   ]
  },
  {
   "cell_type": "code",
   "execution_count": 11,
   "metadata": {},
   "outputs": [
    {
     "data": {
      "text/plain": [
       "torch.Size([5523, 252, 1, 20, 20])"
      ]
     },
     "execution_count": 11,
     "metadata": {},
     "output_type": "execute_result"
    }
   ],
   "source": [
    "data.prepare_data()\n",
    "data.setup()\n",
    "data.X_train_tensor.shape"
   ]
  },
  {
   "cell_type": "code",
   "execution_count": 12,
   "metadata": {},
   "outputs": [
    {
     "data": {
      "text/plain": [
       "0"
      ]
     },
     "execution_count": 12,
     "metadata": {},
     "output_type": "execute_result"
    }
   ],
   "source": [
    "np.isnan(data.X_train_tensor.numpy()).sum()"
   ]
  },
  {
   "cell_type": "code",
   "execution_count": 13,
   "metadata": {},
   "outputs": [
    {
     "data": {
      "text/plain": [
       "(tensor(0.),\n",
       " tensor(1.),\n",
       " tensor(1.9798e-29),\n",
       " tensor(1.),\n",
       " tensor(1.9798e-29),\n",
       " tensor(1.))"
      ]
     },
     "execution_count": 13,
     "metadata": {},
     "output_type": "execute_result"
    }
   ],
   "source": [
    "data.X_train_tensor.min(), data.X_train_tensor.max(), data.X_val_tensor.min(), data.X_val_tensor.max(), data.X_test_tensor.min(), data.X_test_tensor.max()"
   ]
  },
  {
   "cell_type": "code",
   "execution_count": 27,
   "metadata": {},
   "outputs": [],
   "source": [
    "# Get first iter of train loader using next\n",
    "x_in, y_in = next(iter(data.val_dataloader()))"
   ]
  },
  {
   "cell_type": "code",
   "execution_count": 28,
   "metadata": {},
   "outputs": [
    {
     "data": {
      "text/plain": [
       "(torch.Size([1, 252, 1, 20, 20]), torch.Size([1, 1, 20, 20]))"
      ]
     },
     "execution_count": 28,
     "metadata": {},
     "output_type": "execute_result"
    }
   ],
   "source": [
    "x_in.shape, y_in.shape"
   ]
  },
  {
   "cell_type": "code",
   "execution_count": 29,
   "metadata": {},
   "outputs": [
    {
     "data": {
      "text/plain": [
       "(torch.Size([252, 20, 20]), torch.Size([20, 20]))"
      ]
     },
     "execution_count": 29,
     "metadata": {},
     "output_type": "execute_result"
    }
   ],
   "source": [
    "x_in.squeeze().shape, y_in.squeeze().shape"
   ]
  },
  {
   "cell_type": "code",
   "execution_count": 30,
   "metadata": {},
   "outputs": [
    {
     "data": {
      "text/plain": [
       "torch.Size([20])"
      ]
     },
     "execution_count": 30,
     "metadata": {},
     "output_type": "execute_result"
    }
   ],
   "source": [
    "y_in.squeeze()[-1].shape"
   ]
  },
  {
   "cell_type": "code",
   "execution_count": 31,
   "metadata": {},
   "outputs": [
    {
     "data": {
      "text/plain": [
       "<matplotlib.image.AxesImage at 0x2bb99f880>"
      ]
     },
     "execution_count": 31,
     "metadata": {},
     "output_type": "execute_result"
    },
    {
     "data": {
      "image/png": "[encoded data removed]",
      "text/plain": [
       "<Figure size 640x480 with 1 Axes>"
      ]
     },
     "metadata": {},
     "output_type": "display_data"
    }
   ],
   "source": [
    "from torchvision.utils import make_grid\n",
    "\n",
    "plt.imshow(x_in.squeeze()[-1].numpy(), cmap=\"gray\")"
   ]
  },
  {
   "cell_type": "code",
   "execution_count": 32,
   "metadata": {},
   "outputs": [
    {
     "data": {
      "text/plain": [
       "<matplotlib.image.AxesImage at 0x2bb3c80a0>"
      ]
     },
     "execution_count": 32,
     "metadata": {},
     "output_type": "execute_result"
    },
    {
     "data": {
      "image/png": "[encoded data removed]",
      "text/plain": [
       "<Figure size 640x480 with 1 Axes>"
      ]
     },
     "metadata": {},
     "output_type": "display_data"
    }
   ],
   "source": [
    "plt.imshow(y_in.squeeze().numpy(), cmap=\"gray\")"
   ]
  },
  {
   "cell_type": "code",
   "execution_count": null,
   "metadata": {},
   "outputs": [],
   "source": [
    "from models.cross_sectorial import ConvLSTMCell, ConvLSTM\n",
    "convlstm = ConvLSTM(num_channels=1, num_kernels=20, \n",
    "kernel_size=(3, 3), padding=(1, 1), activation=\"relu\", \n",
    "frame_size=(64, 64), num_layers=3)"
   ]
  },
  {
   "cell_type": "code",
   "execution_count": 10,
   "metadata": {},
   "outputs": [],
   "source": [
    "convlstmae = ConvLSTM_AE(\n",
    "    batch_size=BATCH_SIZE,\n",
    "    lookback=LOOKBACK,\n",
    "    pred_horizon=1,\n",
    "    hidden_dim=64,\n",
    "    lr=LEARNING_RATE,)"
   ]
  },
  {
   "cell_type": "code",
   "execution_count": null,
   "metadata": {},
   "outputs": [],
   "source": [
    "x_in.shape, y_in.squeeze().shape"
   ]
  },
  {
   "cell_type": "code",
   "execution_count": 11,
   "metadata": {},
   "outputs": [],
   "source": [
    "pred1 = convlstmae(x_in)"
   ]
  },
  {
   "cell_type": "code",
   "execution_count": 12,
   "metadata": {},
   "outputs": [
    {
     "data": {
      "text/plain": [
       "torch.Size([20, 20])"
      ]
     },
     "execution_count": 12,
     "metadata": {},
     "output_type": "execute_result"
    }
   ],
   "source": [
    "pred1.squeeze().shape"
   ]
  },
  {
   "cell_type": "code",
   "execution_count": null,
   "metadata": {},
   "outputs": [],
   "source": [
    "pred1.min(), pred1.max(), pred1.mean(), pred1.std()"
   ]
  },
  {
   "cell_type": "code",
   "execution_count": null,
   "metadata": {},
   "outputs": [],
   "source": [
    "x_in[0][-1].min(), x_in[0][-1].max(), x_in[0][-1].mean(), x_in[0][-1].std(), x_in[0][-1].median()"
   ]
  },
  {
   "cell_type": "code",
   "execution_count": null,
   "metadata": {},
   "outputs": [],
   "source": [
    "show(torchvision.utils.make_grid(x_in[0]))"
   ]
  },
  {
   "cell_type": "code",
   "execution_count": 13,
   "metadata": {},
   "outputs": [
    {
     "data": {
      "text/plain": [
       "<matplotlib.image.AxesImage at 0x2b8159c30>"
      ]
     },
     "execution_count": 13,
     "metadata": {},
     "output_type": "execute_result"
    },
    {
     "data": {
      "image/png": "[encoded data removed]",
      "text/plain": [
       "<Figure size 640x480 with 1 Axes>"
      ]
     },
     "metadata": {},
     "output_type": "display_data"
    }
   ],
   "source": [
    "plt.imshow(y_in.squeeze(), cmap=\"gray\")"
   ]
  },
  {
   "cell_type": "code",
   "execution_count": 14,
   "metadata": {},
   "outputs": [
    {
     "data": {
      "text/plain": [
       "<matplotlib.image.AxesImage at 0x2b818c5e0>"
      ]
     },
     "execution_count": 14,
     "metadata": {},
     "output_type": "execute_result"
    },
    {
     "data": {
      "image/png": "[encoded data removed]",
      "text/plain": [
       "<Figure size 640x480 with 1 Axes>"
      ]
     },
     "metadata": {},
     "output_type": "display_data"
    }
   ],
   "source": [
    "plt.imshow(pred1.detach().cpu().squeeze(), cmap=\"gray\")"
   ]
  },
  {
   "cell_type": "code",
   "execution_count": null,
   "metadata": {},
   "outputs": [],
   "source": [
    "from torchinfo import summary\n",
    "\n",
    "summary(convlstmae, input_size=(x_in.shape), col_names=[\"input_size\", \"output_size\", \"num_params\", \"trainable\"])"
   ]
  },
  {
   "cell_type": "code",
   "execution_count": null,
   "metadata": {},
   "outputs": [],
   "source": []
  },
  {
   "cell_type": "code",
   "execution_count": null,
   "metadata": {},
   "outputs": [],
   "source": []
  },
  {
   "cell_type": "markdown",
   "metadata": {},
   "source": [
    "## ConvAELSTM"
   ]
  },
  {
   "cell_type": "markdown",
   "metadata": {},
   "source": [
    "### First lets get a convautoencoder working"
   ]
  },
  {
   "attachments": {
    "image.png": {
     "image/png": "[encoded data removed]"
    }
   },
   "cell_type": "markdown",
   "metadata": {},
   "source": [
    "![image.png](attachment:image.png)\n",
    "\n",
    "n_seq = 409 (num of companies - channels aka rows stays 1)"
   ]
  },
  {
   "cell_type": "code",
   "execution_count": null,
   "metadata": {},
   "outputs": [],
   "source": [
    "from models.cross_sectorial import ConvLSTMCell, ConvLSTM"
   ]
  },
  {
   "cell_type": "code",
   "execution_count": null,
   "metadata": {},
   "outputs": [],
   "source": [
    "x_in.shape"
   ]
  },
  {
   "cell_type": "code",
   "execution_count": null,
   "metadata": {},
   "outputs": [],
   "source": [
    "u = x_in.reshape(x_in.shape[0], x_in.shape[1], 1, x_in.shape[2], x_in.shape[3])\n",
    "u.shape"
   ]
  },
  {
   "cell_type": "code",
   "execution_count": null,
   "metadata": {},
   "outputs": [],
   "source": [
    "zumba = ConvLSTMCell"
   ]
  },
  {
   "cell_type": "code",
   "execution_count": null,
   "metadata": {},
   "outputs": [],
   "source": [
    "zumba(u)"
   ]
  },
  {
   "cell_type": "code",
   "execution_count": null,
   "metadata": {},
   "outputs": [],
   "source": [
    "convae = Conv_AE_LSTM(channels_in=409, encoder_dim=256, lr=1e-3, batch_size=32, lookback=12, num_features=159)"
   ]
  },
  {
   "cell_type": "code",
   "execution_count": null,
   "metadata": {},
   "outputs": [],
   "source": [
    "convae(x_in).shape"
   ]
  },
  {
   "cell_type": "code",
   "execution_count": null,
   "metadata": {},
   "outputs": [],
   "source": [
    "from torchinfo import summary\n",
    "\n",
    "summary(convae, input_size=(BATCH_SIZE, 409, 12, 159), col_names=[\"input_size\", \"output_size\", \"num_params\", \"trainable\"])"
   ]
  },
  {
   "cell_type": "code",
   "execution_count": null,
   "metadata": {},
   "outputs": [],
   "source": [
    "early_stopping = pl.callbacks.EarlyStopping(monitor=\"val_loss\", patience=10, mode=\"min\")\n",
    "convae_checkpoint = pl.callbacks.ModelCheckpoint(save_top_k=1, monitor=\"val_loss\", mode=\"min\")\n",
    "\n",
    "compiled_convae = torch.compile(convae, mode=\"reduce-overhead\", backend=\"aot_eager\")\n",
    "mps.empty_cache()\n",
    "\n",
    "convlstm_trainer = pl.Trainer(accelerator=\"gpu\", max_epochs=200, log_every_n_steps=1, callbacks=[early_stopping, convae_checkpoint], enable_checkpointing=True, enable_progress_bar=True, default_root_dir=\"./lightning_logs/convae/\")\n",
    "convlstm_trainer.fit(model=compiled_convae, datamodule=data)\n",
    "mps.empty_cache()"
   ]
  },
  {
   "cell_type": "code",
   "execution_count": null,
   "metadata": {},
   "outputs": [],
   "source": []
  },
  {
   "cell_type": "code",
   "execution_count": null,
   "metadata": {},
   "outputs": [],
   "source": []
  },
  {
   "cell_type": "code",
   "execution_count": null,
   "metadata": {},
   "outputs": [],
   "source": []
  },
  {
   "cell_type": "code",
   "execution_count": 17,
   "metadata": {},
   "outputs": [
    {
     "name": "stdout",
     "output_type": "stream",
     "text": [
      "The tensorboard extension is already loaded. To reload it, use:\n",
      "  %reload_ext tensorboard\n"
     ]
    },
    {
     "data": {
      "text/plain": [
       "Reusing TensorBoard on port 6006 (pid 43394), started 0:00:42 ago. (Use '!kill 43394' to kill it.)"
      ]
     },
     "metadata": {},
     "output_type": "display_data"
    },
    {
     "data": {
      "text/html": [
       "\n",
       "      <iframe id=\"tensorboard-frame-3eb13b9046685257\" width=\"100%\" height=\"800\" frameborder=\"0\">\n",
       "      </iframe>\n",
       "      <script>\n",
       "        (function() {\n",
       "          const frame = document.getElementById(\"tensorboard-frame-3eb13b9046685257\");\n",
       "          const url = new URL(\"http://localhost\");\n",
       "          const port = 6006;\n",
       "          if (port) {\n",
       "            url.port = port;\n",
       "          }\n",
       "          frame.src = url;\n",
       "        })();\n",
       "      </script>\n",
       "    "
      ],
      "text/plain": [
       "<IPython.core.display.HTML object>"
      ]
     },
     "metadata": {},
     "output_type": "display_data"
    }
   ],
   "source": [
    "%load_ext tensorboard\n",
    "%tensorboard --logdir lightning_logs/"
   ]
  },
  {
   "cell_type": "code",
   "execution_count": null,
   "metadata": {},
   "outputs": [],
   "source": [
    "print(f\"Best model path: {convlstm_checkpoint.best_model_path}\")\n",
    "print(f\"Best model score: {convlstm_checkpoint.best_model_score}\")"
   ]
  },
  {
   "cell_type": "code",
   "execution_count": null,
   "metadata": {},
   "outputs": [],
   "source": [
    "# /Users/johnbergmann/Developer/Master-Thesis/lightning_logs/version_29/checkpoints/epoch=5493-step=49446.ckpt\n",
    "# lightning_logs/convae/lightning_logs/version_22/checkpoints/epoch=8-step=306.ckpt\n",
    "best_model = ConvLSTM_AE.load_from_checkpoint(checkpoint_path=\"lightning_logs/convae/lightning_logs/version_46/checkpoints/epoch=18-step=171.ckpt\")"
   ]
  },
  {
   "cell_type": "code",
   "execution_count": null,
   "metadata": {},
   "outputs": [],
   "source": [
    "X_val_tensor = data.X_val_tensor\n",
    "y_val_tensor = data.y_val_tensor"
   ]
  },
  {
   "cell_type": "code",
   "execution_count": null,
   "metadata": {},
   "outputs": [],
   "source": [
    "best_model.eval()\n",
    "with torch.inference_mode():\n",
    "    y_pred = best_model(X_val_tensor.to(\"cpu\")).cpu().detach().numpy()"
   ]
  },
  {
   "cell_type": "code",
   "execution_count": null,
   "metadata": {},
   "outputs": [],
   "source": [
    "y_val_tensor.shape, y_pred.shape"
   ]
  },
  {
   "cell_type": "code",
   "execution_count": null,
   "metadata": {},
   "outputs": [],
   "source": [
    "plt.imshow(y_val_tensor.squeeze(), cmap=\"gray\")"
   ]
  },
  {
   "cell_type": "code",
   "execution_count": null,
   "metadata": {},
   "outputs": [],
   "source": [
    "plt.imshow(y_pred.squeeze(), cmap=\"gray\")"
   ]
  },
  {
   "cell_type": "code",
   "execution_count": null,
   "metadata": {},
   "outputs": [],
   "source": [
    "X_val_tensor[0].shape"
   ]
  },
  {
   "cell_type": "code",
   "execution_count": null,
   "metadata": {},
   "outputs": [],
   "source": [
    "from torchvision.utils import make_grid\n",
    "import torchvision.transforms.functional as F\n",
    "def show(imgs):\n",
    "    if not isinstance(imgs, list):\n",
    "        imgs = [imgs]\n",
    "    fig, axs = plt.subplots(ncols=len(imgs), squeeze=False)\n",
    "    for i, img in enumerate(imgs):\n",
    "        img = img.detach()\n",
    "        img = F.to_pil_image(img)\n",
    "        axs[0, i].imshow(np.asarray(img))\n",
    "        axs[0, i].set(xticklabels=[], yticklabels=[], xticks=[], yticks=[])\n",
    "\n",
    "show(make_grid(X_val_tensor[0]))"
   ]
  },
  {
   "cell_type": "code",
   "execution_count": null,
   "metadata": {},
   "outputs": [],
   "source": [
    "plt.imshow(y_pred.squeeze(), cmap=\"gray\")"
   ]
  },
  {
   "cell_type": "code",
   "execution_count": null,
   "metadata": {},
   "outputs": [],
   "source": [
    "# Plot predictions vs actuals\n",
    "\n",
    "plt.figure(figsize=(15, 6))\n",
    "plt.plot(y_val_tensor.squeeze(), label='actual')\n",
    "plt.plot(y_pred.squeeze(), label='predicted')\n",
    "plt.legend()\n",
    "plt.show();"
   ]
  },
  {
   "cell_type": "code",
   "execution_count": null,
   "metadata": {},
   "outputs": [],
   "source": [
    "# R2 score and MAPE\n",
    "from sklearn.metrics import r2_score, mean_absolute_error, mean_absolute_percentage_error, mean_squared_error\n",
    "print(f\"R2 score: {r2_score(y_val_tensor.squeeze(), y_pred.squeeze()):.4f}\")\n",
    "print(f\"MAPE: {mean_absolute_percentage_error(y_val_tensor, y_pred):.4%}\")\n",
    "print(f\"MAE: {mean_absolute_error(y_val_tensor, y_pred):.4f}\")"
   ]
  },
  {
   "cell_type": "code",
   "execution_count": null,
   "metadata": {},
   "outputs": [],
   "source": [
    "# Show without scientific notation\n",
    "np.set_printoptions(suppress=True)\n",
    "np.round(y_pred.squeeze(), 2)"
   ]
  },
  {
   "cell_type": "code",
   "execution_count": null,
   "metadata": {},
   "outputs": [],
   "source": [
    "y_val"
   ]
  },
  {
   "cell_type": "markdown",
   "metadata": {},
   "source": [
    "create 2 cluster"
   ]
  },
  {
   "cell_type": "markdown",
   "metadata": {},
   "source": [
    "# BAZINGA!"
   ]
  }
 ],
 "metadata": {
  "kernelspec": {
   "display_name": "Python 3 (ipykernel)",
   "language": "python",
   "name": "python3"
  },
  "language_info": {
   "codemirror_mode": {
    "name": "ipython",
    "version": 3
   },
   "file_extension": ".py",
   "mimetype": "text/x-python",
   "name": "python",
   "nbconvert_exporter": "python",
   "pygments_lexer": "ipython3",
   "version": "3.10.11"
  }
 },
 "nbformat": 4,
 "nbformat_minor": 2
}
