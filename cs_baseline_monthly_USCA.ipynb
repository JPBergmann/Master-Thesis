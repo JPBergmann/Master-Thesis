{
 "cells": [
  {
   "cell_type": "code",
   "execution_count": 1,
   "metadata": {},
   "outputs": [
    {
     "name": "stderr",
     "output_type": "stream",
     "text": [
      "c:\\Users\\John\\miniconda3\\envs\\master_thesis\\lib\\site-packages\\torchaudio\\backend\\utils.py:74: UserWarning: No audio backend is available.\n",
      "  warnings.warn(\"No audio backend is available.\")\n",
      "Global seed set to 42\n"
     ]
    },
    {
     "data": {
      "application/javascript": "IPython.notebook.set_autosave_interval(0)"
     },
     "metadata": {},
     "output_type": "display_data"
    },
    {
     "name": "stdout",
     "output_type": "stream",
     "text": [
      "Autosave disabled\n"
     ]
    }
   ],
   "source": [
    "import pandas as pd\n",
    "import numpy as np\n",
    "import matplotlib.pyplot as plt\n",
    "import seaborn as sns\n",
    "\n",
    "import sklearn\n",
    "import torch\n",
    "from torch.utils.data import TensorDataset, DataLoader\n",
    "from torch import nn\n",
    "from torch import optim\n",
    "from torch import mps\n",
    "import pandas as pd\n",
    "import numpy as np\n",
    "from sklearn.preprocessing import MinMaxScaler, StandardScaler, RobustScaler, PowerTransformer, minmax_scale, power_transform, scale, minmax_scale\n",
    "from tqdm.auto import tqdm\n",
    "# from tqdm import tqdm\n",
    "import os\n",
    "\n",
    "import lightning.pytorch as pl\n",
    "\n",
    "from helpers.cross_sectorial import CS_DATAMODULE, CS_VID_DATAMODULE\n",
    "from models.cross_sectorial import CNN_2D_LSTM, ConvLSTM_AE\n",
    "\n",
    "# Set global seed for reproducibility in numpy, torch, scikit-learn\n",
    "pl.seed_everything(42)\n",
    "# torch.manual_seed(42)\n",
    "# torch.mps.manual_seed(42)\n",
    "# torch.backends.mps.deterministic = True\n",
    "# torch.cuda.manual_seed(42)\n",
    "# torch.backends.cudnn.deterministic = True\n",
    "# np.random.seed(42)\n",
    "%autosave 0\n",
    "import warnings\n",
    "warnings.filterwarnings(\"ignore\")"
   ]
  },
  {
   "cell_type": "markdown",
   "metadata": {},
   "source": [
    "## Init data"
   ]
  },
  {
   "cell_type": "code",
   "execution_count": null,
   "metadata": {},
   "outputs": [],
   "source": [
    "LEARING_RATE = 1e-4 # 1e-4 ind standard\n",
    "EPOCHS = 3\n",
    "BATCH_SIZE = 32 # Small batch size since we are using a small dataset"
   ]
  },
  {
   "cell_type": "code",
   "execution_count": null,
   "metadata": {},
   "outputs": [],
   "source": [
    "data = CS_DATAMODULE(batch_size=BATCH_SIZE, lookback=12, pred_horizon=1, multistep=False, data_type=\"monthly\")"
   ]
  },
  {
   "cell_type": "code",
   "execution_count": null,
   "metadata": {},
   "outputs": [],
   "source": [
    "device = torch.device(\"mps\" if torch.backends.mps.is_available() else \"cpu\")\n",
    "device"
   ]
  },
  {
   "cell_type": "code",
   "execution_count": null,
   "metadata": {},
   "outputs": [],
   "source": [
    "data.prepare_data()\n",
    "data.setup()\n",
    "data.X_train_tensor.shape"
   ]
  },
  {
   "cell_type": "code",
   "execution_count": null,
   "metadata": {},
   "outputs": [],
   "source": [
    "data.X_train_tensor.min(), data.X_train_tensor.max(), data.X_val_tensor.min(), data.X_val_tensor.max(), data.X_test_tensor.min(), data.X_test_tensor.max()"
   ]
  },
  {
   "cell_type": "code",
   "execution_count": null,
   "metadata": {},
   "outputs": [],
   "source": [
    "# Get first iter of train loader using next\n",
    "x_in, y_in = next(iter(data.train_dataloader()))"
   ]
  },
  {
   "cell_type": "code",
   "execution_count": null,
   "metadata": {},
   "outputs": [],
   "source": [
    "x_in.shape, y_in.shape"
   ]
  },
  {
   "cell_type": "code",
   "execution_count": null,
   "metadata": {},
   "outputs": [],
   "source": [
    "x_in.reshape(x_in.shape[0], x_in.shape[2], x_in.shape[1], 1, x_in.shape[3]).shape"
   ]
  },
  {
   "cell_type": "markdown",
   "metadata": {},
   "source": [
    "## CNN LSTM"
   ]
  },
  {
   "cell_type": "code",
   "execution_count": null,
   "metadata": {},
   "outputs": [],
   "source": [
    "convlstm = CNN_LSTM(cnn_input_size=409, \n",
    "                 lstm_input_size=1590,\n",
    "                 hidden_size=3180,\n",
    "                 num_layers=2, \n",
    "                 output_size=409,\n",
    "                 lookback=12, \n",
    "                 dropout=0)"
   ]
  },
  {
   "cell_type": "code",
   "execution_count": null,
   "metadata": {},
   "outputs": [],
   "source": [
    "convlstm(x_in).squeeze(1).shape"
   ]
  },
  {
   "cell_type": "code",
   "execution_count": null,
   "metadata": {},
   "outputs": [],
   "source": [
    "from torchinfo import summary\n",
    "\n",
    "summary(convlstm, input_size=(BATCH_SIZE, 409, 12, 159), col_names=[\"input_size\", \"output_size\", \"num_params\", \"trainable\"])"
   ]
  },
  {
   "cell_type": "code",
   "execution_count": null,
   "metadata": {},
   "outputs": [],
   "source": [
    "early_stopping = pl.callbacks.EarlyStopping(monitor=\"val_loss\", patience=10, mode=\"min\")\n",
    "convlstm_checkpoint = pl.callbacks.ModelCheckpoint(save_top_k=1, monitor=\"val_loss\", mode=\"min\")\n",
    "\n",
    "compiled_convlstm = torch.compile(convlstm, mode=\"reduce-overhead\", backend=\"aot_eager\")\n",
    "mps.empty_cache()\n",
    "\n",
    "convlstm_trainer = pl.Trainer(accelerator=\"gpu\", max_epochs=EPOCHS, log_every_n_steps=1, callbacks=[early_stopping, convlstm_checkpoint], enable_checkpointing=True, enable_progress_bar=True, default_root_dir=\"./lightning_logs/convlstm/\")\n",
    "convlstm_trainer.fit(model=compiled_convlstm, datamodule=data)\n",
    "mps.empty_cache()"
   ]
  },
  {
   "cell_type": "markdown",
   "metadata": {},
   "source": [
    "## Conv AE"
   ]
  },
  {
   "cell_type": "code",
   "execution_count": null,
   "metadata": {},
   "outputs": [],
   "source": [
    "x_in.shape"
   ]
  },
  {
   "cell_type": "code",
   "execution_count": null,
   "metadata": {},
   "outputs": [],
   "source": [
    "convae = Conv2D_AE_LSTM(in_channels=409, lstm_hidden=2, lookback=12, num_features=159, batch_size=32, lr=1e-3)"
   ]
  },
  {
   "cell_type": "code",
   "execution_count": null,
   "metadata": {},
   "outputs": [],
   "source": [
    "convae(x_in).shape"
   ]
  },
  {
   "cell_type": "code",
   "execution_count": null,
   "metadata": {},
   "outputs": [],
   "source": [
    "from torchinfo import summary\n",
    "\n",
    "summary(convae, input_size=(BATCH_SIZE, 409, 12, 159), col_names=[\"input_size\", \"output_size\", \"num_params\", \"trainable\"])"
   ]
  },
  {
   "cell_type": "code",
   "execution_count": null,
   "metadata": {},
   "outputs": [],
   "source": []
  },
  {
   "cell_type": "code",
   "execution_count": null,
   "metadata": {},
   "outputs": [],
   "source": []
  },
  {
   "cell_type": "markdown",
   "metadata": {},
   "source": [
    "## Video Conv JP Morgan Approach"
   ]
  },
  {
   "cell_type": "code",
   "execution_count": 2,
   "metadata": {},
   "outputs": [],
   "source": [
    "BATCH_SIZE = 32\n",
    "LOOKBACK = 12*21\n",
    "LEARNING_RATE = 1e-5"
   ]
  },
  {
   "cell_type": "code",
   "execution_count": 3,
   "metadata": {},
   "outputs": [],
   "source": [
    "data = CS_VID_DATAMODULE(batch_size=BATCH_SIZE, lookback=LOOKBACK, pred_horizon=21, multistep=True, data_type=\"daily\", overwrite_cache=True, pred_target=\"return\")"
   ]
  },
  {
   "cell_type": "code",
   "execution_count": 4,
   "metadata": {},
   "outputs": [
    {
     "data": {
      "text/plain": [
       "device(type='cpu')"
      ]
     },
     "execution_count": 4,
     "metadata": {},
     "output_type": "execute_result"
    }
   ],
   "source": [
    "device = torch.device(\"mps\" if torch.backends.mps.is_available() else \"cpu\")\n",
    "device"
   ]
  },
  {
   "cell_type": "code",
   "execution_count": 5,
   "metadata": {},
   "outputs": [
    {
     "data": {
      "application/vnd.jupyter.widget-view+json": {
       "model_id": "8142c488f222485ba2c7523d8b34ab63",
       "version_major": 2,
       "version_minor": 0
      },
      "text/plain": [
       "Converting returns into video sequences:   0%|          | 0/5837 [00:00<?, ?it/s]"
      ]
     },
     "metadata": {},
     "output_type": "display_data"
    },
    {
     "data": {
      "application/vnd.jupyter.widget-view+json": {
       "model_id": "3043ef8b3a76484a86c0d7205347e300",
       "version_major": 2,
       "version_minor": 0
      },
      "text/plain": [
       "Formatting tensors:   0%|          | 0/5585 [00:00<?, ?it/s]"
      ]
     },
     "metadata": {},
     "output_type": "display_data"
    },
    {
     "ename": "RuntimeError",
     "evalue": "shape '[1, 21, 1, 20]' is invalid for input of size 8400",
     "output_type": "error",
     "traceback": [
      "\u001b[1;31m---------------------------------------------------------------------------\u001b[0m",
      "\u001b[1;31mRuntimeError\u001b[0m                              Traceback (most recent call last)",
      "Cell \u001b[1;32mIn[5], line 3\u001b[0m\n\u001b[0;32m      1\u001b[0m \u001b[39mfrom\u001b[39;00m \u001b[39mhelpers\u001b[39;00m\u001b[39m.\u001b[39;00m\u001b[39mcross_sectorial\u001b[39;00m \u001b[39mimport\u001b[39;00m _format_tensors_cs_vid\n\u001b[0;32m      2\u001b[0m fin_data \u001b[39m=\u001b[39m pd\u001b[39m.\u001b[39mread_parquet(\u001b[39m\"\u001b[39m\u001b[39m./DATA/Daily/Processed/day_data_fin_tec.parquet\u001b[39m\u001b[39m\"\u001b[39m)\n\u001b[1;32m----> 3\u001b[0m X_train, X_val, X_test, y_train, y_val, y_test \u001b[39m=\u001b[39m _format_tensors_cs_vid(fin_data, lookback\u001b[39m=\u001b[39;49m\u001b[39m12\u001b[39;49m\u001b[39m*\u001b[39;49m\u001b[39m21\u001b[39;49m, pred_horizon\u001b[39m=\u001b[39;49m\u001b[39m21\u001b[39;49m, multistep\u001b[39m=\u001b[39;49m\u001b[39mTrue\u001b[39;49;00m, resize\u001b[39m=\u001b[39;49m\u001b[39mNone\u001b[39;49;00m, pred_target\u001b[39m=\u001b[39;49m\u001b[39m\"\u001b[39;49m\u001b[39mreturn\u001b[39;49m\u001b[39m\"\u001b[39;49m)\n",
      "File \u001b[1;32mc:\\Users\\John\\Development\\Master-Thesis\\helpers\\cross_sectorial.py:310\u001b[0m, in \u001b[0;36m_format_tensors_cs_vid\u001b[1;34m(fin_data, lookback, pred_horizon, multistep, resize, pred_target)\u001b[0m\n\u001b[0;32m    308\u001b[0m X_val \u001b[39m=\u001b[39m X_val\u001b[39m.\u001b[39mreshape(\u001b[39m1\u001b[39m, X_val\u001b[39m.\u001b[39mshape[\u001b[39m0\u001b[39m], X_val\u001b[39m.\u001b[39mshape[\u001b[39m1\u001b[39m], X_val\u001b[39m.\u001b[39mshape[\u001b[39m2\u001b[39m], X_val\u001b[39m.\u001b[39mshape[\u001b[39m3\u001b[39m])\n\u001b[0;32m    309\u001b[0m X_test \u001b[39m=\u001b[39m X_test\u001b[39m.\u001b[39mreshape(\u001b[39m1\u001b[39m, X_test\u001b[39m.\u001b[39mshape[\u001b[39m0\u001b[39m], X_test\u001b[39m.\u001b[39mshape[\u001b[39m1\u001b[39m], X_test\u001b[39m.\u001b[39mshape[\u001b[39m2\u001b[39m], X_val\u001b[39m.\u001b[39mshape[\u001b[39m3\u001b[39m])\n\u001b[1;32m--> 310\u001b[0m y_val \u001b[39m=\u001b[39m y_val\u001b[39m.\u001b[39;49mreshape(\u001b[39m1\u001b[39;49m, y_val\u001b[39m.\u001b[39;49mshape[\u001b[39m0\u001b[39;49m], y_val\u001b[39m.\u001b[39;49mshape[\u001b[39m1\u001b[39;49m], y_val\u001b[39m.\u001b[39;49mshape[\u001b[39m2\u001b[39;49m])\n\u001b[0;32m    311\u001b[0m y_test \u001b[39m=\u001b[39m y_test\u001b[39m.\u001b[39mreshape(\u001b[39m1\u001b[39m, y_test\u001b[39m.\u001b[39mshape[\u001b[39m0\u001b[39m], y_test\u001b[39m.\u001b[39mshape[\u001b[39m1\u001b[39m], y_test\u001b[39m.\u001b[39mshape[\u001b[39m2\u001b[39m])\n\u001b[0;32m    313\u001b[0m \u001b[39mreturn\u001b[39;00m X_train, X_val, X_test, y_train, y_val, y_test\n",
      "\u001b[1;31mRuntimeError\u001b[0m: shape '[1, 21, 1, 20]' is invalid for input of size 8400"
     ]
    }
   ],
   "source": [
    "from helpers.cross_sectorial import _format_tensors_cs_vid\n",
    "fin_data = pd.read_parquet(\"./DATA/Daily/Processed/day_data_fin_tec.parquet\")\n",
    "X_train, X_val, X_test, y_train, y_val, y_test = _format_tensors_cs_vid(fin_data, lookback=12*21, pred_horizon=21, multistep=True, resize=None, pred_target=\"return\")"
   ]
  },
  {
   "cell_type": "code",
   "execution_count": null,
   "metadata": {},
   "outputs": [],
   "source": [
    "X_train.shape, y_train.shape"
   ]
  },
  {
   "cell_type": "code",
   "execution_count": null,
   "metadata": {},
   "outputs": [],
   "source": [
    "X_train.shape, X_val.shape"
   ]
  },
  {
   "cell_type": "code",
   "execution_count": null,
   "metadata": {},
   "outputs": [],
   "source": [
    "y_train.shape, y_val.shape"
   ]
  },
  {
   "cell_type": "code",
   "execution_count": null,
   "metadata": {},
   "outputs": [],
   "source": [
    "from torchvision.transforms.functional import resize\n",
    "resize(z.unsqueeze(dim=0), (64,64)).squeeze().shape"
   ]
  },
  {
   "cell_type": "code",
   "execution_count": null,
   "metadata": {},
   "outputs": [],
   "source": [
    "z.max(), z.round().min()"
   ]
  },
  {
   "cell_type": "code",
   "execution_count": null,
   "metadata": {},
   "outputs": [],
   "source": [
    "torch.nn.Sigmoid()(z).min(), torch.nn.Sigmoid()(z).max()"
   ]
  },
  {
   "cell_type": "code",
   "execution_count": 4,
   "metadata": {},
   "outputs": [
    {
     "data": {
      "application/vnd.jupyter.widget-view+json": {
       "model_id": "948549ba0968493d827d108163760b5c",
       "version_major": 2,
       "version_minor": 0
      },
      "text/plain": [
       "Converting returns into video sequences:   0%|          | 0/5837 [00:00<?, ?it/s]"
      ]
     },
     "metadata": {},
     "output_type": "display_data"
    },
    {
     "data": {
      "application/vnd.jupyter.widget-view+json": {
       "model_id": "09521286671b492e82d203aa6cc993bd",
       "version_major": 2,
       "version_minor": 0
      },
      "text/plain": [
       "Formatting tensors:   0%|          | 0/5585 [00:00<?, ?it/s]"
      ]
     },
     "metadata": {},
     "output_type": "display_data"
    },
    {
     "data": {
      "text/plain": [
       "torch.Size([5523, 252, 1, 20, 20])"
      ]
     },
     "execution_count": 4,
     "metadata": {},
     "output_type": "execute_result"
    }
   ],
   "source": [
    "data.prepare_data()\n",
    "data.setup()\n",
    "data.X_train_tensor.shape"
   ]
  },
  {
   "cell_type": "code",
   "execution_count": 5,
   "metadata": {},
   "outputs": [
    {
     "data": {
      "text/plain": [
       "(torch.Size([5523, 252, 1, 20, 20]),\n",
       " torch.Size([1, 252, 1, 20, 20]),\n",
       " torch.Size([1, 252, 1, 20, 20]))"
      ]
     },
     "execution_count": 5,
     "metadata": {},
     "output_type": "execute_result"
    }
   ],
   "source": [
    "data.X_train_tensor.shape, data.X_val_tensor.shape, data.X_test_tensor.shape"
   ]
  },
  {
   "cell_type": "code",
   "execution_count": 6,
   "metadata": {},
   "outputs": [
    {
     "data": {
      "text/plain": [
       "(torch.Size([5523, 21, 1, 20, 20]),\n",
       " torch.Size([1, 21, 1, 20, 20]),\n",
       " torch.Size([1, 21, 1, 20, 20]))"
      ]
     },
     "execution_count": 6,
     "metadata": {},
     "output_type": "execute_result"
    }
   ],
   "source": [
    "data.y_train_tensor.shape, data.y_val_tensor.shape, data.y_test_tensor.shape"
   ]
  },
  {
   "cell_type": "code",
   "execution_count": null,
   "metadata": {},
   "outputs": [],
   "source": [
    "np.isnan(data.X_train_tensor.numpy()).sum()"
   ]
  },
  {
   "cell_type": "code",
   "execution_count": null,
   "metadata": {},
   "outputs": [],
   "source": [
    "data.X_train_tensor.min(), data.X_train_tensor.max(), data.X_val_tensor.min(), data.X_val_tensor.max(), data.X_test_tensor.min(), data.X_test_tensor.max()"
   ]
  },
  {
   "cell_type": "code",
   "execution_count": null,
   "metadata": {},
   "outputs": [],
   "source": [
    "# Get first iter of train loader using next\n",
    "x_in, y_in = next(iter(data.train_dataloader()))"
   ]
  },
  {
   "cell_type": "code",
   "execution_count": null,
   "metadata": {},
   "outputs": [],
   "source": [
    "x_in.shape, y_in.shape"
   ]
  },
  {
   "cell_type": "code",
   "execution_count": null,
   "metadata": {},
   "outputs": [],
   "source": [
    "x_in.squeeze().shape, y_in.squeeze().shape"
   ]
  },
  {
   "cell_type": "code",
   "execution_count": null,
   "metadata": {},
   "outputs": [],
   "source": [
    "y_in.squeeze()[-1].shape"
   ]
  },
  {
   "cell_type": "code",
   "execution_count": null,
   "metadata": {},
   "outputs": [],
   "source": [
    "from torchvision.utils import make_grid\n",
    "\n",
    "plt.imshow(x_in.squeeze()[-1].numpy(), cmap=\"gray\")"
   ]
  },
  {
   "cell_type": "code",
   "execution_count": null,
   "metadata": {},
   "outputs": [],
   "source": [
    "plt.imshow(y_in.squeeze().numpy(), cmap=\"gray\")"
   ]
  },
  {
   "cell_type": "code",
   "execution_count": null,
   "metadata": {},
   "outputs": [],
   "source": [
    "convlstmae = ConvLSTM_AE(\n",
    "    batch_size=BATCH_SIZE,\n",
    "    lookback=LOOKBACK,\n",
    "    pred_horizon=1,\n",
    "    hidden_dim=64,\n",
    "    lr=LEARNING_RATE,)"
   ]
  },
  {
   "cell_type": "code",
   "execution_count": null,
   "metadata": {},
   "outputs": [],
   "source": [
    "x_in.shape, y_in.squeeze().shape"
   ]
  },
  {
   "cell_type": "code",
   "execution_count": null,
   "metadata": {},
   "outputs": [],
   "source": [
    "pred1 = convlstmae(x_in)"
   ]
  },
  {
   "cell_type": "code",
   "execution_count": null,
   "metadata": {},
   "outputs": [],
   "source": [
    "pred1.squeeze().shape"
   ]
  },
  {
   "cell_type": "code",
   "execution_count": null,
   "metadata": {},
   "outputs": [],
   "source": [
    "pred1.min(), pred1.max(), pred1.mean(), pred1.std()"
   ]
  },
  {
   "cell_type": "code",
   "execution_count": null,
   "metadata": {},
   "outputs": [],
   "source": [
    "x_in[0][-1].min(), x_in[0][-1].max(), x_in[0][-1].mean(), x_in[0][-1].std(), x_in[0][-1].median()"
   ]
  },
  {
   "cell_type": "code",
   "execution_count": null,
   "metadata": {},
   "outputs": [],
   "source": [
    "show(torchvision.utils.make_grid(x_in[0]))"
   ]
  },
  {
   "cell_type": "code",
   "execution_count": null,
   "metadata": {},
   "outputs": [],
   "source": [
    "plt.imshow(y_in.squeeze(), cmap=\"gray\")"
   ]
  },
  {
   "cell_type": "code",
   "execution_count": null,
   "metadata": {},
   "outputs": [],
   "source": [
    "plt.imshow(pred1.detach().cpu().squeeze(), cmap=\"gray\")"
   ]
  },
  {
   "cell_type": "code",
   "execution_count": null,
   "metadata": {},
   "outputs": [],
   "source": [
    "from torchinfo import summary\n",
    "\n",
    "summary(convlstmae, input_size=(x_in.shape), col_names=[\"input_size\", \"output_size\", \"num_params\", \"trainable\"])"
   ]
  },
  {
   "cell_type": "code",
   "execution_count": null,
   "metadata": {},
   "outputs": [],
   "source": []
  },
  {
   "cell_type": "code",
   "execution_count": null,
   "metadata": {},
   "outputs": [],
   "source": []
  },
  {
   "cell_type": "markdown",
   "metadata": {},
   "source": [
    "## ConvAELSTM"
   ]
  },
  {
   "cell_type": "markdown",
   "metadata": {},
   "source": [
    "### First lets get a convautoencoder working"
   ]
  },
  {
   "attachments": {
    "image.png": {
     "image/png": "[encoded data removed]"
    }
   },
   "cell_type": "markdown",
   "metadata": {},
   "source": [
    "![image.png](attachment:image.png)\n",
    "\n",
    "n_seq = 409 (num of companies - channels aka rows stays 1)"
   ]
  },
  {
   "cell_type": "code",
   "execution_count": null,
   "metadata": {},
   "outputs": [],
   "source": [
    "from models.cross_sectorial import ConvLSTMCell, ConvLSTM"
   ]
  },
  {
   "cell_type": "code",
   "execution_count": null,
   "metadata": {},
   "outputs": [],
   "source": [
    "x_in.shape"
   ]
  },
  {
   "cell_type": "code",
   "execution_count": null,
   "metadata": {},
   "outputs": [],
   "source": [
    "u = x_in.reshape(x_in.shape[0], x_in.shape[1], 1, x_in.shape[2], x_in.shape[3])\n",
    "u.shape"
   ]
  },
  {
   "cell_type": "code",
   "execution_count": null,
   "metadata": {},
   "outputs": [],
   "source": [
    "zumba = ConvLSTMCell"
   ]
  },
  {
   "cell_type": "code",
   "execution_count": null,
   "metadata": {},
   "outputs": [],
   "source": [
    "zumba(u)"
   ]
  },
  {
   "cell_type": "code",
   "execution_count": null,
   "metadata": {},
   "outputs": [],
   "source": [
    "convae = Conv_AE_LSTM(channels_in=409, encoder_dim=256, lr=1e-3, batch_size=32, lookback=12, num_features=159)"
   ]
  },
  {
   "cell_type": "code",
   "execution_count": null,
   "metadata": {},
   "outputs": [],
   "source": [
    "convae(x_in).shape"
   ]
  },
  {
   "cell_type": "code",
   "execution_count": null,
   "metadata": {},
   "outputs": [],
   "source": [
    "from torchinfo import summary\n",
    "\n",
    "summary(convae, input_size=(BATCH_SIZE, 409, 12, 159), col_names=[\"input_size\", \"output_size\", \"num_params\", \"trainable\"])"
   ]
  },
  {
   "cell_type": "code",
   "execution_count": null,
   "metadata": {},
   "outputs": [],
   "source": [
    "early_stopping = pl.callbacks.EarlyStopping(monitor=\"val_loss\", patience=10, mode=\"min\")\n",
    "convae_checkpoint = pl.callbacks.ModelCheckpoint(save_top_k=1, monitor=\"val_loss\", mode=\"min\")\n",
    "\n",
    "compiled_convae = torch.compile(convae, mode=\"reduce-overhead\", backend=\"aot_eager\")\n",
    "mps.empty_cache()\n",
    "\n",
    "convlstm_trainer = pl.Trainer(accelerator=\"gpu\", max_epochs=200, log_every_n_steps=1, callbacks=[early_stopping, convae_checkpoint], enable_checkpointing=True, enable_progress_bar=True, default_root_dir=\"./lightning_logs/convae/\")\n",
    "convlstm_trainer.fit(model=compiled_convae, datamodule=data)\n",
    "mps.empty_cache()"
   ]
  },
  {
   "cell_type": "code",
   "execution_count": null,
   "metadata": {},
   "outputs": [],
   "source": []
  },
  {
   "cell_type": "code",
   "execution_count": null,
   "metadata": {},
   "outputs": [],
   "source": []
  },
  {
   "cell_type": "code",
   "execution_count": null,
   "metadata": {},
   "outputs": [],
   "source": []
  },
  {
   "cell_type": "code",
   "execution_count": null,
   "metadata": {},
   "outputs": [],
   "source": [
    "%load_ext tensorboard\n",
    "%tensorboard --logdir lightning_logs/"
   ]
  },
  {
   "cell_type": "code",
   "execution_count": null,
   "metadata": {},
   "outputs": [],
   "source": [
    "print(f\"Best model path: {convlstm_checkpoint.best_model_path}\")\n",
    "print(f\"Best model score: {convlstm_checkpoint.best_model_score}\")"
   ]
  },
  {
   "cell_type": "code",
   "execution_count": null,
   "metadata": {},
   "outputs": [],
   "source": [
    "# /Users/johnbergmann/Developer/Master-Thesis/lightning_logs/version_29/checkpoints/epoch=5493-step=49446.ckpt\n",
    "# lightning_logs/convae/lightning_logs/version_22/checkpoints/epoch=8-step=306.ckpt\n",
    "best_model = ConvLSTM_AE.load_from_checkpoint(checkpoint_path=\"lightning_logs/convae/lightning_logs/version_46/checkpoints/epoch=18-step=171.ckpt\")"
   ]
  },
  {
   "cell_type": "code",
   "execution_count": null,
   "metadata": {},
   "outputs": [],
   "source": [
    "X_val_tensor = data.X_val_tensor\n",
    "y_val_tensor = data.y_val_tensor"
   ]
  },
  {
   "cell_type": "code",
   "execution_count": null,
   "metadata": {},
   "outputs": [],
   "source": [
    "best_model.eval()\n",
    "with torch.inference_mode():\n",
    "    y_pred = best_model(X_val_tensor.to(\"cpu\")).cpu().detach().numpy()"
   ]
  },
  {
   "cell_type": "code",
   "execution_count": null,
   "metadata": {},
   "outputs": [],
   "source": [
    "y_val_tensor.shape, y_pred.shape"
   ]
  },
  {
   "cell_type": "code",
   "execution_count": null,
   "metadata": {},
   "outputs": [],
   "source": [
    "plt.imshow(y_val_tensor.squeeze(), cmap=\"gray\")"
   ]
  },
  {
   "cell_type": "code",
   "execution_count": null,
   "metadata": {},
   "outputs": [],
   "source": [
    "plt.imshow(y_pred.squeeze(), cmap=\"gray\")"
   ]
  },
  {
   "cell_type": "code",
   "execution_count": null,
   "metadata": {},
   "outputs": [],
   "source": [
    "X_val_tensor[0].shape"
   ]
  },
  {
   "cell_type": "code",
   "execution_count": null,
   "metadata": {},
   "outputs": [],
   "source": [
    "from torchvision.utils import make_grid\n",
    "import torchvision.transforms.functional as F\n",
    "def show(imgs):\n",
    "    if not isinstance(imgs, list):\n",
    "        imgs = [imgs]\n",
    "    fig, axs = plt.subplots(ncols=len(imgs), squeeze=False)\n",
    "    for i, img in enumerate(imgs):\n",
    "        img = img.detach()\n",
    "        img = F.to_pil_image(img)\n",
    "        axs[0, i].imshow(np.asarray(img))\n",
    "        axs[0, i].set(xticklabels=[], yticklabels=[], xticks=[], yticks=[])\n",
    "\n",
    "show(make_grid(X_val_tensor[0]))"
   ]
  },
  {
   "cell_type": "code",
   "execution_count": null,
   "metadata": {},
   "outputs": [],
   "source": [
    "plt.imshow(y_pred.squeeze(), cmap=\"gray\")"
   ]
  },
  {
   "cell_type": "code",
   "execution_count": null,
   "metadata": {},
   "outputs": [],
   "source": [
    "# Plot predictions vs actuals\n",
    "\n",
    "plt.figure(figsize=(15, 6))\n",
    "plt.plot(y_val_tensor.squeeze(), label='actual')\n",
    "plt.plot(y_pred.squeeze(), label='predicted')\n",
    "plt.legend()\n",
    "plt.show();"
   ]
  },
  {
   "cell_type": "code",
   "execution_count": null,
   "metadata": {},
   "outputs": [],
   "source": [
    "# R2 score and MAPE\n",
    "from sklearn.metrics import r2_score, mean_absolute_error, mean_absolute_percentage_error, mean_squared_error\n",
    "print(f\"R2 score: {r2_score(y_val_tensor.squeeze(), y_pred.squeeze()):.4f}\")\n",
    "print(f\"MAPE: {mean_absolute_percentage_error(y_val_tensor, y_pred):.4%}\")\n",
    "print(f\"MAE: {mean_absolute_error(y_val_tensor, y_pred):.4f}\")"
   ]
  },
  {
   "cell_type": "code",
   "execution_count": null,
   "metadata": {},
   "outputs": [],
   "source": [
    "# Show without scientific notation\n",
    "np.set_printoptions(suppress=True)\n",
    "np.round(y_pred.squeeze(), 2)"
   ]
  },
  {
   "cell_type": "code",
   "execution_count": null,
   "metadata": {},
   "outputs": [],
   "source": [
    "y_val"
   ]
  },
  {
   "cell_type": "markdown",
   "metadata": {},
   "source": [
    "create 2 cluster"
   ]
  },
  {
   "cell_type": "markdown",
   "metadata": {},
   "source": [
    "# BAZINGA!"
   ]
  }
 ],
 "metadata": {
  "kernelspec": {
   "display_name": "Python 3 (ipykernel)",
   "language": "python",
   "name": "python3"
  },
  "language_info": {
   "codemirror_mode": {
    "name": "ipython",
    "version": 3
   },
   "file_extension": ".py",
   "mimetype": "text/x-python",
   "name": "python",
   "nbconvert_exporter": "python",
   "pygments_lexer": "ipython3",
   "version": "3.10.12"
  }
 },
 "nbformat": 4,
 "nbformat_minor": 2
}
