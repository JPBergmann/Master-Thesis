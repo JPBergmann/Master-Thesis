{
 "cells": [
  {
   "cell_type": "code",
   "execution_count": 1,
   "metadata": {},
   "outputs": [
    {
     "name": "stderr",
     "output_type": "stream",
     "text": [
      "c:\\Users\\John\\miniconda3\\envs\\master_thesis\\lib\\site-packages\\torchaudio\\backend\\utils.py:74: UserWarning: No audio backend is available.\n",
      "  warnings.warn(\"No audio backend is available.\")\n",
      "c:\\Users\\John\\miniconda3\\envs\\master_thesis\\lib\\site-packages\\umap\\distances.py:1063: NumbaDeprecationWarning: \u001b[1mThe 'nopython' keyword argument was not supplied to the 'numba.jit' decorator. The implicit default value for this argument is currently False, but it will be changed to True in Numba 0.59.0. See https://numba.readthedocs.io/en/stable/reference/deprecation.html#deprecation-of-object-mode-fall-back-behaviour-when-using-jit for details.\u001b[0m\n",
      "  @numba.jit()\n",
      "c:\\Users\\John\\miniconda3\\envs\\master_thesis\\lib\\site-packages\\umap\\distances.py:1071: NumbaDeprecationWarning: \u001b[1mThe 'nopython' keyword argument was not supplied to the 'numba.jit' decorator. The implicit default value for this argument is currently False, but it will be changed to True in Numba 0.59.0. See https://numba.readthedocs.io/en/stable/reference/deprecation.html#deprecation-of-object-mode-fall-back-behaviour-when-using-jit for details.\u001b[0m\n",
      "  @numba.jit()\n",
      "c:\\Users\\John\\miniconda3\\envs\\master_thesis\\lib\\site-packages\\umap\\distances.py:1086: NumbaDeprecationWarning: \u001b[1mThe 'nopython' keyword argument was not supplied to the 'numba.jit' decorator. The implicit default value for this argument is currently False, but it will be changed to True in Numba 0.59.0. See https://numba.readthedocs.io/en/stable/reference/deprecation.html#deprecation-of-object-mode-fall-back-behaviour-when-using-jit for details.\u001b[0m\n",
      "  @numba.jit()\n",
      "c:\\Users\\John\\miniconda3\\envs\\master_thesis\\lib\\site-packages\\umap\\umap_.py:660: NumbaDeprecationWarning: \u001b[1mThe 'nopython' keyword argument was not supplied to the 'numba.jit' decorator. The implicit default value for this argument is currently False, but it will be changed to True in Numba 0.59.0. See https://numba.readthedocs.io/en/stable/reference/deprecation.html#deprecation-of-object-mode-fall-back-behaviour-when-using-jit for details.\u001b[0m\n",
      "  @numba.jit()\n",
      "Global seed set to 42\n"
     ]
    },
    {
     "data": {
      "application/javascript": "IPython.notebook.set_autosave_interval(0)"
     },
     "metadata": {},
     "output_type": "display_data"
    },
    {
     "name": "stdout",
     "output_type": "stream",
     "text": [
      "Autosave disabled\n"
     ]
    }
   ],
   "source": [
    "import pandas as pd\n",
    "import numpy as np\n",
    "import matplotlib.pyplot as plt\n",
    "import seaborn as sns\n",
    "\n",
    "import sklearn\n",
    "import torch\n",
    "from torch.utils.data import TensorDataset, DataLoader\n",
    "from torch import nn\n",
    "from torch import optim\n",
    "from torch import mps\n",
    "from torch.nn import Mish\n",
    "import pandas as pd\n",
    "import numpy as np\n",
    "from sklearn.preprocessing import MinMaxScaler, StandardScaler, RobustScaler, PowerTransformer, minmax_scale, power_transform, scale, minmax_scale\n",
    "from sklearn.cluster import KMeans\n",
    "from sklearn.metrics import silhouette_score\n",
    "from tqdm.auto import tqdm\n",
    "# from tqdm import tqdm\n",
    "import os\n",
    "from ranger21 import Ranger21\n",
    "from pytorch_ranger import Ranger\n",
    "import hdbscan\n",
    "\n",
    "import lightning.pytorch as pl\n",
    "\n",
    "from helpers.cross_sectorial import CS_DATAMODULE_2D, CS_DATAMODULE_1D, _format_tensors_cs_1D\n",
    "from models.cross_sectorial import P_MH_CNN_2D_LSTM, P_CNN_2D_LSTM, MH_CNN_2D_LSTM, LSTM, CNN_1D_LSTM\n",
    "\n",
    "# Set global seed for reproducibility in numpy, torch, scikit-learn\n",
    "pl.seed_everything(42)\n",
    "# torch.manual_seed(42)\n",
    "# torch.mps.manual_seed(42)\n",
    "# torch.backends.mps.deterministic = True\n",
    "# torch.cuda.manual_seed(42)\n",
    "# torch.backends.cudnn.deterministic = True\n",
    "# np.random.seed(42)\n",
    "%autosave 0\n",
    "import warnings\n",
    "warnings.filterwarnings(\"ignore\")"
   ]
  },
  {
   "cell_type": "code",
   "execution_count": null,
   "metadata": {},
   "outputs": [],
   "source": [
    "fin_data = pd.read_parquet(\"./DATA/Monthly/Processed/month_data_fin_tec.parquet\")\n",
    "macro_data = pd.read_parquet(\"./DATA/Monthly/Processed/month_data_macro_USCA.parquet\")\n",
    "with open(\"./DATA/Tickers/month_tickers_clean.txt\", \"r\") as file:\n",
    "    tickers = file.read().strip().split(\"\\n\")"
   ]
  },
  {
   "cell_type": "code",
   "execution_count": null,
   "metadata": {},
   "outputs": [],
   "source": [
    "_format_tensors_cs_1D(fin_data=fin_data,\n",
    "                      macro_data=macro_data,\n",
    "                      tickers=tickers,\n",
    "                      lookback=12,\n",
    "                      pred_horizon=1,\n",
    "                      multistep=False,\n",
    "                      pred_target=\"return\",\n",
    "                      red_each_dim=2,)"
   ]
  },
  {
   "cell_type": "code",
   "execution_count": null,
   "metadata": {},
   "outputs": [],
   "source": []
  },
  {
   "cell_type": "code",
   "execution_count": null,
   "metadata": {},
   "outputs": [],
   "source": []
  },
  {
   "cell_type": "code",
   "execution_count": null,
   "metadata": {},
   "outputs": [],
   "source": [
    "data = CS_DATAMODULE_1D(batch_size=32,\n",
    "                        lookback=12,\n",
    "                        pred_horizon=1,\n",
    "                        multistep=False,\n",
    "                        data_type=\"monthly\",\n",
    "                        train_workers=0,\n",
    "                        overwrite_cache=True,\n",
    "                        pred_target=\"return\",\n",
    "                        cluster=None,\n",
    "                        only_prices=False,\n",
    "                        umap_dim=10)\n",
    "data.prepare_data()\n",
    "data.setup()"
   ]
  },
  {
   "cell_type": "code",
   "execution_count": null,
   "metadata": {},
   "outputs": [],
   "source": [
    "N_COMPANIES = int(len(data.tickers))\n",
    "N_FEATURES = int(data.X_train_tensor.shape[-1])\n",
    "# Batches per epoch which have to be rounded up to the next integer\n",
    "N_BATCHES = int(np.ceil(len(data.X_train_tensor) / 32))\n",
    "print(f\"Number of batches per Epoch: {N_BATCHES}\")\n",
    "\n",
    "model = LSTM(n_companies=N_COMPANIES,\n",
    "                n_features=N_FEATURES,\n",
    "                lookback=12,\n",
    "                epochs=100,\n",
    "                batches_p_epoch=N_BATCHES,\n",
    "                lstm_layers=2,\n",
    "                lstm_nodes=256,\n",
    "                fc_layers=1,\n",
    "                fc_nodes=500,\n",
    "                dropout=0.2,\n",
    "                bidirectional=False,\n",
    "                lr=1e-4,\n",
    "                optimizer=Ranger,\n",
    "                activation=Mish(True),)"
   ]
  },
  {
   "cell_type": "code",
   "execution_count": null,
   "metadata": {},
   "outputs": [],
   "source": [
    "x_in, y_in = next(iter(data.train_dataloader()))\n",
    "x_in.shape, y_in.shape"
   ]
  },
  {
   "cell_type": "code",
   "execution_count": null,
   "metadata": {},
   "outputs": [],
   "source": [
    "model.fc"
   ]
  },
  {
   "cell_type": "code",
   "execution_count": null,
   "metadata": {},
   "outputs": [],
   "source": [
    "model(x_in).shape"
   ]
  },
  {
   "cell_type": "code",
   "execution_count": null,
   "metadata": {},
   "outputs": [],
   "source": []
  },
  {
   "cell_type": "code",
   "execution_count": null,
   "metadata": {},
   "outputs": [],
   "source": []
  },
  {
   "cell_type": "code",
   "execution_count": null,
   "metadata": {},
   "outputs": [],
   "source": [
    "len(data.X_train_tensor), len(data.X_val_tensor), len(data.X_test_tensor)"
   ]
  },
  {
   "cell_type": "code",
   "execution_count": null,
   "metadata": {},
   "outputs": [],
   "source": [
    "len(data.y_train_tensor), len(data.y_val_tensor), len(data.y_test_tensor)"
   ]
  },
  {
   "cell_type": "code",
   "execution_count": null,
   "metadata": {},
   "outputs": [],
   "source": [
    "(257 + 24), "
   ]
  },
  {
   "cell_type": "code",
   "execution_count": null,
   "metadata": {},
   "outputs": [],
   "source": [
    "fin_data.filter(regex=\"_CP$\")"
   ]
  },
  {
   "cell_type": "code",
   "execution_count": null,
   "metadata": {},
   "outputs": [],
   "source": [
    "y_in[0]"
   ]
  },
  {
   "cell_type": "markdown",
   "metadata": {},
   "source": [
    "# CLUSTERING (ADD TO ETL!!!)"
   ]
  },
  {
   "cell_type": "markdown",
   "metadata": {},
   "source": [
    "### KMEANS"
   ]
  },
  {
   "cell_type": "code",
   "execution_count": null,
   "metadata": {},
   "outputs": [],
   "source": [
    "val_prices = fin_data.filter(regex=\"_CP$\").iloc[-2]\n",
    "val_prices.min(), val_prices.max(), val_prices.mean(), val_prices.std(), val_prices.median()"
   ]
  },
  {
   "cell_type": "code",
   "execution_count": null,
   "metadata": {},
   "outputs": [],
   "source": [
    "(val_prices <= 10).sum(), ((val_prices > 10) & (val_prices <= 100)).sum(), ((val_prices > 100) & (val_prices <= 200)).sum(), (val_prices > 200).sum()"
   ]
  },
  {
   "cell_type": "code",
   "execution_count": null,
   "metadata": {},
   "outputs": [],
   "source": [
    "# use quantiles to group data into 5 bins\n",
    "bins = pd.cut(val_prices, 3, labels=False)\n",
    "\n",
    "# create a dataframe with the bins and the corresponding prices\n",
    "df = pd.DataFrame({'bins': bins, 'CP': val_prices})\n",
    "# See min, max, and count of each bin\n",
    "df.groupby('bins')['CP'].agg(['min', 'max', 'count'])"
   ]
  },
  {
   "cell_type": "code",
   "execution_count": null,
   "metadata": {},
   "outputs": [],
   "source": []
  },
  {
   "cell_type": "code",
   "execution_count": null,
   "metadata": {},
   "outputs": [],
   "source": [
    "scaler = StandardScaler().set_output(transform=\"pandas\")\n",
    "data = scaler.fit_transform(fin_data.filter(regex=\"_CP$\")).iloc[-2] #.iloc[-3:-1].T\n",
    "data = pd.DataFrame(data.T.values.reshape(-1, 1), index=data.index, columns=[\"Close 30-04-2023\"])"
   ]
  },
  {
   "cell_type": "code",
   "execution_count": null,
   "metadata": {},
   "outputs": [],
   "source": [
    "inertia_values = []\n",
    "for n_clusters in range(1, 11):\n",
    "    kmeans = KMeans(n_clusters=n_clusters)\n",
    "    kmeans.fit(data)\n",
    "    inertia_values.append(kmeans.inertia_)\n",
    "\n",
    "# Plot the Elbow curve\n",
    "plt.plot(range(1, 11), inertia_values, marker='o')\n",
    "plt.xlabel('Number of Clusters')\n",
    "plt.ylabel('Inertia (Within-cluster Sum of Squares)')\n",
    "plt.title('Elbow Method')\n",
    "plt.show()"
   ]
  },
  {
   "cell_type": "code",
   "execution_count": null,
   "metadata": {},
   "outputs": [],
   "source": [
    "silhouette_scores = []\n",
    "for n_clusters in range(2, 11):\n",
    "    kmeans = KMeans(n_clusters=n_clusters)\n",
    "    cluster_labels = kmeans.fit_predict(data)\n",
    "    silhouette_avg = silhouette_score(data, cluster_labels)\n",
    "    silhouette_scores.append(silhouette_avg)\n",
    "\n",
    "# Plot the Silhouette Score\n",
    "plt.plot(range(2, 11), silhouette_scores, marker='o')\n",
    "plt.xlabel('Number of Clusters')\n",
    "plt.ylabel('Silhouette Score')\n",
    "plt.title('Silhouette Score Method')\n",
    "plt.show()"
   ]
  },
  {
   "cell_type": "markdown",
   "metadata": {},
   "source": [
    "### HDBSCAN"
   ]
  },
  {
   "cell_type": "code",
   "execution_count": null,
   "metadata": {},
   "outputs": [],
   "source": [
    "hdb = hdbscan.HDBSCAN(min_cluster_size=10, min_samples=100, cluster_selection_method='leaf')\n",
    "hdb_labels = hdb.fit_predict(data)"
   ]
  },
  {
   "cell_type": "code",
   "execution_count": null,
   "metadata": {},
   "outputs": [],
   "source": [
    "data[\"cluster\"] = hdb_labels"
   ]
  },
  {
   "cell_type": "code",
   "execution_count": null,
   "metadata": {},
   "outputs": [],
   "source": [
    "plt.scatter(data.index, data[\"Close 30-04-2023\"], c=cluster_labels, cmap='viridis', s=50)\n",
    "plt.xlabel('Asset')\n",
    "plt.ylabel('Close Price')\n",
    "plt.title('HDBSCAN Clustering')\n",
    "plt.show()"
   ]
  },
  {
   "cell_type": "markdown",
   "metadata": {},
   "source": [
    "### Intuition and stats show around 3 clusters seem best (intuition low, medium, high prices)"
   ]
  },
  {
   "cell_type": "code",
   "execution_count": null,
   "metadata": {},
   "outputs": [],
   "source": [
    "clusterer = KMeans(n_clusters=4) # Classify asset price as low mid high\n",
    "clusterer.fit(data)\n",
    "data[\"cluster\"] = clusterer.labels_"
   ]
  },
  {
   "cell_type": "code",
   "execution_count": null,
   "metadata": {},
   "outputs": [],
   "source": [
    "data[\"cluster\"].value_counts()"
   ]
  },
  {
   "cell_type": "code",
   "execution_count": null,
   "metadata": {},
   "outputs": [],
   "source": [
    "# Get the max and min price for each ticker in clusters[0]\n",
    "clusters = []\n",
    "for cluster in data['cluster'].unique():\n",
    "    clusters.append(data[data[\"cluster\"] == cluster].index.str.removesuffix(\"_CP\").tolist())\n",
    "    \n",
    "for i, cluster in enumerate(clusters):\n",
    "    maxs = []\n",
    "    mins = []\n",
    "    for ticker in cluster:\n",
    "        maxs.append(fin_data[f\"{ticker}_CP\"].iloc[-2].max())\n",
    "        mins.append(fin_data[f\"{ticker}_CP\"].iloc[-2].min())\n",
    "\n",
    "    print(f\"Min price for cluster {i}: {min(mins)}\")\n",
    "    print(f\"Max price for cluster {i}: {max(maxs)}\")\n",
    "    print(f\"Mean price for cluster {i}: {np.mean(maxs)}\")\n",
    "    print(f\"Median price for cluster {i}: {np.median(maxs)}\")\n",
    "    print(f\"Std price for cluster {i}: {np.std(maxs)}\")\n",
    "    print()"
   ]
  },
  {
   "cell_type": "markdown",
   "metadata": {},
   "source": [
    "### Save clustered cs data"
   ]
  },
  {
   "cell_type": "code",
   "execution_count": null,
   "metadata": {},
   "outputs": [],
   "source": [
    "for cluster in data['cluster'].unique():\n",
    "    with open(f\"./DATA/Tickers/month_tickers_clean_cluster{cluster}.txt\", \"w\") as file:\n",
    "        file.write(\"\\n\".join(data[data[\"cluster\"] == cluster].index.str.removesuffix(\"_CP\").tolist()))"
   ]
  },
  {
   "cell_type": "markdown",
   "metadata": {},
   "source": [
    "## Init data"
   ]
  },
  {
   "cell_type": "code",
   "execution_count": null,
   "metadata": {},
   "outputs": [],
   "source": [
    "LEARING_RATE = 1e-4 # 1e-4 ind standard\n",
    "EPOCHS = 3\n",
    "BATCH_SIZE = 32 # Small batch size since we are using a small dataset"
   ]
  },
  {
   "cell_type": "code",
   "execution_count": null,
   "metadata": {},
   "outputs": [],
   "source": [
    "data = CS_DATAMODULE(batch_size=BATCH_SIZE, lookback=12, pred_horizon=1, multistep=False, data_type=\"monthly\")"
   ]
  },
  {
   "cell_type": "code",
   "execution_count": null,
   "metadata": {},
   "outputs": [],
   "source": [
    "device = torch.device(\"mps\" if torch.backends.mps.is_available() else \"cpu\")\n",
    "device"
   ]
  },
  {
   "cell_type": "code",
   "execution_count": null,
   "metadata": {},
   "outputs": [],
   "source": [
    "data.prepare_data()\n",
    "data.setup()\n",
    "data.X_train_tensor.shape"
   ]
  },
  {
   "cell_type": "code",
   "execution_count": null,
   "metadata": {},
   "outputs": [],
   "source": [
    "data.X_train_tensor.min(), data.X_train_tensor.max(), data.X_val_tensor.min(), data.X_val_tensor.max(), data.X_test_tensor.min(), data.X_test_tensor.max()"
   ]
  },
  {
   "cell_type": "code",
   "execution_count": null,
   "metadata": {},
   "outputs": [],
   "source": [
    "# Get first iter of train loader using next\n",
    "x_in, y_in = next(iter(data.train_dataloader()))"
   ]
  },
  {
   "cell_type": "code",
   "execution_count": null,
   "metadata": {},
   "outputs": [],
   "source": [
    "x_in.shape, y_in.shape"
   ]
  },
  {
   "cell_type": "code",
   "execution_count": null,
   "metadata": {},
   "outputs": [],
   "source": [
    "x_in.reshape(x_in.shape[0], x_in.shape[2], x_in.shape[1], 1, x_in.shape[3]).shape"
   ]
  },
  {
   "cell_type": "markdown",
   "metadata": {},
   "source": [
    "## CNN LSTM"
   ]
  },
  {
   "cell_type": "code",
   "execution_count": 2,
   "metadata": {},
   "outputs": [
    {
     "name": "stdout",
     "output_type": "stream",
     "text": [
      "Number of batches per Epoch: 9\n"
     ]
    }
   ],
   "source": [
    "data = CS_DATAMODULE_2D(batch_size=32, lookback=12, pred_horizon=1, multistep=False, data_type=\"monthly\", pred_target=\"return\", overwrite_cache=False)\n",
    "data.prepare_data()\n",
    "data.setup()\n",
    "\n",
    "BATCH_SIZE = 32\n",
    "N_COMPANIES = int(len(data.tickers))\n",
    "N_FEATURES = int(data.X_train_tensor.shape[-1])\n",
    "# Batches per epoch which have to be rounded up to the next integer\n",
    "N_BATCHES = int(np.ceil(len(data.X_train_tensor) / BATCH_SIZE))\n",
    "print(f\"Number of batches per Epoch: {N_BATCHES}\")"
   ]
  },
  {
   "cell_type": "code",
   "execution_count": 3,
   "metadata": {},
   "outputs": [],
   "source": [
    "model = MH_CNN_2D_LSTM(n_companies=N_COMPANIES,\n",
    "                 n_features=N_FEATURES,\n",
    "                 lookback=12,\n",
    "                 epochs=100,\n",
    "                 batches_p_epoch=N_BATCHES,\n",
    "                 cnn_layers=3,\n",
    "                 conv_factor=0.5,\n",
    "                 lstm_layers=2,\n",
    "                 lstm_nodes=512,\n",
    "                 fc_layers=3,\n",
    "                 fc_nodes=N_COMPANIES,\n",
    "                 dropout=0.3,\n",
    "                 bidirectional=True,\n",
    "                 lr=1e-4,\n",
    "                 optimizer=Ranger21,\n",
    "                 activation=Mish(True),)"
   ]
  },
  {
   "cell_type": "code",
   "execution_count": 4,
   "metadata": {},
   "outputs": [
    {
     "data": {
      "text/plain": [
       "(torch.Size([266, 409, 12, 154]),\n",
       " torch.Size([1, 409, 12, 154]),\n",
       " torch.Size([1, 409, 12, 154]),\n",
       " torch.Size([266, 409]),\n",
       " torch.Size([1, 409]),\n",
       " torch.Size([1, 409]))"
      ]
     },
     "execution_count": 4,
     "metadata": {},
     "output_type": "execute_result"
    }
   ],
   "source": [
    "data.X_train_tensor.shape, data.X_val_tensor.shape, data.X_test_tensor.shape, data.y_train_tensor.shape, data.y_val_tensor.shape, data.y_test_tensor.shape"
   ]
  },
  {
   "cell_type": "code",
   "execution_count": 5,
   "metadata": {},
   "outputs": [
    {
     "data": {
      "text/plain": [
       "MH_CNN_2D_LSTM(\n",
       "  (activation): Mish(inplace=True)\n",
       "  (loss_fn): MSELoss()\n",
       "  (conv1d_channels): ModuleList(\n",
       "    (0-408): 409 x Sequential(\n",
       "      (0): Conv1d(154, 77, kernel_size=(1,), stride=(1,))\n",
       "      (1): Mish(inplace=True)\n",
       "      (2): BatchNorm1d(77, eps=1e-05, momentum=0.1, affine=True, track_running_stats=True)\n",
       "      (3): Conv1d(77, 38, kernel_size=(1,), stride=(1,))\n",
       "      (4): Mish(inplace=True)\n",
       "      (5): BatchNorm1d(38, eps=1e-05, momentum=0.1, affine=True, track_running_stats=True)\n",
       "      (6): Conv1d(38, 19, kernel_size=(1,), stride=(1,))\n",
       "      (7): Mish(inplace=True)\n",
       "      (8): BatchNorm1d(19, eps=1e-05, momentum=0.1, affine=True, track_running_stats=True)\n",
       "    )\n",
       "  )\n",
       "  (lstm): LSTM(7771, 512, num_layers=2, batch_first=True, dropout=0.3, bidirectional=True)\n",
       "  (fc): Sequential(\n",
       "    (0): Linear(in_features=1024, out_features=409, bias=True)\n",
       "    (1): Mish(inplace=True)\n",
       "    (2): Dropout(p=0.3, inplace=False)\n",
       "    (3): Linear(in_features=409, out_features=409, bias=True)\n",
       "    (4): Mish(inplace=True)\n",
       "    (5): Dropout(p=0.3, inplace=False)\n",
       "    (6): Linear(in_features=409, out_features=409, bias=True)\n",
       "    (7): Mish(inplace=True)\n",
       "    (8): Dropout(p=0.3, inplace=False)\n",
       "    (9): Linear(in_features=409, out_features=409, bias=True)\n",
       "  )\n",
       ")"
      ]
     },
     "execution_count": 5,
     "metadata": {},
     "output_type": "execute_result"
    }
   ],
   "source": [
    "model"
   ]
  },
  {
   "cell_type": "code",
   "execution_count": 6,
   "metadata": {},
   "outputs": [
    {
     "data": {
      "text/plain": [
       "torch.Size([32, 409])"
      ]
     },
     "execution_count": 6,
     "metadata": {},
     "output_type": "execute_result"
    }
   ],
   "source": [
    "x_in, y_in = next(iter(data.train_dataloader()))\n",
    "\n",
    "out = model(x_in)\n",
    "out.shape"
   ]
  },
  {
   "cell_type": "code",
   "execution_count": null,
   "metadata": {},
   "outputs": [],
   "source": [
    "data.y_train_tensor.shape"
   ]
  },
  {
   "cell_type": "code",
   "execution_count": null,
   "metadata": {},
   "outputs": [],
   "source": [
    "out[0].shape"
   ]
  },
  {
   "cell_type": "code",
   "execution_count": null,
   "metadata": {},
   "outputs": [],
   "source": [
    "out=out[0, :, :]"
   ]
  },
  {
   "cell_type": "code",
   "execution_count": null,
   "metadata": {},
   "outputs": [],
   "source": [
    "out.shape"
   ]
  },
  {
   "cell_type": "code",
   "execution_count": null,
   "metadata": {},
   "outputs": [],
   "source": [
    "out[9, :, :].shape"
   ]
  },
  {
   "cell_type": "code",
   "execution_count": null,
   "metadata": {},
   "outputs": [],
   "source": [
    "# Calculate how convolution changes shape from [1, 169, 12, 159]) to [1, 32, 3, 39])\n",
    "\n",
    "12 // (2 ** 2), 159 // (2 ** 2), "
   ]
  },
  {
   "cell_type": "markdown",
   "metadata": {},
   "source": [
    "## Conv AE"
   ]
  },
  {
   "cell_type": "code",
   "execution_count": null,
   "metadata": {},
   "outputs": [],
   "source": [
    "x_in.shape"
   ]
  },
  {
   "cell_type": "code",
   "execution_count": null,
   "metadata": {},
   "outputs": [],
   "source": [
    "convae = Conv2D_AE_LSTM(in_channels=409, lstm_hidden=2, lookback=12, num_features=159, batch_size=32, lr=1e-3)"
   ]
  },
  {
   "cell_type": "code",
   "execution_count": null,
   "metadata": {},
   "outputs": [],
   "source": [
    "convae(x_in).shape"
   ]
  },
  {
   "cell_type": "code",
   "execution_count": null,
   "metadata": {},
   "outputs": [],
   "source": [
    "from torchinfo import summary\n",
    "\n",
    "summary(convae, input_size=(BATCH_SIZE, 409, 12, 159), col_names=[\"input_size\", \"output_size\", \"num_params\", \"trainable\"])"
   ]
  },
  {
   "cell_type": "code",
   "execution_count": null,
   "metadata": {},
   "outputs": [],
   "source": []
  },
  {
   "cell_type": "code",
   "execution_count": null,
   "metadata": {},
   "outputs": [],
   "source": []
  },
  {
   "cell_type": "markdown",
   "metadata": {},
   "source": [
    "## Video Conv JP Morgan Approach"
   ]
  },
  {
   "cell_type": "code",
   "execution_count": null,
   "metadata": {},
   "outputs": [],
   "source": [
    "BATCH_SIZE = 32\n",
    "LOOKBACK = 12*21\n",
    "LEARNING_RATE = 1e-5"
   ]
  },
  {
   "cell_type": "code",
   "execution_count": null,
   "metadata": {},
   "outputs": [],
   "source": [
    "data = CS_VID_DATAMODULE(batch_size=BATCH_SIZE, lookback=LOOKBACK, pred_horizon=21, multistep=True, data_type=\"daily\", overwrite_cache=True, pred_target=\"return\")"
   ]
  },
  {
   "cell_type": "code",
   "execution_count": null,
   "metadata": {},
   "outputs": [],
   "source": [
    "device = torch.device(\"mps\" if torch.backends.mps.is_available() else \"cpu\")\n",
    "device"
   ]
  },
  {
   "cell_type": "code",
   "execution_count": null,
   "metadata": {},
   "outputs": [],
   "source": [
    "from helpers.cross_sectorial import _format_tensors_cs_vid\n",
    "fin_data = pd.read_parquet(\"./DATA/Daily/Processed/day_data_fin_tec.parquet\")\n",
    "X_train, X_val, X_test, y_train, y_val, y_test = _format_tensors_cs_vid(fin_data, lookback=12*21, pred_horizon=21, multistep=True, resize=None, pred_target=\"return\")"
   ]
  },
  {
   "cell_type": "code",
   "execution_count": null,
   "metadata": {},
   "outputs": [],
   "source": [
    "X_train.shape, y_train.shape"
   ]
  },
  {
   "cell_type": "code",
   "execution_count": null,
   "metadata": {},
   "outputs": [],
   "source": [
    "X_train.shape, X_val.shape"
   ]
  },
  {
   "cell_type": "code",
   "execution_count": null,
   "metadata": {},
   "outputs": [],
   "source": [
    "y_train.shape, y_val.shape"
   ]
  },
  {
   "cell_type": "code",
   "execution_count": null,
   "metadata": {},
   "outputs": [],
   "source": [
    "from torchvision.transforms.functional import resize\n",
    "resize(z.unsqueeze(dim=0), (64,64)).squeeze().shape"
   ]
  },
  {
   "cell_type": "code",
   "execution_count": null,
   "metadata": {},
   "outputs": [],
   "source": [
    "z.max(), z.round().min()"
   ]
  },
  {
   "cell_type": "code",
   "execution_count": null,
   "metadata": {},
   "outputs": [],
   "source": [
    "torch.nn.Sigmoid()(z).min(), torch.nn.Sigmoid()(z).max()"
   ]
  },
  {
   "cell_type": "code",
   "execution_count": null,
   "metadata": {},
   "outputs": [],
   "source": [
    "data.prepare_data()\n",
    "data.setup()\n",
    "data.X_train_tensor.shape"
   ]
  },
  {
   "cell_type": "code",
   "execution_count": null,
   "metadata": {},
   "outputs": [],
   "source": [
    "data.X_train_tensor.shape, data.X_val_tensor.shape, data.X_test_tensor.shape"
   ]
  },
  {
   "cell_type": "code",
   "execution_count": null,
   "metadata": {},
   "outputs": [],
   "source": [
    "data.y_train_tensor.shape, data.y_val_tensor.shape, data.y_test_tensor.shape"
   ]
  },
  {
   "cell_type": "code",
   "execution_count": null,
   "metadata": {},
   "outputs": [],
   "source": [
    "np.isnan(data.X_train_tensor.numpy()).sum()"
   ]
  },
  {
   "cell_type": "code",
   "execution_count": null,
   "metadata": {},
   "outputs": [],
   "source": [
    "data.X_train_tensor.min(), data.X_train_tensor.max(), data.X_val_tensor.min(), data.X_val_tensor.max(), data.X_test_tensor.min(), data.X_test_tensor.max()"
   ]
  },
  {
   "cell_type": "code",
   "execution_count": null,
   "metadata": {},
   "outputs": [],
   "source": [
    "# Get first iter of train loader using next\n",
    "x_in, y_in = next(iter(data.train_dataloader()))"
   ]
  },
  {
   "cell_type": "code",
   "execution_count": null,
   "metadata": {},
   "outputs": [],
   "source": [
    "x_in.shape, y_in.shape"
   ]
  },
  {
   "cell_type": "code",
   "execution_count": null,
   "metadata": {},
   "outputs": [],
   "source": [
    "x_in.squeeze().shape, y_in.squeeze().shape"
   ]
  },
  {
   "cell_type": "code",
   "execution_count": null,
   "metadata": {},
   "outputs": [],
   "source": [
    "y_in.squeeze()[-1].shape"
   ]
  },
  {
   "cell_type": "code",
   "execution_count": null,
   "metadata": {},
   "outputs": [],
   "source": [
    "from torchvision.utils import make_grid\n",
    "\n",
    "plt.imshow(x_in.squeeze()[-1].numpy(), cmap=\"gray\")"
   ]
  },
  {
   "cell_type": "code",
   "execution_count": null,
   "metadata": {},
   "outputs": [],
   "source": [
    "plt.imshow(y_in.squeeze().numpy(), cmap=\"gray\")"
   ]
  },
  {
   "cell_type": "code",
   "execution_count": null,
   "metadata": {},
   "outputs": [],
   "source": [
    "convlstmae = ConvLSTM_AE(\n",
    "    batch_size=BATCH_SIZE,\n",
    "    lookback=LOOKBACK,\n",
    "    pred_horizon=1,\n",
    "    hidden_dim=64,\n",
    "    lr=LEARNING_RATE,)"
   ]
  },
  {
   "cell_type": "code",
   "execution_count": null,
   "metadata": {},
   "outputs": [],
   "source": [
    "x_in.shape, y_in.squeeze().shape"
   ]
  },
  {
   "cell_type": "code",
   "execution_count": null,
   "metadata": {},
   "outputs": [],
   "source": [
    "pred1 = convlstmae(x_in)"
   ]
  },
  {
   "cell_type": "code",
   "execution_count": null,
   "metadata": {},
   "outputs": [],
   "source": [
    "pred1.squeeze().shape"
   ]
  },
  {
   "cell_type": "code",
   "execution_count": null,
   "metadata": {},
   "outputs": [],
   "source": [
    "pred1.min(), pred1.max(), pred1.mean(), pred1.std()"
   ]
  },
  {
   "cell_type": "code",
   "execution_count": null,
   "metadata": {},
   "outputs": [],
   "source": [
    "x_in[0][-1].min(), x_in[0][-1].max(), x_in[0][-1].mean(), x_in[0][-1].std(), x_in[0][-1].median()"
   ]
  },
  {
   "cell_type": "code",
   "execution_count": null,
   "metadata": {},
   "outputs": [],
   "source": [
    "show(torchvision.utils.make_grid(x_in[0]))"
   ]
  },
  {
   "cell_type": "code",
   "execution_count": null,
   "metadata": {},
   "outputs": [],
   "source": [
    "plt.imshow(y_in.squeeze(), cmap=\"gray\")"
   ]
  },
  {
   "cell_type": "code",
   "execution_count": null,
   "metadata": {},
   "outputs": [],
   "source": [
    "plt.imshow(pred1.detach().cpu().squeeze(), cmap=\"gray\")"
   ]
  },
  {
   "cell_type": "code",
   "execution_count": null,
   "metadata": {},
   "outputs": [],
   "source": [
    "from torchinfo import summary\n",
    "\n",
    "summary(convlstmae, input_size=(x_in.shape), col_names=[\"input_size\", \"output_size\", \"num_params\", \"trainable\"])"
   ]
  },
  {
   "cell_type": "code",
   "execution_count": null,
   "metadata": {},
   "outputs": [],
   "source": []
  },
  {
   "cell_type": "code",
   "execution_count": null,
   "metadata": {},
   "outputs": [],
   "source": []
  },
  {
   "cell_type": "markdown",
   "metadata": {},
   "source": [
    "## ConvAELSTM"
   ]
  },
  {
   "cell_type": "markdown",
   "metadata": {},
   "source": [
    "### First lets get a convautoencoder working"
   ]
  },
  {
   "attachments": {
    "image.png": {
     "image/png": "[encoded data removed]"
    }
   },
   "cell_type": "markdown",
   "metadata": {},
   "source": [
    "![image.png](attachment:image.png)\n",
    "\n",
    "n_seq = 409 (num of companies - channels aka rows stays 1)"
   ]
  },
  {
   "cell_type": "code",
   "execution_count": null,
   "metadata": {},
   "outputs": [],
   "source": [
    "from models.cross_sectorial import ConvLSTMCell, ConvLSTM"
   ]
  },
  {
   "cell_type": "code",
   "execution_count": null,
   "metadata": {},
   "outputs": [],
   "source": [
    "x_in.shape"
   ]
  },
  {
   "cell_type": "code",
   "execution_count": null,
   "metadata": {},
   "outputs": [],
   "source": [
    "u = x_in.reshape(x_in.shape[0], x_in.shape[1], 1, x_in.shape[2], x_in.shape[3])\n",
    "u.shape"
   ]
  },
  {
   "cell_type": "code",
   "execution_count": null,
   "metadata": {},
   "outputs": [],
   "source": [
    "zumba = ConvLSTMCell"
   ]
  },
  {
   "cell_type": "code",
   "execution_count": null,
   "metadata": {},
   "outputs": [],
   "source": [
    "zumba(u)"
   ]
  },
  {
   "cell_type": "code",
   "execution_count": null,
   "metadata": {},
   "outputs": [],
   "source": [
    "convae = Conv_AE_LSTM(channels_in=409, encoder_dim=256, lr=1e-3, batch_size=32, lookback=12, num_features=159)"
   ]
  },
  {
   "cell_type": "code",
   "execution_count": null,
   "metadata": {},
   "outputs": [],
   "source": [
    "convae(x_in).shape"
   ]
  },
  {
   "cell_type": "code",
   "execution_count": null,
   "metadata": {},
   "outputs": [],
   "source": [
    "from torchinfo import summary\n",
    "\n",
    "summary(convae, input_size=(BATCH_SIZE, 409, 12, 159), col_names=[\"input_size\", \"output_size\", \"num_params\", \"trainable\"])"
   ]
  },
  {
   "cell_type": "code",
   "execution_count": null,
   "metadata": {},
   "outputs": [],
   "source": [
    "early_stopping = pl.callbacks.EarlyStopping(monitor=\"val_loss\", patience=10, mode=\"min\")\n",
    "convae_checkpoint = pl.callbacks.ModelCheckpoint(save_top_k=1, monitor=\"val_loss\", mode=\"min\")\n",
    "\n",
    "compiled_convae = torch.compile(convae, mode=\"reduce-overhead\", backend=\"aot_eager\")\n",
    "mps.empty_cache()\n",
    "\n",
    "convlstm_trainer = pl.Trainer(accelerator=\"gpu\", max_epochs=200, log_every_n_steps=1, callbacks=[early_stopping, convae_checkpoint], enable_checkpointing=True, enable_progress_bar=True, default_root_dir=\"./lightning_logs/convae/\")\n",
    "convlstm_trainer.fit(model=compiled_convae, datamodule=data)\n",
    "mps.empty_cache()"
   ]
  },
  {
   "cell_type": "code",
   "execution_count": null,
   "metadata": {},
   "outputs": [],
   "source": []
  },
  {
   "cell_type": "code",
   "execution_count": null,
   "metadata": {},
   "outputs": [],
   "source": []
  },
  {
   "cell_type": "code",
   "execution_count": null,
   "metadata": {},
   "outputs": [],
   "source": []
  },
  {
   "cell_type": "code",
   "execution_count": null,
   "metadata": {},
   "outputs": [],
   "source": [
    "%load_ext tensorboard\n",
    "%tensorboard --logdir lightning_logs/"
   ]
  },
  {
   "cell_type": "code",
   "execution_count": null,
   "metadata": {},
   "outputs": [],
   "source": [
    "print(f\"Best model path: {convlstm_checkpoint.best_model_path}\")\n",
    "print(f\"Best model score: {convlstm_checkpoint.best_model_score}\")"
   ]
  },
  {
   "cell_type": "code",
   "execution_count": null,
   "metadata": {},
   "outputs": [],
   "source": [
    "LEARNING_RATE = 1e-4 # 1e-4 ind standard\n",
    "EPOCHS = 10_000\n",
    "BATCH_SIZE = 32\n",
    "LOOKBACK = 12\n",
    "PRED_HORIZON = 1\n",
    "MULTISTEP = False\n",
    "TRAIN_WORKERS = 0 # 0 fastest ...\n",
    "\n",
    "# data = CS_VID_DATAMODULE(batch_size=BATCH_SIZE, lookback=LOOKBACK, pred_horizon=PRED_HORIZON, multistep=MULTISTEP, data_type=\"monthly\", resize=None, overwrite_cache=True, pred_target=\"return\", train_workers=TRAIN_WORKERS)\n",
    "data = CS_DATAMODULE(batch_size=BATCH_SIZE, lookback=LOOKBACK, pred_horizon=PRED_HORIZON, multistep=MULTISTEP, data_type=\"monthly\", pred_target=\"price\", overwrite_cache=False, cluster=0)"
   ]
  },
  {
   "cell_type": "code",
   "execution_count": null,
   "metadata": {},
   "outputs": [],
   "source": [
    "# /Users/johnbergmann/Developer/Master-Thesis/lightning_logs/version_29/checkpoints/epoch=5493-step=49446.ckpt\n",
    "# lightning_logs/convae/lightning_logs/version_22/checkpoints/epoch=8-step=306.ckpt\n",
    "# lightning_logs\\convae\\lightning_logs\\version_15\\checkpoints\\epoch=193-step=1746.ckpt\n",
    "# BEST 4 NOW!: lightning_logs\\\\convae\\\\lightning_logs\\\\version_39\\\\checkpoints\\\\epoch=1923-step=17316.ckpt\n",
    "best_model = CNN_2D_LSTM.load_from_checkpoint(checkpoint_path=\"lightning_logs\\\\convae\\\\lightning_logs\\\\version_45\\\\checkpoints\\\\epoch=974-step=8775.ckpt\").to(\"cpu\")"
   ]
  },
  {
   "cell_type": "code",
   "execution_count": null,
   "metadata": {},
   "outputs": [],
   "source": [
    "data.prepare_data()\n",
    "data.setup()\n",
    "X_val_tensor = data.X_val_tensor.to(\"cpu\")\n",
    "y_val_tensor = data.y_val_tensor.to(\"cpu\")"
   ]
  },
  {
   "cell_type": "code",
   "execution_count": null,
   "metadata": {},
   "outputs": [],
   "source": [
    "X_val_tensor.shape, y_val_tensor.shape "
   ]
  },
  {
   "cell_type": "code",
   "execution_count": null,
   "metadata": {},
   "outputs": [],
   "source": [
    "data.y_train_tensor[-1].cpu().shape"
   ]
  },
  {
   "cell_type": "code",
   "execution_count": null,
   "metadata": {},
   "outputs": [],
   "source": [
    "best_model.eval()\n",
    "with torch.inference_mode():\n",
    "    y_pred = best_model(X_val_tensor.to(\"cpu\")).cpu().detach().numpy()"
   ]
  },
  {
   "cell_type": "code",
   "execution_count": null,
   "metadata": {},
   "outputs": [],
   "source": [
    "# Plot predictions vs actuals\n",
    "\n",
    "plt.figure(figsize=(15, 6))\n",
    "plt.plot(y_val_tensor.squeeze(), label='actual')\n",
    "plt.plot(data.y_train_tensor[-1].cpu(), label='last train sample')\n",
    "plt.plot(y_pred.squeeze(), label='predicted')\n",
    "plt.legend()\n",
    "plt.show();"
   ]
  },
  {
   "cell_type": "code",
   "execution_count": null,
   "metadata": {},
   "outputs": [],
   "source": [
    "# Plot predictions vs actuals\n",
    "\n",
    "plt.figure(figsize=(15, 6))\n",
    "plt.plot(data.y_train_tensor[-1].cpu(), label='last train sample')\n",
    "plt.plot(y_pred.squeeze(), label='predicted')\n",
    "plt.legend()\n",
    "plt.show();\n"
   ]
  },
  {
   "attachments": {
    "image.png": {
     "image/png": "[encoded data removed]"
    }
   },
   "cell_type": "markdown",
   "metadata": {},
   "source": [
    "![image.png](attachment:image.png)"
   ]
  },
  {
   "cell_type": "code",
   "execution_count": null,
   "metadata": {},
   "outputs": [],
   "source": [
    "# R2 score and MAPE\n",
    "from sklearn.metrics import r2_score, mean_absolute_error, mean_absolute_percentage_error, mean_squared_error\n",
    "print(f\"R2 score: {r2_score(y_val_tensor.squeeze(), y_pred.squeeze()):.4f}\")\n",
    "print(f\"MAPE: {mean_absolute_percentage_error(y_val_tensor, y_pred):.4%}\")\n",
    "print(f\"MAE: {mean_absolute_error(y_val_tensor, y_pred):.4f}\")"
   ]
  },
  {
   "cell_type": "code",
   "execution_count": null,
   "metadata": {},
   "outputs": [],
   "source": [
    "# Show without scientific notation\n",
    "np.set_printoptions(suppress=True)\n",
    "np.round(y_pred.squeeze(), 2)"
   ]
  },
  {
   "cell_type": "code",
   "execution_count": null,
   "metadata": {},
   "outputs": [],
   "source": [
    "y_val"
   ]
  },
  {
   "cell_type": "markdown",
   "metadata": {},
   "source": [
    "create 2 cluster"
   ]
  },
  {
   "cell_type": "markdown",
   "metadata": {},
   "source": [
    "# BAZINGA!"
   ]
  }
 ],
 "metadata": {
  "kernelspec": {
   "display_name": "Python 3 (ipykernel)",
   "language": "python",
   "name": "python3"
  },
  "language_info": {
   "codemirror_mode": {
    "name": "ipython",
    "version": 3
   },
   "file_extension": ".py",
   "mimetype": "text/x-python",
   "name": "python",
   "nbconvert_exporter": "python",
   "pygments_lexer": "ipython3",
   "version": "3.10.12"
  }
 },
 "nbformat": 4,
 "nbformat_minor": 2
}
